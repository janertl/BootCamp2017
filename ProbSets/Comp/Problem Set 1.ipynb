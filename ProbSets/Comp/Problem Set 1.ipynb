{
 "cells": [
  {
   "cell_type": "code",
   "execution_count": 1,
   "metadata": {
    "collapsed": true
   },
   "outputs": [],
   "source": [
    "import numpy as np"
   ]
  },
  {
   "cell_type": "markdown",
   "metadata": {},
   "source": [
    "# Lab 3: Introduction to Numpy"
   ]
  },
  {
   "cell_type": "markdown",
   "metadata": {},
   "source": [
    "Problem 1: Multiply two given matrices"
   ]
  },
  {
   "cell_type": "code",
   "execution_count": 2,
   "metadata": {
    "collapsed": false
   },
   "outputs": [
    {
     "data": {
      "text/plain": [
       "array([[ 37,  14, -32, -10],\n",
       "       [-54,  -7,  58,  65]])"
      ]
     },
     "execution_count": 2,
     "metadata": {},
     "output_type": "execute_result"
    }
   ],
   "source": [
    "def p1p1(A,B):\n",
    "    \n",
    "    return A.dot(B)\n",
    "A = np.array([[3, -1, 4], [1, 5, -9]])\n",
    "B = np.array([[2, 6, -5, 3], [5, -8, 9, 7],[9, -3, -2, -3]])\n",
    "p1p1(A, B)\n"
   ]
  },
  {
   "cell_type": "markdown",
   "metadata": {},
   "source": [
    "Problem 2: Multiply two given matrices"
   ]
  },
  {
   "cell_type": "code",
   "execution_count": 3,
   "metadata": {
    "collapsed": false
   },
   "outputs": [
    {
     "data": {
      "text/plain": [
       "array([[0, 0, 0],\n",
       "       [0, 0, 0],\n",
       "       [0, 0, 0]])"
      ]
     },
     "execution_count": 3,
     "metadata": {},
     "output_type": "execute_result"
    }
   ],
   "source": [
    "def p1p2(A):\n",
    "    \n",
    "    return - A.dot(A.dot(A)) + 9 * A.dot(A) - 15 * A\n",
    "\n",
    "A =  np.array([[3, 1, 4], [1, 5, 9],[-5, 3, 1]])\n",
    "p1p2(A)"
   ]
  },
  {
   "cell_type": "markdown",
   "metadata": {},
   "source": [
    "Problem 3: Initialize two matrices A, B without array and return ABA"
   ]
  },
  {
   "cell_type": "code",
   "execution_count": 4,
   "metadata": {
    "collapsed": false
   },
   "outputs": [
    {
     "data": {
      "text/plain": [
       "array([[ -7,  -8,  -3,   8,  25,  48,  77],\n",
       "       [ -6, -12, -12,  -6,   6,  24,  48],\n",
       "       [ -5, -10, -15, -14,  -7,   6,  25],\n",
       "       [ -4,  -8, -12, -16, -14,  -6,   8],\n",
       "       [ -3,  -6,  -9, -12, -15, -12,  -3],\n",
       "       [ -2,  -4,  -6,  -8, -10, -12,  -8],\n",
       "       [ -1,  -2,  -3,  -4,  -5,  -6,  -7]])"
      ]
     },
     "execution_count": 4,
     "metadata": {},
     "output_type": "execute_result"
    }
   ],
   "source": [
    "def p1p3():\n",
    "    A = np.triu(np.ones((7,7), dtype=np.int))\n",
    "    B = 5 * np.ones((7,7), dtype=np.int) - 6 * np.tril(np.ones((7,7), dtype=np.int))\n",
    "    return  A.dot(B.dot(A)).astype(np.int64)\n",
    "\n",
    "p1p3()"
   ]
  },
  {
   "cell_type": "markdown",
   "metadata": {},
   "source": [
    "Problem 4: Write a function, such that given an array, it makes a copy and returns copy with all negative entries set to zero "
   ]
  },
  {
   "cell_type": "code",
   "execution_count": 5,
   "metadata": {
    "collapsed": true
   },
   "outputs": [],
   "source": [
    "def p1p4(A):\n",
    "    B = np.copy(A)\n",
    "    neg = B < 0 \n",
    "    B[neg] = 0\n",
    "    return B\n"
   ]
  },
  {
   "cell_type": "markdown",
   "metadata": {},
   "source": [
    "Problem 5: Stack given matrices"
   ]
  },
  {
   "cell_type": "code",
   "execution_count": 6,
   "metadata": {
    "collapsed": false
   },
   "outputs": [
    {
     "data": {
      "text/plain": [
       "array([[ 0.,  0.,  0.,  0.,  1.,  1.,  0.,  0.],\n",
       "       [ 0.,  0.,  0.,  2.,  3.,  0.,  1.,  0.],\n",
       "       [ 0.,  0.,  0.,  4.,  5.,  0.,  0.,  1.],\n",
       "       [ 0.,  2.,  4.,  0.,  0.,  0.,  0.,  0.],\n",
       "       [ 1.,  3.,  5.,  0.,  0.,  0.,  0.,  0.],\n",
       "       [ 3.,  0.,  0.,  0.,  0., -2., -0., -0.],\n",
       "       [ 3.,  3.,  0.,  0.,  0., -0., -2., -0.],\n",
       "       [ 3.,  3.,  3.,  0.,  0., -0., -0., -2.]])"
      ]
     },
     "execution_count": 6,
     "metadata": {},
     "output_type": "execute_result"
    }
   ],
   "source": [
    "def p1p5(A, B, C):\n",
    "    V1 = np.vstack([np.zeros((A.shape[1], A.shape[1]), dtype=np.int), A, B])\n",
    "    V2 = np.vstack([A.T, np.zeros((A.shape[0], A.shape[0]), dtype=np.int), np.zeros((B.shape[0], A.shape[0]), dtype=np.int)])\n",
    "    V3 = np.vstack([np.eye(B.shape[0]), np.zeros((A.shape[0], B.shape[0],), dtype=np.int), C ])\n",
    "    M = np.hstack([V1, V2, V3])\n",
    "    return M\n",
    "\n",
    "A = np.array([[0, 2, 4],[1, 3, 5]])\n",
    "B = (3 * np.triu(np.ones((3,3), dtype=np.int))).T\n",
    "C = -2 * np.eye(3)\n",
    "\n",
    "p1p5(A, B, C)"
   ]
  },
  {
   "cell_type": "markdown",
   "metadata": {},
   "source": [
    "Problem 6: Write a function such that, give a matrix, it returns a row-stochastic matrix by dividing each row by its sum"
   ]
  },
  {
   "cell_type": "code",
   "execution_count": 7,
   "metadata": {
    "collapsed": false
   },
   "outputs": [],
   "source": [
    "def p1p6(A):\n",
    "    x = A.sum(axis=1) # this is a row vector (dividing by it divides rows)\n",
    "    return (A.T/x).T"
   ]
  },
  {
   "cell_type": "markdown",
   "metadata": {},
   "source": [
    "Problem 7: Write a function that returns the greatest product of four adjacent numbers in the same direction in the given grid"
   ]
  },
  {
   "cell_type": "code",
   "execution_count": 8,
   "metadata": {
    "collapsed": false
   },
   "outputs": [
    {
     "name": "stdout",
     "output_type": "stream",
     "text": [
      "70600674\n"
     ]
    }
   ],
   "source": [
    "grid = np.load(r\"/Users/Jan/Desktop/BootCamp2017/ProbSets/Comp/grid.npy\")\n",
    "\n",
    "def maxmult4(grid): \n",
    "    rmx = np.max(grid[:,:-3] * grid[:,1:-2] * grid[:,2:-1] * grid[:,3:])\n",
    "    cmx = np.max(grid[:-3,:] * grid[1:-2,:] * grid[2:-1,:] * grid[3:,:])\n",
    "    rdmx = np.max(grid[:-3,:-3] * grid[1:-2,1:-2] * grid[2:-1,2:-1] * grid[3:,3:])\n",
    "    ldmx = np.max(grid[:-3,3:] * grid[1:-2,2:-1] * grid[2:-1,1:-2] * grid[3:,:-3])\n",
    "    return max(rmx,cmx,rdmx,ldmx)\n",
    "\n",
    "print(maxmult4(grid))"
   ]
  },
  {
   "cell_type": "markdown",
   "metadata": {},
   "source": [
    "# Lab 2: The Standard Library"
   ]
  },
  {
   "cell_type": "markdown",
   "metadata": {},
   "source": [
    "Problem 1: Write a function that accepts a list of numbers as inputs, and returns a new list wiht the min, max, avg of the original list"
   ]
  },
  {
   "cell_type": "code",
   "execution_count": 9,
   "metadata": {
    "collapsed": false
   },
   "outputs": [
    {
     "data": {
      "text/plain": [
       "(3, 0, 1.3333333333333333)"
      ]
     },
     "execution_count": 9,
     "metadata": {},
     "output_type": "execute_result"
    }
   ],
   "source": [
    "def l2p1(v):\n",
    "    return max(v), min(v), sum(v)/len(v)\n",
    "\n",
    "l2p1([3, 1, 0])"
   ]
  },
  {
   "cell_type": "raw",
   "metadata": {},
   "source": [
    "Problem 2: Explore which object types are mutable, and print a statement of your conclusions"
   ]
  },
  {
   "cell_type": "code",
   "execution_count": 10,
   "metadata": {
    "collapsed": false
   },
   "outputs": [
    {
     "name": "stdout",
     "output_type": "stream",
     "text": [
      "The statement \"[numbers, strings, lists, tuples, dictionaries] are mutable\" is [False, False, True, False, True], respectively.\n"
     ]
    }
   ],
   "source": [
    "def l2p2():\n",
    "    v = [False] * 5\n",
    "    a = 3\n",
    "    b = a\n",
    "    b += 1\n",
    "    v[0] = (b == a)\n",
    "    a = 'a'\n",
    "    b = a\n",
    "    b += 'a'\n",
    "    v[1] = (b == a)\n",
    "    a = list([1, 2, 3, 4, 5])\n",
    "    b = a\n",
    "    b.append(1)\n",
    "    v[2] = (b == a)\n",
    "    a = (2, 3, 4, 5, 6)\n",
    "    b = a\n",
    "    b += (1,)\n",
    "    v[3] = (b == a)\n",
    "    a = {1: 'x', 2: 'b'}\n",
    "    b = a\n",
    "    b[1] = 'a'\n",
    "    v[4] = (b == a)\n",
    "    \n",
    "    return print(\"The statement \\\"[numbers, strings, lists, tuples, dictionaries] are mutable\\\" is \" + str(v) +\", respectively.\")\n",
    "\n",
    "l2p2()"
   ]
  },
  {
   "cell_type": "markdown",
   "metadata": {},
   "source": [
    "Problem 3: Create a module called calculator.py. Write a function that returns the sum of two arguments, a function that returns the product of two arguments, and a function that returns the square root of a single argument. When the file is either run or imported, nothing should be executed.\n",
    "\n",
    "In your main solutions file, import your new calculator module. Using only the function defined in the module, write a new funciton that calculates  the length of the hypotenuse of a right triangle given the lengths of the other two sides."
   ]
  },
  {
   "cell_type": "code",
   "execution_count": 11,
   "metadata": {
    "collapsed": false
   },
   "outputs": [
    {
     "data": {
      "text/plain": [
       "5.0"
      ]
     },
     "execution_count": 11,
     "metadata": {},
     "output_type": "execute_result"
    }
   ],
   "source": [
    "import calculator as calc\n",
    "\n",
    "def hypothenuse(a, b):\n",
    "    return calc.root(calc.sum(calc.prod(a,a), calc.prod(b,b)))\n",
    "\n",
    "hypothenuse(3, 4)"
   ]
  },
  {
   "cell_type": "markdown",
   "metadata": {},
   "source": [
    "Problem 4: "
   ]
  },
  {
   "cell_type": "markdown",
   "metadata": {
    "collapsed": true
   },
   "source": [
    "Solutions are in shutthebox.py "
   ]
  },
  {
   "cell_type": "markdown",
   "metadata": {},
   "source": [
    "# Lab 4: Object-Oriented Programming"
   ]
  },
  {
   "cell_type": "markdown",
   "metadata": {},
   "source": [
    "Problem 1:"
   ]
  },
  {
   "cell_type": "code",
   "execution_count": 12,
   "metadata": {
    "collapsed": false
   },
   "outputs": [
    {
     "name": "stdout",
     "output_type": "stream",
     "text": [
      "['pencil', 'pen', 'paper', 'computer']\n",
      "No room!\n",
      "[]\n"
     ]
    }
   ],
   "source": [
    "class Backpack(object):\n",
    "    \"\"\"A Backpack object class. Has a name and a list of contents.\n",
    "Attributes:\n",
    "name (str): the name of the backpack's owner. contents (list): the contents of the backpack.\n",
    "\"\"\"\n",
    "    def __init__(self, name, color, max_size = 5):           # This function is the constructor.\n",
    "        \"\"\"Set the name and initialize an empty contents list.\n",
    "Inputs:\n",
    "name (str): the name of the backpack's owner.\n",
    "        Returns:\n",
    "            A Backpack object wth no contents.\n",
    "\"\"\"\n",
    "        self.name = name # Initialize some attributes.\n",
    "        self.color = color\n",
    "        self.max_size = max_size\n",
    "        self.contents = []\n",
    "        \n",
    "    def put(self, item):\n",
    "        \"\"\"Add 'item' to the backpack's list of contents.\"\"\" \n",
    "        if len(self.contents) < 5:\n",
    "            self.contents.append(item)\n",
    "        else:\n",
    "            print(\"No room!\")\n",
    "            \n",
    "    def take(self, item):\n",
    "        \"\"\"Remove 'item' from the backpack's list of contents.\"\"\" \n",
    "        self.contents.remove(item)\n",
    "        \n",
    "    def dump(self):\n",
    "        self.contents = []\n",
    "\n",
    "def test_backpack():\n",
    "    testpack = Backpack(\"Barry\", \"black\")\n",
    "    if testpack.max_size != 5:\n",
    "        print(\"Wrong default max_size!\")\n",
    "    for item in [\"pencil\", \"pen\", \"paper\", \"computer\"]:\n",
    "        testpack.put(item)\n",
    "    print(testpack.contents)\n",
    "    testpack.put(\"item1\")\n",
    "    testpack.put(\"item2\")\n",
    "    testpack.dump()\n",
    "    print(testpack.contents)\n",
    "    \n",
    "test_backpack()\n",
    "    \n",
    "    "
   ]
  },
  {
   "cell_type": "markdown",
   "metadata": {},
   "source": [
    "Problem 2:"
   ]
  },
  {
   "cell_type": "code",
   "execution_count": 13,
   "metadata": {
    "collapsed": false
   },
   "outputs": [],
   "source": [
    "# Inherit from the Backpack class in the class definition.\n",
    "class Knapsack(Backpack):\n",
    "    \"\"\"A Jetpack object class. Inherits from the Backpack class.\n",
    "    A jetpack is smaller than a backpack and can be tied closed.\n",
    "    Attributes:\n",
    "    name (str): the name of the jetpack's owner.\n",
    "    color (str): the color of the jetpack.\n",
    "    max_size (int): the maximum number of items that can fit\n",
    "         in the jetpack.\n",
    "    contents (list): the contents of the backpack.\n",
    "    fuel (float): how much fuel the jetpack carr\n",
    "    \"\"\"\n",
    "    def __init__(self, name, color, max_size=2, fuel = 10):\n",
    "        \"\"\"Use the Backpack constructor to initialize the name, color,\n",
    "        and max_size attributes, and adds the fuel attribute. A jetpack only holds 2 item by default\n",
    "        instead of 5.\n",
    "\n",
    "        Inputs:\n",
    "            name (str): the name of the jetpack's owner.\n",
    "            color (str): the color of the jetpack.\n",
    "            max_size (int): the maximum number of items that can fit\n",
    "                 in the jetpack. Defaults to 3.\n",
    "        Returns:\n",
    "              A jetpack object with no contents.\n",
    "        \"\"\"\n",
    "        Backpack.__init__(self, name, color, max_size)\n",
    "        self.fuel = fuel\n",
    "        \n",
    "        def put(self, item):\n",
    "            \"\"\"If the jetpack is untied, use the Backpack.put() method.\"\"\"\n",
    "            Backpack.put(self, item)\n",
    "            \n",
    "        def take(self, item):\n",
    "            \"\"\"If the jetpack is untied, use the Backpack.take() method.\"\"\"\n",
    "            if self.closed:\n",
    "                print(\"I'm closed!\") \n",
    "            else:\n",
    "                Backpack.take(self, item)\n",
    "                \n",
    "        def dump(self):\n",
    "            self.contents = []     \n",
    "            self.fuel = 0\n",
    "            \n",
    "        def fly():\n",
    "            fuel_needed = float(raw_input(\"How much fuel does the trip take?\"))\n",
    "            if self.fuel >= fuel_needed:\n",
    "                print(\"Whooosh - Off we go!\")\n",
    "                self.fuel -= fuel_needed\n",
    "            else:\n",
    "                print(\"Not enough fuel\")\n",
    "                  "
   ]
  },
  {
   "cell_type": "markdown",
   "metadata": {},
   "source": [
    "Problem 3:"
   ]
  },
  {
   "cell_type": "code",
   "execution_count": 14,
   "metadata": {
    "collapsed": false
   },
   "outputs": [],
   "source": [
    "class Backpack(object):\n",
    "    \"\"\"A Backpack object class. Has a name and a list of contents.\n",
    "    Attributes:\n",
    "    name (str): the name of the backpack's owner. \n",
    "    contents (list): the contents of the backpack.\n",
    "    \"\"\"\n",
    "    def __init__(self, name, color, max_size = 5):           # This function is the constructor.\n",
    "        \"\"\"Set the name and initialize an empty contents list.\n",
    "        Inputs:\n",
    "        name (str): the name of the backpack's owner.\n",
    "        Returns:\n",
    "            A Backpack object wth no contents.\n",
    "        \"\"\"\n",
    "        self.name = name # Initialize some attributes.\n",
    "        self.color = color\n",
    "        self.max_size = max_size\n",
    "        self.contents = []\n",
    "        \n",
    "    def put(self, item):\n",
    "        \"\"\"Add 'item' to the backpack's list of contents.\"\"\" \n",
    "        if len(self.contents) < 5:\n",
    "            self.contents.append(item)\n",
    "        else:\n",
    "            print(\"No room!\")\n",
    "            \n",
    "    def take(self, item):\n",
    "        \"\"\"Remove 'item' from the backpack's list of contents.\"\"\" \n",
    "        self.contents.remove(item)\n",
    "        \n",
    "    def dump(self):\n",
    "        self.contents = []\n",
    "\n",
    "    def __eq__(self, other):\n",
    "        nmeq = self.name == other.name \n",
    "        cleq = self.color == other.name\n",
    "        cteq = len(self.contents) == len(other.contents)\n",
    "        return  nmeq and cleq and cteq \n",
    "    \n",
    "    #def __str__(self):\n",
    "    #    return \"Owner:\" + '\\t'+ self.name + \"\\nColor:\\t\" +self.color+  \"\\nSize: \\t\"+ str(len(self.contents)) + \"\\nMax Size:\\t\" + str(self.max_size) + \"\\nContents:\\t\" + str(self.contents)\n",
    "\n",
    "    def __str__(self):\n",
    "        print(\"Owner:\" + \"\\t\" + \"\\t\" + self.name + \"\\n\" +\\\n",
    "            \"Color:\" + \"\\t\" + \"\\t\" + self.color + \"\\n\" +\\\n",
    "            \"Size:\" + \"\\t\" + \"\\t\" +  str(len(self.contents))  + \"\\n\" +\\\n",
    "            \"Max Size:\" + \"\\t\" +  str(self.max_size)  + \"\\n\" +\\\n",
    "            \"Contents:\" + \"\\t\" +  str(self.contents))\n",
    "        return ''\n",
    "       "
   ]
  },
  {
   "cell_type": "code",
   "execution_count": 15,
   "metadata": {
    "collapsed": false
   },
   "outputs": [
    {
     "name": "stdout",
     "output_type": "stream",
     "text": [
      "Owner:\t\tBarry\n",
      "Color:\t\tblack\n",
      "Size:\t\t4\n",
      "Max Size:\t5\n",
      "Contents:\t['pencil', 'pen', 'paper', 'computer']\n"
     ]
    },
    {
     "data": {
      "text/plain": [
       "''"
      ]
     },
     "execution_count": 15,
     "metadata": {},
     "output_type": "execute_result"
    }
   ],
   "source": [
    "testpack = Backpack(\"Barry\", \"black\")\n",
    "for item in [\"pencil\", \"pen\", \"paper\", \"computer\"]:\n",
    "        testpack.put(item)\n",
    "str(testpack)"
   ]
  },
  {
   "cell_type": "markdown",
   "metadata": {},
   "source": [
    "Problem 4:"
   ]
  },
  {
   "cell_type": "code",
   "execution_count": null,
   "metadata": {
    "collapsed": false
   },
   "outputs": [],
   "source": [
    "\n",
    "class ComplexNumber(object):\n",
    "    \"\"\"The complex numbers as a class.\n",
    "    real (float):  the real part\n",
    "    imag (float):  the imaginary part\n",
    "    \"\"\"\n",
    "    def __init__(self, real, imag):\n",
    "        self.real = real\n",
    "        self.imag = imag\n",
    "        \n",
    "    def conjugate(self):\n",
    "        conj = ComplexNumber(self.real, -self.imag)\n",
    "        return conj\n",
    "    \n",
    "    def __abs__(self):\n",
    "        from math import sqrt\n",
    "        a = self.real\n",
    "        b = self.imag\n",
    "        return sqrt(a*a + b*b)\n",
    "    \n",
    "    def __lt__(self, other):\n",
    "        return (abs(self) < abs(other))\n",
    "    \n",
    "    def __gt__(self, other):\n",
    "        return (abs(self) > abs(other))\n",
    "    \n",
    "    def __eq__(self, other):\n",
    "        eqre = (self.real == other.real)\n",
    "        eqim = (real.imag == other.imag)\n",
    "        return eqre and eqim\n",
    "    \n",
    "    def __ne__(self, other):\n",
    "        eqre = (self.real == other.real)\n",
    "        eqim = (real.imag == other.imag)\n",
    "        return not (eqre and eqim)\n",
    "        \n",
    "    def __add__(self, other):\n",
    "        adre = self.real + other.real\n",
    "        adim = self.imag + other.imag\n",
    "        return ComplexNumber(adre, adim)\n",
    "    \n",
    "    def __sub__(self, other):\n",
    "        subre = self.real - other.real\n",
    "        subim = self.imag - other.imag\n",
    "        return ComplexNumber(subre, subim)\n",
    "    \n",
    "    def __mul__(self, other):\n",
    "        mulre = self.real * other.real - self.imag * other.imag\n",
    "        mulim = self.real * other.imag + other.real * self.imag\n",
    "        return ComplexNumber(mulre, mulim)\n",
    "    \n",
    "    def inv(self):\n",
    "        return self.conjugate() * (ComplexNumber(1 / (abs(self)* abs(self)), 0))\n",
    "    \n",
    "    def __truediv__(self, other):\n",
    "        orinv = other.inv()\n",
    "        return self * orinv\n",
    "    \n",
    "#x = ComplexNumber(3,4)\n",
    "#y = ComplexNumber(5,12)\n",
    "##z = ComplexNumber(3,4)\n",
    "#abs(x)\n",
    "#cx = x.conjugate()\n",
    "#print(str(cx))\n",
    "#cx.imag\n",
    "#x.inv().real x.inv().imag\n",
    "#(x.inv() * x).real\n",
    "#(x / z).imag\n",
    "#x == y\n",
    "# Compare to built-in complex type?\n",
    "\n"
   ]
  },
  {
   "cell_type": "markdown",
   "metadata": {},
   "source": [
    "# Lab 6: Exceptions and File I/O"
   ]
  },
  {
   "cell_type": "markdown",
   "metadata": {},
   "source": [
    "Problem 1:"
   ]
  },
  {
   "cell_type": "code",
   "execution_count": null,
   "metadata": {
    "collapsed": false
   },
   "outputs": [],
   "source": [
    "import sys\n",
    "def arithmagic():\n",
    "    firstnumcorrect = False\n",
    "    while firstnumcorrect == False:\n",
    "        step_1 = int(input(\"Enter a 3-digit number where the first and last digits differ by 2 or more: \"))\n",
    "        lastdig = step_1 - (step_1 //10) * 10\n",
    "        middig = step_1 - lastdig -(((step_1 // 10) // 10)*100)\n",
    "        firstdig = (step_1 // 10) // 10\n",
    "        if (type(step_1) != int) or (step_1 > 999) or (step_1<0):\n",
    "            raise ValueError(\"Your input is not a three-digit number.\")\n",
    "        elif (abs(firstdig - lastdig) < 2):\n",
    "            raise ValueError(\"Your first and last digit differ by less than two.\")\n",
    "        else: \n",
    "            correctstep_2 = lastdig * 100 + middig * 10 + firstdig\n",
    "            print(\"Correct Step 2: \" + str(correctstep_2))\n",
    "            firstnumcorrect = True\n",
    "            \n",
    "    \n",
    "    secnumcorrect = False\n",
    "    while secnumcorrect == False:\n",
    "        step_2 = int(input(\"Enter the reverse of the first number, obtained by reading it backwards: \"))\n",
    "        if step_2 != correctstep_2:\n",
    "            raise ValueError(\"This is not the reverse of the first number.\")\n",
    "        else:\n",
    "            correctstep_3 = abs(step_1 - step_2)\n",
    "            lastdig3 = correctstep_3 - (correctstep_3 //10) * 10\n",
    "            firstdig3 = (correctstep_3 // 10) // 10  \n",
    "            middig3 = (correctstep_3 -(((correctstep_3 // 10) // 10)*100))//10\n",
    "            print(\"middig3: \"+ str(middig3))\n",
    "            firstdig3 = (correctstep_3 // 10) // 10                 \n",
    "            secnumcorrect = True\n",
    "    \n",
    "    thinumcorrect = False\n",
    "    while thinumcorrect == False:\n",
    "        step_3 = int(input(\"Enter the positive difference of these numbers: \"))\n",
    "        if step_3 != correctstep_3:\n",
    "            raise ValueError(\"This is not the positive difference of the first two numbers.\")\n",
    "        else:\n",
    "            correctstep_4 = lastdig3 * 100 + middig3 * 10 + firstdig3\n",
    "            print(\"Correct Step 4: \" + str(correctstep_4))\n",
    "            thinumcorrect = True\n",
    "                             \n",
    "    founumcorrect = False\n",
    "    while founumcorrect == False:\n",
    "        step_4 = int(input(\"Enter the reverse of the previous result: \"))\n",
    "        if step_4 != correctstep_4:\n",
    "            raise ValueError(\"This is not the reverse of the first number.\")\n",
    "        else: \n",
    "            founumcorrect = True\n",
    "                             \n",
    "    print(str(step_3) + \" + \" + str(step_4) + \" = 1089 (ta-da!)\")\n",
    "arithmagic()\n"
   ]
  },
  {
   "cell_type": "markdown",
   "metadata": {},
   "source": [
    "Problem 2:"
   ]
  },
  {
   "cell_type": "code",
   "execution_count": null,
   "metadata": {
    "collapsed": false,
    "scrolled": true
   },
   "outputs": [],
   "source": [
    "from random import choice\n",
    "def random_walk(max_iters=1e12):\n",
    "    walk = 0\n",
    "    direction = [1, -1]\n",
    "    try:\n",
    "        for i in range(int(max_iters)):\n",
    "            walk += choice(direction)\n",
    "    except KeyboardInterrupt:\n",
    "        print(\"Process interrupted at iteration \" + str(i))\n",
    "    else: \n",
    "        print(\"Process completed\")\n",
    "    finally:\n",
    "        return walk\n",
    "random_walk(2000000)"
   ]
  },
  {
   "cell_type": "markdown",
   "metadata": {},
   "source": [
    "Problem 3:"
   ]
  },
  {
   "cell_type": "code",
   "execution_count": null,
   "metadata": {
    "collapsed": false
   },
   "outputs": [],
   "source": [
    "class ContentFilter():\n",
    "    \n",
    "    def __init__(self, filename):\n",
    "        if type(filename) != str:\n",
    "            raise TypeError(\"This is not a string.\")\n",
    "        self.name = filename\n",
    "        # read in \n",
    "        contents = \"\"\n",
    "        file = open(filename, 'r')\n",
    "        lines = file.readlines()\n",
    "        print(lines)\n",
    "        for line in lines:\n",
    "            contents += line\n",
    "        self.contents = contents\n",
    "        file.close()\n",
    "        # print(file.closed) \n",
    "#test = ContentFilter(23)\n",
    "test = ContentFilter(\"test.txt\")\n",
    "#test.name\n",
    "#test.contents\n",
    "\"sgagda.dwwe\"[-3:]"
   ]
  },
  {
   "cell_type": "markdown",
   "metadata": {},
   "source": [
    "Problem 4:"
   ]
  },
  {
   "cell_type": "code",
   "execution_count": null,
   "metadata": {
    "collapsed": false
   },
   "outputs": [],
   "source": [
    "test.contents"
   ]
  },
  {
   "cell_type": "code",
   "execution_count": null,
   "metadata": {
    "collapsed": false
   },
   "outputs": [],
   "source": [
    "class ContentFilter():\n",
    "    \n",
    "    def __init__(self, filename):\n",
    "        if type(filename) != str:\n",
    "            raise TypeError(\"This is not a string.\")\n",
    "        self.name = filename\n",
    "        contents = \"\"\n",
    "        file = open(filename, 'r')\n",
    "        lines = file.readlines()\n",
    "        self.lines = lines\n",
    "        for line in self.lines:\n",
    "            contents += line\n",
    "        self.contents = contents\n",
    "        file.close()\n",
    "        \n",
    "    def uniform(self, newfilename, mode, case = \"upper\"):\n",
    "        if mode != 'a' and mode != 'w':\n",
    "            raise ValueError(\"This mode is not valid.\")\n",
    "        if newfilename[-4:] != \".txt\":\n",
    "            raise ValueError(\"New file name should be a .txt file\")\n",
    "        newfile = open(newfilename, mode)\n",
    "        try:\n",
    "            if case == \"upper\":\n",
    "                for line in self.lines:\n",
    "                    newfile.write(line.upper())\n",
    "            elif case == \"lower\":\n",
    "                for line in self.lines:\n",
    "                    newfile.write(line.lower())\n",
    "            else:\n",
    "                raise ValueError(\"This is not an acceptable case.\")\n",
    "        finally:\n",
    "            newfile.close()\n",
    "        return \n",
    "\n",
    "    \n",
    "    def reverse(self, newfilename, mode, unit = \"line\"):\n",
    "        if mode != 'a' and mode != 'w':\n",
    "            raise ValueError(\"This mode is not valid.\")\n",
    "        if newfilename[-4:] != \".txt\":\n",
    "            raise ValueError(\"New file name should be a .txt file\")\n",
    "        newfile = open(newfilename, mode)\n",
    "        try:\n",
    "            if unit == \"line\":\n",
    "                for i in range(len(self.lines)):\n",
    "                    newfile.write(lines[-(i+1)])\n",
    "            elif unit == \"word\":\n",
    "                for line in self.lines:\n",
    "                    words = line[:-1].split(\" \")\n",
    "                    revwords = words[::-1]\n",
    "                    newline = \" \".join(revwords)\n",
    "                    newfile.write(newline + \"\\n\")\n",
    "            else:\n",
    "                raise ValueError(\"This is not an acceptable unit.\")\n",
    "        finally:\n",
    "            newfile.close()\n",
    "        return \n",
    "    \n",
    "    def transpose(self, newfilename, mode, case = \"upper\"):\n",
    "        import numpy as np\n",
    "        if mode != 'a' and mode != 'w':\n",
    "            raise ValueError(\"This mode is not valid.\")\n",
    "        if newfilename[-4:] != \".txt\":\n",
    "            raise ValueError(\"New file name should be a .txt file\")\n",
    "        newfile = open(newfilename, mode)\n",
    "        matrix = []\n",
    "        for line in self.lines:\n",
    "            words = line[:-1].split(\" \")\n",
    "            matrix.append(words)\n",
    "        npmatrix = np.array(matrix)\n",
    "        transpose = npmatrix.T\n",
    "        for row in transpose:\n",
    "            newline = \" \".join(row)\n",
    "            print(newline)\n",
    "            newfile.write(newline + \"\\n\")\n",
    "        newfile.close()\n",
    "        return\n",
    "    \n",
    "    def __str__(self):\n",
    "        print(\"Source file:\" + \"\\t\" + \"\\t\" + self.name + \"\\n\" +\\\n",
    "            \"Total characters:\" + \"\\t\" + str(len(self.contents)) + \"\\n\" +\\\n",
    "            \"Alphabetic characters:\" + \"\\t\" +  str(sum(c.isalpha() for c in self.contents))  + \"\\n\" +\\\n",
    "            \"Numeric characters:\" + \"\\t\" +  str(sum(c.isdigit() for c in self.contents))  + \"\\n\" +\\\n",
    "            \"Whitespace characters:\" + \"\\t\" +  str(sum(c.isspace() for c in self.contents)) + \"\\n\" +\\\n",
    "            \"Number of lines:\" + \"\\t\" +  str(len(self.lines)))\n",
    "        return ''\n",
    "        \n",
    "        \n",
    "        # print(file.closed) \n",
    "#test = ContentFilter(23)\n",
    "test = ContentFilter(\"test.txt\")\n",
    "str(test)\n",
    "#test.uniform(\"test1.txt\", 'w', \"upper\")\n",
    "#test.reverse(\"test2.txt\", 'w', \"word\")\n",
    "#test.transpose(\"test3.txt\", 'w', \"word\")\n",
    "#test.name\n",
    "#test.contents"
   ]
  },
  {
   "cell_type": "markdown",
   "metadata": {},
   "source": [
    "# Lab 13: Unit Testing In Python"
   ]
  },
  {
   "cell_type": "markdown",
   "metadata": {},
   "source": [
    "Lab 13 is in the test_solution.py file!"
   ]
  },
  {
   "cell_type": "markdown",
   "metadata": {},
   "source": [
    "Problem 1:"
   ]
  },
  {
   "cell_type": "code",
   "execution_count": 1,
   "metadata": {
    "collapsed": false
   },
   "outputs": [
    {
     "name": "stdout",
     "output_type": "stream",
     "text": [
      "2\n"
     ]
    }
   ],
   "source": [
    "import solutions as soln\n",
    "hand = soln.Hand(\"Hand.txt\")\n",
    "#hand = Hand(\"Hand.txt\")\n",
    "print(hand.setcount())"
   ]
  },
  {
   "cell_type": "markdown",
   "metadata": {},
   "source": [
    "Problem 2:"
   ]
  },
  {
   "cell_type": "code",
   "execution_count": null,
   "metadata": {
    "collapsed": true
   },
   "outputs": [],
   "source": []
  },
  {
   "cell_type": "markdown",
   "metadata": {},
   "source": [
    "Problem 3:"
   ]
  },
  {
   "cell_type": "code",
   "execution_count": null,
   "metadata": {
    "collapsed": true
   },
   "outputs": [],
   "source": []
  },
  {
   "cell_type": "markdown",
   "metadata": {},
   "source": [
    "Problem 4:"
   ]
  },
  {
   "cell_type": "code",
   "execution_count": null,
   "metadata": {
    "collapsed": true
   },
   "outputs": [],
   "source": []
  }
 ],
 "metadata": {
  "kernelspec": {
   "display_name": "Python 3",
   "language": "python",
   "name": "python3"
  },
  "language_info": {
   "codemirror_mode": {
    "name": "ipython",
    "version": 3
   },
   "file_extension": ".py",
   "mimetype": "text/x-python",
   "name": "python",
   "nbconvert_exporter": "python",
   "pygments_lexer": "ipython3",
   "version": "3.6.0"
  }
 },
 "nbformat": 4,
 "nbformat_minor": 2
}
