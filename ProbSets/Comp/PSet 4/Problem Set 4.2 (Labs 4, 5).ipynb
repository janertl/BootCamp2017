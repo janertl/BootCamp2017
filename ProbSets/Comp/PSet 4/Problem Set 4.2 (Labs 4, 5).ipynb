{
 "cells": [
  {
   "cell_type": "markdown",
   "metadata": {},
   "source": [
    "# 1. Numerical Integration"
   ]
  },
  {
   "cell_type": "markdown",
   "metadata": {},
   "source": [
    "Problem 1"
   ]
  },
  {
   "cell_type": "code",
   "execution_count": 11,
   "metadata": {
    "collapsed": false
   },
   "outputs": [
    {
     "name": "stdout",
     "output_type": "stream",
     "text": [
      "Method: Midpoint\n",
      "4373.333196465914\n",
      "Difference: 0.00013686741931451252\n",
      "\n",
      "\n",
      "Method: Trapezoid\n",
      "4373.333607065874\n",
      "Difference: 0.00027373254124540836\n",
      "\n",
      "\n",
      "Method: Simpsons\n",
      "4373.333333332548\n",
      "Difference: 7.848939276300371e-10\n"
     ]
    }
   ],
   "source": [
    "def approxIntegral(g, a, b, N, method = 'Simpsons'):\n",
    "    integ = 0\n",
    "    step = (b-a)/N\n",
    "    a_k = a\n",
    "    b_k = a + step\n",
    "    \n",
    "    # midpoint\n",
    "    if method == 'midpoint':\n",
    "        for i in range(N):\n",
    "            integ += (g((a_k+b_k)/2))*step\n",
    "            a_k = b_k\n",
    "            b_k = a_k + step\n",
    "            \n",
    "    # trapezoid\n",
    "    elif method == 'trapezoid':\n",
    "        for i in range(N):\n",
    "            integ += ((g(a_k)+g(b_k))/2)*step\n",
    "            a_k = b_k\n",
    "            b_k = a_k + step\n",
    "            \n",
    "    # simpsons\n",
    "    elif method == 'Simpsons':\n",
    "        for i in range(N):\n",
    "            integ += (g(a_k)+g(b_k)+4*g((a_k+b_k)/2))*(step/6)\n",
    "            a_k = b_k\n",
    "            b_k = a_k + step\n",
    "    else:\n",
    "        print(\"Incorrect input for argument 'method'\")\n",
    "      \n",
    "    return integ\n",
    "\n",
    "\n",
    "g = lambda x: (0.1 * x**4 - 1.5 * x**3 + 0.53 * x**2 + 2 * x + 1)\n",
    "a, b= -10, 10\n",
    "N = 10000\n",
    "\n",
    "exactval = float(13120/3)\n",
    "\n",
    "print(\"Method: Midpoint\")\n",
    "midpoint = approxIntegral(g,a,b,N,'midpoint')\n",
    "print(midpoint)\n",
    "print(\"Difference: \" + str(abs(midpoint - exactval)))\n",
    "print('\\n')\n",
    "\n",
    "print(\"Method: Trapezoid\")\n",
    "trapezoid= approxIntegral(g,a,b,N,'trapezoid')\n",
    "print(trapezoid)\n",
    "print(\"Difference: \" + str(abs(trapezoid - exactval)))\n",
    "print('\\n')\n",
    "\n",
    "print(\"Method: Simpsons\")\n",
    "simpsons = approxIntegral(g,a,b,N,'Simpsons')\n",
    "print(simpsons)\n",
    "print(\"Difference: \" + str(abs(simpsons - exactval)))"
   ]
  },
  {
   "cell_type": "markdown",
   "metadata": {
    "collapsed": true
   },
   "source": [
    "The Simpsons method seems to be the most accurate."
   ]
  },
  {
   "cell_type": "markdown",
   "metadata": {
    "collapsed": true
   },
   "source": [
    "Problem 2"
   ]
  },
  {
   "cell_type": "code",
   "execution_count": null,
   "metadata": {
    "collapsed": true
   },
   "outputs": [],
   "source": []
  },
  {
   "cell_type": "code",
   "execution_count": 20,
   "metadata": {
    "collapsed": false
   },
   "outputs": [
    {
     "name": "stdout",
     "output_type": "stream",
     "text": [
      "Weights:\n",
      "[ 0.00346697  0.01439745  0.04894278  0.11725292  0.19802845  0.23582284\n",
      "  0.19802845  0.11725292  0.04894278  0.01439745  0.00346697]\n",
      "Nodes:\n",
      "[-3.  -2.4 -1.8 -1.2 -0.6  0.   0.6  1.2  1.8  2.4  3. ]\n"
     ]
    },
    {
     "data": {
      "image/png": "[encoded data removed]",
      "text/plain": [
       "<matplotlib.figure.Figure at 0x1105f7a58>"
      ]
     },
     "metadata": {},
     "output_type": "display_data"
    }
   ],
   "source": [
    "from matplotlib import pyplot as plt\n",
    "\n",
    "import scipy.stats\n",
    "import numpy as np\n",
    "\n",
    "def approxNormal(mu, sigma, N, k):\n",
    "    Z = np.zeros(N)\n",
    "    omega = np.zeros(N)\n",
    "    a = mu - sigma * k\n",
    "    step = (2 * sigma * k)/(N - 1)\n",
    "    for i in range(N):\n",
    "        Z[i] = a + i * step\n",
    "        \n",
    "    omega[0] = scipy.stats.norm.cdf(((((Z[0]+Z[1])/2) - mu))/sigma)\n",
    "    \n",
    "    for i in range(1, N - 1):\n",
    "        omega[i] = scipy.stats.norm.cdf(((((Z[i]+Z[i+1])/2) - mu))/sigma) - \\\n",
    "        scipy.stats.norm.cdf(((((Z[i-1]+Z[i])/2) - mu))/sigma)\n",
    "        \n",
    "    omega[N-1] = 1 - scipy.stats.norm.cdf(((((Z[N-2]+Z[N-1])/2) - mu))/sigma)\n",
    "    \n",
    "    return Z, omega\n",
    "\n",
    "Z, omega = approxNormal(0,1,11,3)\n",
    "print('Weights:')\n",
    "print(omega)\n",
    "print('Nodes:')\n",
    "print(Z)\n",
    "\n",
    "\n",
    "plt.plot(Z, omega)\n",
    "plt.show()\n"
   ]
  },
  {
   "cell_type": "code",
   "execution_count": null,
   "metadata": {
    "collapsed": true
   },
   "outputs": [],
   "source": [
    "Problem 3"
   ]
  },
  {
   "cell_type": "code",
   "execution_count": 24,
   "metadata": {
    "collapsed": false
   },
   "outputs": [
    {
     "name": "stdout",
     "output_type": "stream",
     "text": [
      "Weights:\n",
      "[ 0.00346697  0.01439745  0.04894278  0.11725292  0.19802845  0.23582284\n",
      "  0.19802845  0.11725292  0.04894278  0.01439745  0.00346697]\n",
      "Nodes:\n",
      "[  0.04978707   0.09071795   0.16529889   0.30119421   0.54881164   1.\n",
      "   1.8221188    3.32011692   6.04964746  11.02317638  20.08553692]\n"
     ]
    },
    {
     "data": {
      "image/png": "[encoded data removed]",
      "text/plain": [
       "<matplotlib.figure.Figure at 0x11830c940>"
      ]
     },
     "metadata": {},
     "output_type": "display_data"
    }
   ],
   "source": [
    "def approxLogNormal(mu, sigma, N, k):\n",
    "    Z, omega = approxNormal(mu, sigma, N, k)\n",
    "    Z = np.exp(Z)\n",
    "    return Z, omega\n",
    "    \n",
    "Z, omega = approxLogNormal(0,1,11,3)\n",
    "print('Weights:')\n",
    "print(omega)\n",
    "print('Nodes:')\n",
    "print(Z)\n",
    "\n",
    "plt.plot(Z,omega)\n",
    "plt.show()"
   ]
  },
  {
   "cell_type": "code",
   "execution_count": null,
   "metadata": {
    "collapsed": true
   },
   "outputs": [],
   "source": [
    "Problem 4"
   ]
  },
  {
   "cell_type": "code",
   "execution_count": 33,
   "metadata": {
    "collapsed": false
   },
   "outputs": [
    {
     "name": "stdout",
     "output_type": "stream",
     "text": [
      "Approximate mean:\n",
      "50352.4561928\n",
      "Actual lognormal mean:\n",
      "50011.0870085\n"
     ]
    }
   ],
   "source": [
    "mu, sigma = 10.5, 0.8\n",
    "Z, omega = approxLogNormal(mu,sigma,11,3)\n",
    "\n",
    "mean = sum(omega[i]*Z[i] for i in range(len(Z)))\n",
    "print(\"Approximate mean:\")\n",
    "print(mean)\n",
    "print(\"Actual lognormal mean:\")\n",
    "print(np.exp(mu + (sigma**2)/2))"
   ]
  },
  {
   "cell_type": "markdown",
   "metadata": {},
   "source": [
    "Of course, the approximation gets better as the grid is more refined:"
   ]
  },
  {
   "cell_type": "code",
   "execution_count": 42,
   "metadata": {
    "collapsed": false
   },
   "outputs": [
    {
     "name": "stdout",
     "output_type": "stream",
     "text": [
      "Approximate mean:\n",
      "50012.1367736\n",
      "Actual lognormal mean:\n",
      "50011.0870085\n"
     ]
    }
   ],
   "source": [
    "mu, sigma = 10.5, 0.8\n",
    "Z, omega = approxLogNormal(mu,sigma,500,7)\n",
    "\n",
    "mean = sum(omega[i]*Z[i] for i in range(len(Z)))\n",
    "print(\"Approximate mean:\")\n",
    "print(mean)\n",
    "print(\"Actual lognormal mean:\")\n",
    "print(np.exp(mu + (sigma**2)/2))"
   ]
  },
  {
   "cell_type": "markdown",
   "metadata": {
    "collapsed": true
   },
   "source": [
    "Problem 5"
   ]
  },
  {
   "cell_type": "code",
   "execution_count": 57,
   "metadata": {
    "collapsed": false
   },
   "outputs": [
    {
     "name": "stdout",
     "output_type": "stream",
     "text": [
      "4373.33333334\n"
     ]
    }
   ],
   "source": [
    "import scipy.optimize as opt\n",
    "\n",
    "def eqs(wx):\n",
    "    om_1, om_2, om_3, x_1, x_2, x_3 = wx\n",
    "    \n",
    "    eq_0 = (b - a) - (om_1 + om_2 + om_3)\n",
    "    \n",
    "    eq_1 = ((1/2) * b ** 2 - (1/2) * a ** 2) - \\\n",
    "    (om_1 * x_1 + om_2 * x_2 + om_3 * x_3)\n",
    "    \n",
    "    eq_2 = ((1/3) * b ** 3 - (1/3) * a ** 3) - \\\n",
    "    (om_1 * x_1 ** 2 + om_2 * x_2 ** 2 + om_3 * x_3 ** 2)\n",
    "    \n",
    "    eq_3 = ((1/4) * b ** 4 - (1/4) * a ** 4) - \\\n",
    "    (om_1 * x_1 ** 3 + om_2 * x_2 ** 3 + om_3 * x_3 ** 3)\n",
    "    \n",
    "    eq_4 = ((1/5) * b ** 5 - (1/5) * a ** 5) - \\\n",
    "    (om_1 * x_1 ** 4 + om_2 * x_2 ** 4 + om_3 * x_3 ** 4)\n",
    "    \n",
    "    eq_5 = ((1/6) * b ** 6 - (1/6) * a ** 6) - \\\n",
    "    (om_1 * x_1 ** 5 + om_2 * x_2 ** 5 + om_3 * x_3 ** 5)\n",
    "    \n",
    "    return (eq_0, eq_1, eq_2, eq_3, eq_4, eq_5)\n",
    "\n",
    "\n",
    "a, b = -10, 10            \n",
    "wx = opt.root(eqs,np.ones((6,1)), tol = 1e-8).x\n",
    "omega, Z = wx[:3], wx[-3:]\n",
    "\n",
    "\n",
    "integ = sum(omega[i]*g(Z[i]) for i in range(len(Z)))\n",
    "\n",
    "print(integ)"
   ]
  },
  {
   "cell_type": "markdown",
   "metadata": {
    "collapsed": true
   },
   "source": [
    "Problem 6"
   ]
  },
  {
   "cell_type": "code",
   "execution_count": 55,
   "metadata": {
    "collapsed": false
   },
   "outputs": [
    {
     "name": "stdout",
     "output_type": "stream",
     "text": [
      "(4373.333333333334, 8.109531705284936e-11)\n"
     ]
    }
   ],
   "source": [
    "from scipy.integrate import quad\n",
    "print(quad(g, -10, 10))"
   ]
  },
  {
   "cell_type": "markdown",
   "metadata": {},
   "source": [
    "The approximate value is fairly accurate."
   ]
  },
  {
   "cell_type": "markdown",
   "metadata": {
    "collapsed": true
   },
   "source": [
    "Problem 7"
   ]
  },
  {
   "cell_type": "code",
   "execution_count": 71,
   "metadata": {
    "collapsed": false
   },
   "outputs": [
    {
     "name": "stdout",
     "output_type": "stream",
     "text": [
      "1000 iterations:\n",
      "Approximate $\\pi$ via Monte Carlo Simulation: 3.136\n",
      "10000 iterations:\n",
      "Approximate $\\pi$ via Monte Carlo Simulation: 3.1224000000000003\n",
      "100000 iterations:\n",
      "Approximate $\\pi$ via Monte Carlo Simulation: 3.1448400000000003\n",
      "1000000 iterations:\n",
      "Approximate $\\pi$ via Monte Carlo Simulation: 3.141148\n",
      "10000000 iterations:\n",
      "Approximate $\\pi$ via Monte Carlo Simulation: 3.141342\n",
      "100000000 iterations:\n",
      "Approximate $\\pi$ via Monte Carlo Simulation: 3.1416696\n",
      "1000000000 iterations:\n"
     ]
    },
    {
     "ename": "KeyboardInterrupt",
     "evalue": "",
     "output_type": "error",
     "traceback": [
      "\u001b[0;31m---------------------------------------------------------------------------\u001b[0m",
      "\u001b[0;31mKeyboardInterrupt\u001b[0m                         Traceback (most recent call last)",
      "\u001b[0;32m<ipython-input-71-9e6cab4689ba>\u001b[0m in \u001b[0;36m<module>\u001b[0;34m()\u001b[0m\n\u001b[1;32m     17\u001b[0m \u001b[0;32mwhile\u001b[0m \u001b[0mabs\u001b[0m\u001b[0;34m(\u001b[0m\u001b[0mapproxPi\u001b[0m \u001b[0;34m-\u001b[0m \u001b[0mmath\u001b[0m\u001b[0;34m.\u001b[0m\u001b[0mpi\u001b[0m\u001b[0;34m)\u001b[0m \u001b[0;34m>\u001b[0m \u001b[0;36m0.00005\u001b[0m\u001b[0;34m:\u001b[0m\u001b[0;34m\u001b[0m\u001b[0m\n\u001b[1;32m     18\u001b[0m     \u001b[0mprint\u001b[0m\u001b[0;34m(\u001b[0m\u001b[0mstr\u001b[0m\u001b[0;34m(\u001b[0m\u001b[0mN\u001b[0m\u001b[0;34m)\u001b[0m \u001b[0;34m+\u001b[0m \u001b[0;34m' iterations:'\u001b[0m\u001b[0;34m)\u001b[0m\u001b[0;34m\u001b[0m\u001b[0m\n\u001b[0;32m---> 19\u001b[0;31m     \u001b[0mapproxPi\u001b[0m \u001b[0;34m=\u001b[0m \u001b[0mmontecarloPi\u001b[0m\u001b[0;34m(\u001b[0m\u001b[0mg\u001b[0m\u001b[0;34m,\u001b[0m\u001b[0mdomain\u001b[0m\u001b[0;34m,\u001b[0m\u001b[0mN\u001b[0m\u001b[0;34m)\u001b[0m\u001b[0;34m\u001b[0m\u001b[0m\n\u001b[0m\u001b[1;32m     20\u001b[0m     \u001b[0mprint\u001b[0m\u001b[0;34m(\u001b[0m\u001b[0;34m'Approximate $\\pi$ via Monte Carlo Simulation: '\u001b[0m\u001b[0;34m+\u001b[0m \u001b[0mstr\u001b[0m\u001b[0;34m(\u001b[0m\u001b[0mapproxPi\u001b[0m\u001b[0;34m)\u001b[0m\u001b[0;34m)\u001b[0m\u001b[0;34m\u001b[0m\u001b[0m\n\u001b[1;32m     21\u001b[0m     \u001b[0mN\u001b[0m \u001b[0;34m=\u001b[0m \u001b[0;36m10\u001b[0m \u001b[0;34m*\u001b[0m \u001b[0mN\u001b[0m\u001b[0;34m\u001b[0m\u001b[0m\n",
      "\u001b[0;32m<ipython-input-71-9e6cab4689ba>\u001b[0m in \u001b[0;36mmontecarloPi\u001b[0;34m(g, omega, N)\u001b[0m\n\u001b[1;32m      7\u001b[0m         \u001b[0;32mfor\u001b[0m \u001b[0mj\u001b[0m \u001b[0;32min\u001b[0m \u001b[0mrange\u001b[0m\u001b[0;34m(\u001b[0m\u001b[0;36m2\u001b[0m\u001b[0;34m)\u001b[0m\u001b[0;34m:\u001b[0m\u001b[0;34m\u001b[0m\u001b[0m\n\u001b[1;32m      8\u001b[0m             \u001b[0mdraws\u001b[0m\u001b[0;34m[\u001b[0m\u001b[0mi\u001b[0m\u001b[0;34m,\u001b[0m\u001b[0mj\u001b[0m\u001b[0;34m]\u001b[0m \u001b[0;34m=\u001b[0m \u001b[0mnp\u001b[0m\u001b[0;34m.\u001b[0m\u001b[0mrandom\u001b[0m\u001b[0;34m.\u001b[0m\u001b[0muniform\u001b[0m\u001b[0;34m(\u001b[0m\u001b[0mdomain\u001b[0m\u001b[0;34m[\u001b[0m\u001b[0mj\u001b[0m\u001b[0;34m,\u001b[0m\u001b[0;36m0\u001b[0m\u001b[0;34m]\u001b[0m\u001b[0;34m,\u001b[0m\u001b[0mdomain\u001b[0m\u001b[0;34m[\u001b[0m\u001b[0mj\u001b[0m\u001b[0;34m,\u001b[0m\u001b[0;36m1\u001b[0m\u001b[0;34m]\u001b[0m\u001b[0;34m)\u001b[0m\u001b[0;34m\u001b[0m\u001b[0m\n\u001b[0;32m----> 9\u001b[0;31m         \u001b[0mmcsum\u001b[0m\u001b[0;34m+=\u001b[0m\u001b[0mg\u001b[0m\u001b[0;34m(\u001b[0m\u001b[0mdraws\u001b[0m\u001b[0;34m[\u001b[0m\u001b[0mi\u001b[0m\u001b[0;34m,\u001b[0m\u001b[0;34m:\u001b[0m\u001b[0;34m]\u001b[0m\u001b[0;34m)\u001b[0m\u001b[0;34m\u001b[0m\u001b[0m\n\u001b[0m\u001b[1;32m     10\u001b[0m     \u001b[0;32mreturn\u001b[0m \u001b[0;34m(\u001b[0m\u001b[0;36m4\u001b[0m\u001b[0;34m/\u001b[0m\u001b[0mN\u001b[0m\u001b[0;34m)\u001b[0m\u001b[0;34m*\u001b[0m\u001b[0mmcsum\u001b[0m\u001b[0;34m\u001b[0m\u001b[0m\n\u001b[1;32m     11\u001b[0m \u001b[0;34m\u001b[0m\u001b[0m\n",
      "\u001b[0;32m<ipython-input-71-9e6cab4689ba>\u001b[0m in \u001b[0;36m<lambda>\u001b[0;34m(x)\u001b[0m\n\u001b[1;32m     10\u001b[0m     \u001b[0;32mreturn\u001b[0m \u001b[0;34m(\u001b[0m\u001b[0;36m4\u001b[0m\u001b[0;34m/\u001b[0m\u001b[0mN\u001b[0m\u001b[0;34m)\u001b[0m\u001b[0;34m*\u001b[0m\u001b[0mmcsum\u001b[0m\u001b[0;34m\u001b[0m\u001b[0m\n\u001b[1;32m     11\u001b[0m \u001b[0;34m\u001b[0m\u001b[0m\n\u001b[0;32m---> 12\u001b[0;31m \u001b[0mg\u001b[0m \u001b[0;34m=\u001b[0m \u001b[0;32mlambda\u001b[0m \u001b[0mx\u001b[0m\u001b[0;34m:\u001b[0m \u001b[0;36m1\u001b[0m \u001b[0;32mif\u001b[0m \u001b[0mx\u001b[0m\u001b[0;34m[\u001b[0m\u001b[0;36m0\u001b[0m\u001b[0;34m]\u001b[0m\u001b[0;34m**\u001b[0m\u001b[0;36m2\u001b[0m\u001b[0;34m+\u001b[0m\u001b[0mx\u001b[0m\u001b[0;34m[\u001b[0m\u001b[0;36m1\u001b[0m\u001b[0;34m]\u001b[0m\u001b[0;34m**\u001b[0m\u001b[0;36m2\u001b[0m \u001b[0;34m<=\u001b[0m \u001b[0;36m1\u001b[0m \u001b[0;32melse\u001b[0m \u001b[0;36m0\u001b[0m\u001b[0;34m\u001b[0m\u001b[0m\n\u001b[0m\u001b[1;32m     13\u001b[0m \u001b[0mdomain\u001b[0m \u001b[0;34m=\u001b[0m \u001b[0mnp\u001b[0m\u001b[0;34m.\u001b[0m\u001b[0marray\u001b[0m\u001b[0;34m(\u001b[0m\u001b[0;34m[\u001b[0m\u001b[0;34m[\u001b[0m\u001b[0;34m-\u001b[0m\u001b[0;36m1\u001b[0m\u001b[0;34m,\u001b[0m\u001b[0;36m1\u001b[0m\u001b[0;34m]\u001b[0m\u001b[0;34m,\u001b[0m\u001b[0;34m[\u001b[0m\u001b[0;34m-\u001b[0m\u001b[0;36m1\u001b[0m\u001b[0;34m,\u001b[0m\u001b[0;36m1\u001b[0m\u001b[0;34m]\u001b[0m\u001b[0;34m]\u001b[0m\u001b[0;34m)\u001b[0m\u001b[0;34m\u001b[0m\u001b[0m\n\u001b[1;32m     14\u001b[0m \u001b[0;34m\u001b[0m\u001b[0m\n",
      "\u001b[0;31mKeyboardInterrupt\u001b[0m: "
     ]
    }
   ],
   "source": [
    "import math\n",
    "\n",
    "def montecarloPi(g, omega, N):\n",
    "    draws = np.zeros((N,2))\n",
    "    mcsum = 0\n",
    "    for i in range(N):\n",
    "        for j in range(2):\n",
    "            draws[i,j] = np.random.uniform(domain[j,0],domain[j,1])\n",
    "        mcsum+=g(draws[i,:])\n",
    "    return (4/N)*mcsum\n",
    "\n",
    "g = lambda x: 1 if x[0]**2+x[1]**2 <= 1 else 0\n",
    "domain = np.array([[-1,1],[-1,1]]) \n",
    "\n",
    "approxPi = 0\n",
    "N = 1000\n",
    "while abs(approxPi - math.pi) > 0.00005:\n",
    "    print(str(N) + ' iterations:')\n",
    "    approxPi = montecarloPi(g,domain,N)\n",
    "    print('Approximate $\\pi$ via Monte Carlo Simulation: '+ str(approxPi))\n",
    "    N = 10 * N"
   ]
  },
  {
   "cell_type": "markdown",
   "metadata": {
    "collapsed": true
   },
   "source": [
    "I manually interrupted the computation since the simulation had been running for > 10 minutes.\n",
    "Point is: Monte Carlo Simulations take a long time (high number of iterations) to be reasonably precise.\n"
   ]
  },
  {
   "cell_type": "markdown",
   "metadata": {},
   "source": [
    "Problem 8"
   ]
  },
  {
   "cell_type": "code",
   "execution_count": 82,
   "metadata": {
    "collapsed": false
   },
   "outputs": [
    {
     "name": "stdout",
     "output_type": "stream",
     "text": [
      "[ 0.41421356  0.73205081  0.23606798]\n",
      "[ 0.41421356  0.73205081  0.23606798]\n",
      "[ 0.41421356  0.          0.82842712]\n",
      "[ 0.71828183  0.64872127  0.39561243]\n"
     ]
    }
   ],
   "source": [
    "import math\n",
    "\n",
    "def equid(n, d, sequence):\n",
    "    def frac(x):\n",
    "        return float(x % 1)\n",
    "    \n",
    "    dprimes = [ 2 ]\n",
    "    m = 3\n",
    "    while len(dprimes) < d:\n",
    "        for p in dprimes:\n",
    "            if m % p == 0:\n",
    "                break\n",
    "        else:\n",
    "            dprimes.append(m)\n",
    "        m += 2 \n",
    "        \n",
    "    x_n = np.zeros(d) \n",
    "     \n",
    "    # Weyl: frac(np_d^0.5)\n",
    "    if sequence == 'Weyl':\n",
    "        for i in range(d):\n",
    "            x_n[i] = frac(n * math.sqrt(dprimes[i]))\n",
    "        return x_n\n",
    "    # Haber: frac(1/2 * n(n + 1) p_d^0.5)\n",
    "    elif sequence == 'Haber':\n",
    "        for i in range(d):\n",
    "            x_n[i] = frac((n * (n+1)/2) * math.sqrt(dprimes[i]))\n",
    "        return x_n\n",
    "    # Haber: frac(n * 2^(d/(n + 1)))\n",
    "    elif sequence == 'Niederreiter':\n",
    "        for i in range(d):\n",
    "            x_n[i] = frac(n * 2**((i+1)/(n+1)))\n",
    "        return x_n\n",
    "    # Haber: frac(n * e^(r_d))\n",
    "    elif sequence == 'Baker':\n",
    "        for i in range(d):\n",
    "            x_n[i] = frac(n * math.exp(1/(i+1)))\n",
    "        return x_n \n",
    "    else:\n",
    "        raise ValueError(\"Entered sequence type not valid\")\n",
    "\n",
    "        \n",
    "# The first Weyl and Harber should be the same\n",
    "print(equid(1,3,'Weyl'))\n",
    "print(equid(1,3,'Haber'))\n",
    "print(equid(1,3,'Niederreiter'))\n",
    "print(equid(1,3,'Baker'))"
   ]
  },
  {
   "cell_type": "code",
   "execution_count": null,
   "metadata": {
    "collapsed": true
   },
   "outputs": [],
   "source": []
  },
  {
   "cell_type": "markdown",
   "metadata": {
    "collapsed": true
   },
   "source": [
    "Problem 9"
   ]
  },
  {
   "cell_type": "code",
   "execution_count": 83,
   "metadata": {
    "collapsed": false
   },
   "outputs": [
    {
     "data": {
      "text/plain": [
       "3.141592653589793"
      ]
     },
     "execution_count": 83,
     "metadata": {},
     "output_type": "execute_result"
    }
   ],
   "source": [
    "import math\n",
    "math.pi"
   ]
  },
  {
   "cell_type": "markdown",
   "metadata": {},
   "source": [
    "# The Simplex Method"
   ]
  },
  {
   "cell_type": "markdown",
   "metadata": {
    "collapsed": true
   },
   "source": [
    "Problem 1"
   ]
  },
  {
   "cell_type": "code",
   "execution_count": 937,
   "metadata": {
    "collapsed": false
   },
   "outputs": [],
   "source": [
    "class SimplexOpt(object):\n",
    "    \n",
    "    def __init__(self, c, A, b):\n",
    "        n_c = c.shape[0]\n",
    "        m_A, n_A = A.shape\n",
    "        m_b = b.shape[0]\n",
    "        \n",
    "        self.m = m_A\n",
    "        self.n = n_A\n",
    "        # Problem 1\n",
    "        simplexBool = True\n",
    "        for i in range(m_b):\n",
    "            if b[i] < 0:\n",
    "                feasible = False\n",
    "                break\n",
    "\n",
    "        if simplexBool == False:\n",
    "            raise ValueError(\"Problem not feasible at the origin.\")\n",
    "        self.A = A\n",
    "        self.b = np.array(b)\n",
    "        self.c = np.array(c)\n",
    "        \n",
    "        # Problem 2\n",
    "        varstore = np.zeros((self.n + self.m))\n",
    "        #print(varstore)\n",
    "        varstore[:self.m] = b\n",
    "        self.varstore = varstore\n",
    "        #print(varstore)\n",
    "        \n",
    "        L = np.zeros((self.n + self.m))\n",
    "        L[:self.m] = np.arange(self.n, self.n+self.m, 1) \n",
    "        L[self.m:] = np.arange(0, self.n, 1)\n",
    "        self.L = L\n",
    "        \n",
    "    # Problem 3\n",
    "    def get_tableau(self):\n",
    "        m = self.m\n",
    "        n = self.n\n",
    "        A = self.A\n",
    "        b = self.b \n",
    "        c = self.c \n",
    "        r1 = np.hstack((np.array([0]),-c,np.zeros(m),np.array([1])))\n",
    "        r2 = np.hstack((b.reshape(m,1),A,np.eye(m),np.zeros((m,1))))\n",
    "        \n",
    "        tableau = np.vstack((r1,r2))\n",
    "        self.tableau = tableau\n",
    "        return tableau\n",
    "    \n",
    "    # Problem 4\n",
    "    def findPivot(self, tableau):\n",
    "        \n",
    "        complete = True\n",
    "        #print('range: '+str(range(1, tableau.shape[1])))\n",
    "        for i in range(1, tableau.shape[1]):\n",
    "            \n",
    "            colentry = tableau[0,i]\n",
    "            #print(colentry)\n",
    "            if colentry < 0:\n",
    "                #print(i)\n",
    "                col = i\n",
    "                complete = False\n",
    "                break\n",
    "            else:\n",
    "                pass\n",
    "        \n",
    "        \n",
    "        if complete == True: \n",
    "            return 'complete', 'complete'\n",
    "        #print('complete:' + str(complete))\n",
    "        self.col = col\n",
    "        print('The column chosen is '+ str(col) + ' since the entry is ' + str(tableau[0,col]))\n",
    "        \n",
    "        ctableau = np.copy(tableau)\n",
    "        for i in range(1, ctableau.shape[0]):\n",
    "            if ctableau[i, col] <= 0:\n",
    "                ctableau[i, col] = 0.\n",
    "        \n",
    "        ctableau[ctableau<=0] = -1\n",
    "        '''ratios = np.empty_like(tableau[1:,0]) \n",
    "        print(ratios)\n",
    "        for i in range(len(ratios)):'''\n",
    "        ratios = tableau[1:,0]/ctableau[1:, col]\n",
    "        ratios[ratios<=0] = np.inf\n",
    "        #print(ratios)\n",
    "        row = np.argmin(ratios) + 1\n",
    "        self.row = row\n",
    "        \n",
    "        print('The row chosen is '+ str(row) + ' since the ratio is ' + str(ratios[row - 1]))\n",
    "        print('The ratio is given by '+ str(tableau[row,0]) + ' divided by ' + str(ctableau[row ,col]))\n",
    "        return self.row, self.col\n",
    "    \n",
    "    # Problem 5\n",
    "    def checkBoundedness(self, tableau):\n",
    "        row, col = self.findPivot(tableau)\n",
    "        for i in range(1, tableau.shape[0]):\n",
    "            if tableau[i,col] > 0:\n",
    "                bounded = True\n",
    "                break\n",
    "            else: \n",
    "                bounded = False\n",
    "        if bounded == False:\n",
    "            raise ValueError('Problem unbounded!')\n",
    "        else:\n",
    "            print('The problem is well-posed.')\n",
    "        \n",
    "    # Problem 6\n",
    "    def pivot(self):\n",
    "        \n",
    "        tableau = np.copy(self.tableau)\n",
    "        row, col = self.findPivot(self.tableau)\n",
    "        nbpivot = row - 1\n",
    "        bpivot = np.where(self.L == col - 1)\n",
    "        self.L[nbpivot], self.L[bpivot] = self.L[bpivot], self.L[nbpivot]\n",
    "        \n",
    "        tableau[row,:] = tableau[row,:]/tableau[row,col]\n",
    "        \n",
    "        for i in range(tableau.shape[0]):\n",
    "            if i == row:\n",
    "                #print('pass')\n",
    "                pass\n",
    "            else:\n",
    "                tableau[i,:] -= tableau[i,col] * tableau[row,:]\n",
    "                \n",
    "                #print('working on row '+str(i))\n",
    "                #print(tableau[i,:])\n",
    "        self.tableau = tableau\n",
    "        #print(self.tableau.astype(str))\n",
    "        self.col = col\n",
    "        return self.tableau, self.L, self.col\n",
    "        \n",
    "    # Problem 7    \n",
    "    def solve(self):\n",
    "        tableau = self.get_tableau()\n",
    "        #print(np.around(tableau))\n",
    "        m, n = tableau.shape\n",
    "        col = 0\n",
    "        #print(np.around(tableau).astype(str))\n",
    "\n",
    "        while col != 'complete' : \n",
    "            tableau, L, col = self.pivot()\n",
    "            \n",
    "            #print(col)\n",
    "            #print(L)\n",
    "            #print(tableau.astype(str))\n",
    "            #print(np.round(tableau).astype(str))\n",
    "            \n",
    "            self.tableau, self.L = tableau, L\n",
    "            \n",
    "            row, col = self.findPivot(self.tableau)\n",
    "            #print(row)\n",
    "            #print(100)\n",
    "            if row == 'complete':\n",
    "                break\n",
    "        \n",
    "    \n",
    "        \n",
    "        L = self.L.astype(int)\n",
    "        tableau = np.round(tableau,4)\n",
    "        objmax = tableau[0,0]\n",
    "        m,n = self.A.shape\n",
    "        bs = dict(zip(L[:m],tableau[1:,0]))\n",
    "        nbs = dict(zip(L[m:],np.zeros(n).astype(str)))\n",
    "        return (objmax, bs, nbs)\n"
   ]
  },
  {
   "cell_type": "code",
   "execution_count": 938,
   "metadata": {
    "collapsed": true
   },
   "outputs": [],
   "source": [
    "c = np.array([3., 2])\n",
    "b = np.array([2., 5, 7])\n",
    "A = np.array([[1., -1], [3, 1], [4, 3]])"
   ]
  },
  {
   "cell_type": "code",
   "execution_count": 939,
   "metadata": {
    "collapsed": false
   },
   "outputs": [
    {
     "data": {
      "text/plain": [
       "array([ 2.,  3.,  4.,  0.,  1.])"
      ]
     },
     "execution_count": 939,
     "metadata": {},
     "output_type": "execute_result"
    }
   ],
   "source": [
    "simplex1 = SimplexOpt(c, A, b)\n",
    "simplex1.L"
   ]
  },
  {
   "cell_type": "code",
   "execution_count": 940,
   "metadata": {
    "collapsed": false
   },
   "outputs": [],
   "source": [
    "simplex1.get_tableau()\n",
    "tableau = simplex1.tableau\n",
    "\n",
    "ratios = tableau[1:,0]/tableau[1:, 1]\n",
    "del ratios"
   ]
  },
  {
   "cell_type": "code",
   "execution_count": 941,
   "metadata": {
    "collapsed": false
   },
   "outputs": [
    {
     "name": "stdout",
     "output_type": "stream",
     "text": [
      "The column chosen is 1 since the entry is -3.0\n",
      "The row chosen is 2 since the ratio is 1.66666666667\n",
      "The ratio is given by 5.0 divided by 3.0\n"
     ]
    },
    {
     "data": {
      "text/plain": [
       "(2, 1)"
      ]
     },
     "execution_count": 941,
     "metadata": {},
     "output_type": "execute_result"
    }
   ],
   "source": [
    "simplex1.findPivot(tableau)"
   ]
  },
  {
   "cell_type": "code",
   "execution_count": 942,
   "metadata": {
    "collapsed": false
   },
   "outputs": [],
   "source": [
    "#simplex1.pivot()"
   ]
  },
  {
   "cell_type": "code",
   "execution_count": 943,
   "metadata": {
    "collapsed": false
   },
   "outputs": [
    {
     "name": "stdout",
     "output_type": "stream",
     "text": [
      "The column chosen is 1 since the entry is -3.0\n",
      "The row chosen is 2 since the ratio is 1.66666666667\n",
      "The ratio is given by 5.0 divided by 3.0\n",
      "The column chosen is 2 since the entry is -1.0\n",
      "The row chosen is 3 since the ratio is 0.2\n",
      "The ratio is given by 0.333333333333 divided by 1.66666666667\n",
      "The column chosen is 2 since the entry is -1.0\n",
      "The row chosen is 3 since the ratio is 0.2\n",
      "The ratio is given by 0.333333333333 divided by 1.66666666667\n"
     ]
    },
    {
     "data": {
      "text/plain": [
       "(5.2000000000000002,\n",
       " {0: 1.6000000000000001, 1: 0.20000000000000001, 2: 0.59999999999999998},\n",
       " {3: '0.0', 4: '0.0'})"
      ]
     },
     "execution_count": 943,
     "metadata": {},
     "output_type": "execute_result"
    }
   ],
   "source": [
    "simplex1.solve()"
   ]
  },
  {
   "cell_type": "markdown",
   "metadata": {
    "collapsed": false
   },
   "source": [
    "Problem 8"
   ]
  },
  {
   "cell_type": "code",
   "execution_count": 946,
   "metadata": {
    "collapsed": false
   },
   "outputs": [
    {
     "name": "stdout",
     "output_type": "stream",
     "text": [
      "The column chosen is 1 since the entry is -250.0\n",
      "The row chosen is 4 since the ratio is 10.0\n",
      "The ratio is given by 10.0 divided by 1.0\n",
      "The column chosen is 2 since the entry is -215.0\n",
      "The row chosen is 1 since the ratio is 15.5555555556\n",
      "The ratio is given by 2.8 divided by 0.18\n",
      "The column chosen is 2 since the entry is -215.0\n",
      "The row chosen is 1 since the ratio is 15.5555555556\n",
      "The ratio is given by 2.8 divided by 0.18\n",
      "The column chosen is 3 since the entry is -119.722222222\n",
      "The row chosen is 6 since the ratio is 12.0\n",
      "The ratio is given by 12.0 divided by 1.0\n",
      "The column chosen is 3 since the entry is -119.722222222\n",
      "The row chosen is 6 since the ratio is 12.0\n",
      "The ratio is given by 12.0 divided by 1.0\n",
      "The column chosen is 4 since the entry is -96.3888888889\n",
      "The row chosen is 2 since the ratio is 1.78947368421\n",
      "The ratio is given by 0.113333333333 divided by 0.0633333333333\n",
      "The column chosen is 4 since the entry is -96.3888888889\n",
      "The row chosen is 2 since the ratio is 1.78947368421\n",
      "The ratio is given by 0.113333333333 divided by 0.0633333333333\n"
     ]
    },
    {
     "data": {
      "text/plain": [
       "(7453.5964999999997,\n",
       " {0: 10.0,\n",
       "  1: 6.1929999999999996,\n",
       "  2: 12.0,\n",
       "  3: 1.7895000000000001,\n",
       "  6: 0.96599999999999997,\n",
       "  8: 13.807,\n",
       "  10: 8.2104999999999997},\n",
       " {4: '0.0', 5: '0.0', 7: '0.0', 9: '0.0'})"
      ]
     },
     "execution_count": 946,
     "metadata": {},
     "output_type": "execute_result"
    }
   ],
   "source": [
    "data = np.load('productMix.npz')\n",
    "A = data['A']\n",
    "c = data['p']\n",
    "\n",
    "b = np.hstack((data['m'],data['d']))\n",
    "\n",
    "\n",
    "A = np.vstack((A,np.eye(A.shape[1])))\n",
    "\n",
    "productOpt = SimplexOpt(c,A,b)\n",
    "\n",
    "productOpt.get_tableau()\n",
    "#print(productOpt.tableau[:,:6].astype(str))\n",
    "\n",
    "productOpt.solve()"
   ]
  },
  {
   "cell_type": "code",
   "execution_count": null,
   "metadata": {
    "collapsed": true
   },
   "outputs": [],
   "source": []
  }
 ],
 "metadata": {
  "kernelspec": {
   "display_name": "Python 3",
   "language": "python",
   "name": "python3"
  }
 },
 "nbformat": 4,
 "nbformat_minor": 2
}
