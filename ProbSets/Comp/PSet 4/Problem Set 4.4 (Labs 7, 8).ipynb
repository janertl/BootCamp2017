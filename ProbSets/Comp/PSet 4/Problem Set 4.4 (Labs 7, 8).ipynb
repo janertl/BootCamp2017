{
 "cells": [
  {
   "cell_type": "markdown",
   "metadata": {
    "collapsed": true
   },
   "source": [
    "# Iterative Solvers"
   ]
  },
  {
   "cell_type": "markdown",
   "metadata": {},
   "source": [
    "Problem 1"
   ]
  },
  {
   "cell_type": "code",
   "execution_count": 30,
   "metadata": {
    "collapsed": true
   },
   "outputs": [],
   "source": [
    "import numpy as np\n",
    "from matplotlib import pyplot as plt"
   ]
  },
  {
   "cell_type": "code",
   "execution_count": 57,
   "metadata": {
    "collapsed": false
   },
   "outputs": [],
   "source": [
    "def jacobiIter(A, b, tol, maxiters, plot = False):\n",
    "    x_0 = np.zeros(b.shape)\n",
    "    D = np.diagonal(A)\n",
    "    k = 0\n",
    "    dist = tol + 1\n",
    "    errors = [np.linalg.norm(b)]\n",
    "    while k < maxiters and dist > tol:\n",
    "        x_1 = x_0 + (b - A @ x_0)/D\n",
    "        dist = np.linalg.norm(x_1 - x_0)\n",
    "        errors.append(np.linalg.norm(A @ x_1 - b))\n",
    "        x_0 = x_1\n",
    "        k += 1\n",
    "    if k < maxiters:\n",
    "        print('Succesfully converged to ',x_0)\n",
    "    if plot:\n",
    "        plt.semilogy(range(k+1),errors)\n",
    "        plt.xlabel('Iteration')\n",
    "        plt.ylabel('Absolute Error of Approximation')\n",
    "        plt.title('Convergence of Jacobi Method')\n",
    "        plt.show()\n",
    "    return x_0"
   ]
  },
  {
   "cell_type": "code",
   "execution_count": 58,
   "metadata": {
    "collapsed": true
   },
   "outputs": [],
   "source": [
    "def diag_dom(n, num_entries=None):\n",
    "    \"\"\"Generate a strictly diagonally dominant (n, n) matrix.\n",
    "    Parameters:\n",
    "    n (int): The dimension of the system.\n",
    "    num_entries (int): The number of nonzero values.\n",
    "    Defaults to n^(3/2)-n.\n",
    "    Returns:\n",
    "    A ((n,n) ndarray): A (n, n) strictly diagonally dominant matrix.\n",
    "    \"\"\"\n",
    "    if num_entries is None:\n",
    "        num_entries = int(n**1.5) - n\n",
    "    A = np.zeros((n,n))\n",
    "    rows = np.random.choice(np.arange(0,n), size=num_entries)\n",
    "    cols = np.random.choice(np.arange(0,n), size=num_entries)\n",
    "    data = np.random.randint(-4, 4, size=num_entries)\n",
    "    for i in range(num_entries):\n",
    "        A[rows[i], cols[i]] = data[i]\n",
    "    for i in range(n):\n",
    "        A[i,i] = np.sum(np.abs(A[i])) + 1\n",
    "    return A"
   ]
  },
  {
   "cell_type": "code",
   "execution_count": 62,
   "metadata": {
    "collapsed": false
   },
   "outputs": [
    {
     "name": "stdout",
     "output_type": "stream",
     "text": [
      "Succesfully converged to  [ 0.23274711  0.41957273  0.6080063  -0.27969701  0.67202043  0.10809756]\n"
     ]
    },
    {
     "data": {
      "text/plain": [
       "True"
      ]
     },
     "execution_count": 62,
     "metadata": {},
     "output_type": "execute_result"
    }
   ],
   "source": [
    "n = 6\n",
    "b = np.random.random(n)\n",
    "A = diag_dom(n)\n",
    "x = jacobiIter(A, b, tol = 1e-6,maxiters = 30)\n",
    "np.allclose(A @ x, b)"
   ]
  },
  {
   "cell_type": "markdown",
   "metadata": {},
   "source": [
    "Problem 2"
   ]
  },
  {
   "cell_type": "code",
   "execution_count": 49,
   "metadata": {
    "collapsed": true
   },
   "outputs": [],
   "source": [
    "def jacobiIter(A, b, tol, maxiters, plot = False):\n",
    "    x_0 = np.zeros(b.shape)\n",
    "    D = np.diagonal(A)\n",
    "    k = 0\n",
    "    dist = tol + 1\n",
    "    errors = [np.linalg.norm(b)]\n",
    "    while k < maxiters and dist > tol:\n",
    "        x_1 = x_0 + (b - A @ x_0)/D\n",
    "        dist = np.linalg.norm(x_1 - x_0)\n",
    "        errors.append(np.linalg.norm(A @ x_1 - b))\n",
    "        x_0 = x_1\n",
    "        k += 1\n",
    "    if k < maxiters:\n",
    "        print('Succesfully converged to ',x_0)\n",
    "    if plot:\n",
    "        plt.semilogy(range(k+1),errors)\n",
    "        plt.xlabel('Iteration')\n",
    "        plt.ylabel('Absolute Error of Approximation')\n",
    "        plt.title('Convergence of Jacobi Method')\n",
    "        plt.show()\n",
    "    return x_0"
   ]
  },
  {
   "cell_type": "code",
   "execution_count": 139,
   "metadata": {
    "collapsed": false
   },
   "outputs": [],
   "source": [
    "n = 6\n",
    "b = np.random.random(n)\n",
    "A = diag_dom(n)\n"
   ]
  },
  {
   "cell_type": "code",
   "execution_count": 140,
   "metadata": {
    "collapsed": false
   },
   "outputs": [
    {
     "name": "stdout",
     "output_type": "stream",
     "text": [
      "Succesfully converged to  [ 0.15059673  0.29620861  0.0108069  -0.14913004  0.94865982  0.79420317]\n"
     ]
    },
    {
     "data": {
      "image/png": "[encoded data removed]",
      "text/plain": [
       "<matplotlib.figure.Figure at 0x1123f08d0>"
      ]
     },
     "metadata": {},
     "output_type": "display_data"
    },
    {
     "data": {
      "text/plain": [
       "True"
      ]
     },
     "execution_count": 140,
     "metadata": {},
     "output_type": "execute_result"
    }
   ],
   "source": [
    "\n",
    "x = jacobiIter(A, b, tol = 1e-6,maxiters = 30, plot = True)\n",
    "np.allclose(A @ x, b)"
   ]
  },
  {
   "cell_type": "markdown",
   "metadata": {},
   "source": [
    "Problem 3"
   ]
  },
  {
   "cell_type": "code",
   "execution_count": 76,
   "metadata": {
    "collapsed": true
   },
   "outputs": [],
   "source": [
    "def GSeidelIter(A, b, tol, maxiters, plot = False):\n",
    "    x_0 = np.zeros(b.shape)\n",
    "    x_1 = np.zeros(b.shape)\n",
    "    D = np.diagonal(A)\n",
    "    k = 0\n",
    "    dist = tol + 1\n",
    "    errors = [np.linalg.norm(b)]\n",
    "    while k < maxiters and dist > tol:\n",
    "        xcopy = np.copy(x_0)\n",
    "        for i in range(len(x_0)):\n",
    "            xcopy[i] = xcopy[i] + (b[i] - A[i,:] @ xcopy)/D[i]\n",
    "        x_1 = xcopy\n",
    "        dist = np.linalg.norm(x_1 - x_0)\n",
    "        errors.append(np.linalg.norm(A @ x_1 - b))\n",
    "        x_0 = x_1\n",
    "        k += 1\n",
    "    if k < maxiters:\n",
    "        print('Succesfully converged to ',x_0)\n",
    "    if plot:\n",
    "        plt.semilogy(range(k+1),errors)\n",
    "        plt.xlabel('Iteration')\n",
    "        plt.ylabel('Absolute Error of Approximation')\n",
    "        plt.title('Convergence of Gauss-Seidel Method')\n",
    "        plt.show()\n",
    "    return x_0"
   ]
  },
  {
   "cell_type": "code",
   "execution_count": 141,
   "metadata": {
    "collapsed": false
   },
   "outputs": [
    {
     "name": "stdout",
     "output_type": "stream",
     "text": [
      "Succesfully converged to  [ 0.15059673  0.29620876  0.0108069  -0.1491303   0.94865982  0.79420317]\n"
     ]
    },
    {
     "data": {
      "image/png": "[encoded data removed]",
      "text/plain": [
       "<matplotlib.figure.Figure at 0x112a82208>"
      ]
     },
     "metadata": {},
     "output_type": "display_data"
    },
    {
     "data": {
      "text/plain": [
       "True"
      ]
     },
     "execution_count": 141,
     "metadata": {},
     "output_type": "execute_result"
    }
   ],
   "source": [
    "\n",
    "x = GSeidelIter(A, b, tol = 1e-6,maxiters = 30, plot = True)\n",
    "np.allclose(A @ x, b)"
   ]
  },
  {
   "cell_type": "raw",
   "metadata": {},
   "source": [
    "Problem 4"
   ]
  },
  {
   "cell_type": "code",
   "execution_count": 143,
   "metadata": {
    "collapsed": true
   },
   "outputs": [],
   "source": [
    "from scipy import sparse"
   ]
  },
  {
   "cell_type": "code",
   "execution_count": 312,
   "metadata": {
    "collapsed": false
   },
   "outputs": [],
   "source": [
    "def sparseGSeidelIter(A, b, tol, maxiters, omega=1):\n",
    "    x_0 = np.zeros(b.shape)\n",
    "    x_1 = np.zeros(b.shape)\n",
    "    #D = np.diagonal(A)\n",
    "    k = 0\n",
    "    dist = tol + 1\n",
    "    while k < maxiters and dist > tol:\n",
    "        xcopy = np.copy(x_0)\n",
    "        for i in range(len(x_0)):\n",
    "            rowstart = A.indptr[i]\n",
    "            rowend = A.indptr[i+1]\n",
    "            Aix = A.data[rowstart:rowend].flatten() @ xcopy[A.indices[rowstart:rowend]]\n",
    "            #print(np.round(b[i] - Aix))\n",
    "            \n",
    "            xcopy[i] = xcopy[i] + (omega/A[i,i]) * (b[i] - Aix)\n",
    "            #print(np.round(xcopy))\n",
    "        x_1 = xcopy\n",
    "        dist = np.linalg.norm(x_1 - x_0)\n",
    "        x_0 = x_1\n",
    "        k += 1\n",
    "    if k < maxiters:\n",
    "        #print('Succesfully converged to ',x_0)\n",
    "        return x_0, k\n",
    "    return x_0, k"
   ]
  },
  {
   "cell_type": "code",
   "execution_count": 170,
   "metadata": {
    "collapsed": false
   },
   "outputs": [
    {
     "data": {
      "text/plain": [
       "array([[ 5.,  0.,  1.,  0.,  0.,  0.],\n",
       "       [-3.,  4.,  0.,  0.,  0.,  0.],\n",
       "       [ 0.,  0.,  3., -2.,  0.,  0.],\n",
       "       [ 0.,  2.,  0.,  3.,  0.,  0.],\n",
       "       [ 0.,  0.,  0.,  0.,  1.,  0.],\n",
       "       [ 0.,  0.,  0.,  0., -2.,  3.]])"
      ]
     },
     "execution_count": 170,
     "metadata": {},
     "output_type": "execute_result"
    }
   ],
   "source": [
    "A"
   ]
  },
  {
   "cell_type": "code",
   "execution_count": 171,
   "metadata": {
    "collapsed": false
   },
   "outputs": [
    {
     "data": {
      "text/plain": [
       "array([ 0.76379041,  0.73304484,  0.33068091,  0.14502661,  0.94865982,\n",
       "        0.48528985])"
      ]
     },
     "execution_count": 171,
     "metadata": {},
     "output_type": "execute_result"
    }
   ],
   "source": [
    "b"
   ]
  },
  {
   "cell_type": "code",
   "execution_count": 172,
   "metadata": {
    "collapsed": false
   },
   "outputs": [],
   "source": [
    "sA = sparse.csr_matrix(A)"
   ]
  },
  {
   "cell_type": "code",
   "execution_count": 215,
   "metadata": {
    "collapsed": false
   },
   "outputs": [
    {
     "name": "stdout",
     "output_type": "stream",
     "text": [
      "Succesfully converged to  [ 0.15059673  0.29620876  0.0108069  -0.1491303   0.94865982  0.79420317]\n"
     ]
    },
    {
     "data": {
      "text/plain": [
       "(array([ 0.15059673,  0.29620876,  0.0108069 , -0.1491303 ,  0.94865982,\n",
       "         0.79420317]), 11)"
      ]
     },
     "execution_count": 215,
     "metadata": {},
     "output_type": "execute_result"
    }
   ],
   "source": [
    "sparseGSeidelIter(sA, b, tol = 1e-6, maxiters = 30, omega= 1)"
   ]
  },
  {
   "cell_type": "markdown",
   "metadata": {},
   "source": [
    "Problem 5"
   ]
  },
  {
   "cell_type": "code",
   "execution_count": 218,
   "metadata": {
    "collapsed": false
   },
   "outputs": [
    {
     "name": "stdout",
     "output_type": "stream",
     "text": [
      "Succesfully converged to  [ 0.15059666  0.29620868  0.01080664 -0.14913023  0.94865982  0.79420317]\n"
     ]
    },
    {
     "data": {
      "text/plain": [
       "(array([ 0.15059666,  0.29620868,  0.01080664, -0.14913023,  0.94865982,\n",
       "         0.79420317]), 20)"
      ]
     },
     "execution_count": 218,
     "metadata": {},
     "output_type": "execute_result"
    }
   ],
   "source": [
    "sparseGSeidelIter(sA, b, tol = 1e-6, maxiters = 30, omega= 1.1)"
   ]
  },
  {
   "cell_type": "markdown",
   "metadata": {},
   "source": [
    "Omega can supposedly sometimes dramatically improve convergence. Emphasis on 'sometimes'."
   ]
  },
  {
   "cell_type": "markdown",
   "metadata": {},
   "source": [
    "Problem 6"
   ]
  },
  {
   "cell_type": "code",
   "execution_count": 313,
   "metadata": {
    "collapsed": true
   },
   "outputs": [],
   "source": [
    "def funct(n, omega, tol = 1e-8, maxiters = 100, plot = False):\n",
    "    B = sparse.diags([1,-4,1],[-1,0,1],shape=(n,n))\n",
    "    A = sparse.block_diag(np.tile(B,n))\n",
    "    offdiagI = sparse.diags([1,1],[-n,n],shape = (n**2,n**2))\n",
    "    #print(offdiagI.toarray())\n",
    "    A = A + offdiagI\n",
    "    #print(A.toarray())\n",
    "    \n",
    "    b = np.zeros(n)\n",
    "    b[0], b[n -1] = -100, -100\n",
    "    b = np.tile(b, n)\n",
    "    \n",
    "    x, it = sparseGSeidelIter(A,b,tol,maxiters,omega)\n",
    "    \n",
    "    if plot:\n",
    "        u = np.reshape(x,(n,n))\n",
    "        xcoord = np.linspace(0,n,n+1)\n",
    "        plt.pcolormesh(xcoord,xcoord,u,cmap='coolwarm')\n",
    "        plt.colorbar()\n",
    "        plt.axis('off')\n",
    "        plt.show()\n",
    "    return x, it"
   ]
  },
  {
   "cell_type": "code",
   "execution_count": 302,
   "metadata": {
    "collapsed": false
   },
   "outputs": [
    {
     "data": {
      "image/png": "[encoded data removed]",
      "text/plain": [
       "<matplotlib.figure.Figure at 0x112d0e550>"
      ]
     },
     "metadata": {},
     "output_type": "display_data"
    }
   ],
   "source": [
    "M = funct(10, 1, tol = 1e-8, maxiters = 100, plot = True)"
   ]
  },
  {
   "cell_type": "code",
   "execution_count": 304,
   "metadata": {
    "collapsed": false
   },
   "outputs": [
    {
     "data": {
      "image/png": "[encoded data removed]",
      "text/plain": [
       "<matplotlib.figure.Figure at 0x112952e10>"
      ]
     },
     "metadata": {},
     "output_type": "display_data"
    }
   ],
   "source": [
    "M = funct(20, 1, tol = 1e-8, maxiters = 100, plot = True)"
   ]
  },
  {
   "cell_type": "code",
   "execution_count": 305,
   "metadata": {
    "collapsed": false
   },
   "outputs": [
    {
     "data": {
      "image/png": "[encoded data removed]",
      "text/plain": [
       "<matplotlib.figure.Figure at 0x112341eb8>"
      ]
     },
     "metadata": {},
     "output_type": "display_data"
    }
   ],
   "source": [
    "M = funct(50, 1, tol = 1e-8, maxiters = 100, plot = True)"
   ]
  },
  {
   "cell_type": "code",
   "execution_count": 301,
   "metadata": {
    "collapsed": false
   },
   "outputs": [
    {
     "data": {
      "image/png": "[encoded data removed]",
      "text/plain": [
       "<matplotlib.figure.Figure at 0x112d0eeb8>"
      ]
     },
     "metadata": {},
     "output_type": "display_data"
    }
   ],
   "source": [
    "M = funct(100, 1, tol = 1e-8, maxiters = 100, plot = True)"
   ]
  },
  {
   "cell_type": "code",
   "execution_count": null,
   "metadata": {
    "collapsed": true
   },
   "outputs": [],
   "source": []
  },
  {
   "cell_type": "markdown",
   "metadata": {},
   "source": [
    "Problem 7"
   ]
  },
  {
   "cell_type": "code",
   "execution_count": null,
   "metadata": {
    "collapsed": true
   },
   "outputs": [],
   "source": []
  },
  {
   "cell_type": "code",
   "execution_count": 315,
   "metadata": {
    "collapsed": false
   },
   "outputs": [
    {
     "data": {
      "image/png": "[encoded data removed]",
      "text/plain": [
       "<matplotlib.figure.Figure at 0x112a9b860>"
      ]
     },
     "metadata": {},
     "output_type": "display_data"
    }
   ],
   "source": [
    "n = 20\n",
    "tol = 1e-2\n",
    "maxiters = 1000\n",
    "omegas = np.linspace(1,1.95,20)\n",
    "iteration = np.empty_like(omegas)\n",
    "for i in range(len(omegas)):\n",
    "    iteration[i] = funct(n, omegas[i], tol = 1e-2,maxiters=1000)[1]\n",
    "plt.plot(w,iteration)\n",
    "plt.xlabel('Omega')\n",
    "plt.ylabel('Required number of iterations')\n",
    "plt.show()"
   ]
  },
  {
   "cell_type": "code",
   "execution_count": 317,
   "metadata": {
    "collapsed": false
   },
   "outputs": [
    {
     "data": {
      "image/png": "[encoded data removed]",
      "text/plain": [
       "<matplotlib.figure.Figure at 0x112817dd8>"
      ]
     },
     "metadata": {},
     "output_type": "display_data"
    }
   ],
   "source": [
    "n = 20\n",
    "tol = 1e-4\n",
    "maxiters = 1000\n",
    "omegas = np.linspace(1,1.95,20)\n",
    "iteration = np.empty_like(omegas)\n",
    "for i in range(len(omegas)):\n",
    "    iteration[i] = funct(n, omegas[i], tol = 1e-4,maxiters=1000)[1]\n",
    "plt.plot(w,iteration)\n",
    "plt.xlabel('Omega')\n",
    "plt.ylabel('Required number of iterations')\n",
    "plt.show()"
   ]
  },
  {
   "cell_type": "code",
   "execution_count": null,
   "metadata": {
    "collapsed": true
   },
   "outputs": [],
   "source": []
  }
 ],
 "metadata": {
  "kernelspec": {
   "display_name": "Python 3",
   "language": "python",
   "name": "python3"
  },
  "language_info": {
   "codemirror_mode": {
    "name": "ipython",
    "version": 3
   },
   "file_extension": ".py",
   "mimetype": "text/x-python",
   "name": "python",
   "nbconvert_exporter": "python",
   "pygments_lexer": "ipython3",
   "version": "3.6.0"
  }
 },
 "nbformat": 4,
 "nbformat_minor": 2
}
