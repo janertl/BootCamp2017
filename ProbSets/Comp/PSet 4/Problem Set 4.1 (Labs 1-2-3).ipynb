{
 "cells": [
  {
   "cell_type": "markdown",
   "metadata": {},
   "source": [
    "# 1. The PageRank algorithm"
   ]
  },
  {
   "cell_type": "markdown",
   "metadata": {},
   "source": [
    "Problem 1"
   ]
  },
  {
   "cell_type": "code",
   "execution_count": 1,
   "metadata": {
    "collapsed": false
   },
   "outputs": [
    {
     "name": "stdout",
     "output_type": "stream",
     "text": [
      "From Node\tTo Node\n",
      "\n",
      "0\t7\n",
      "\n",
      "1\t0\n",
      "\n",
      "3\t0\n",
      "\n",
      "3\t2\n",
      "\n",
      "3\t6\n",
      "\n",
      "4\t0\n",
      "\n",
      "4\t5\n",
      "\n",
      "4\t6\n",
      "\n",
      "5\t0\n",
      "\n",
      "5\t6\n",
      "\n",
      "6\t0\n",
      "\n",
      "7\t0\n"
     ]
    }
   ],
   "source": [
    "with open('./matrix.txt', 'r') as myfile:\n",
    "    for line in myfile:\n",
    "        print(str(line))"
   ]
  },
  {
   "cell_type": "code",
   "execution_count": 2,
   "metadata": {
    "collapsed": false
   },
   "outputs": [
    {
     "data": {
      "text/plain": [
       "['0', '4']"
      ]
     },
     "execution_count": 2,
     "metadata": {},
     "output_type": "execute_result"
    }
   ],
   "source": [
    "line = '0\\t4\\n'\n",
    "line.strip().split()"
   ]
  },
  {
   "cell_type": "code",
   "execution_count": 3,
   "metadata": {
    "collapsed": true
   },
   "outputs": [],
   "source": [
    "import numpy as np\n",
    "import scipy.linalg as la\n",
    "def adjacency(filename, N):\n",
    "    adj = np.zeros((N,N))\n",
    "    with open(filename, 'r') as myfile:\n",
    "        i = 0\n",
    "        for line in myfile:\n",
    "            if i > 0:\n",
    "                line = line.strip().split()\n",
    "                adj[int(line[0]),int(line[1])] = 1\n",
    "            i += 1\n",
    "    return adj"
   ]
  },
  {
   "cell_type": "code",
   "execution_count": 4,
   "metadata": {
    "collapsed": false
   },
   "outputs": [],
   "source": [
    "A = adjacency('./matrix.txt',8)"
   ]
  },
  {
   "cell_type": "code",
   "execution_count": 5,
   "metadata": {
    "collapsed": false
   },
   "outputs": [
    {
     "data": {
      "text/plain": [
       "array([[ 0.,  0.,  0.,  0.,  0.,  0.,  0.,  1.],\n",
       "       [ 1.,  0.,  0.,  0.,  0.,  0.,  0.,  0.],\n",
       "       [ 0.,  0.,  0.,  0.,  0.,  0.,  0.,  0.],\n",
       "       [ 1.,  0.,  1.,  0.,  0.,  0.,  1.,  0.],\n",
       "       [ 1.,  0.,  0.,  0.,  0.,  1.,  1.,  0.],\n",
       "       [ 1.,  0.,  0.,  0.,  0.,  0.,  1.,  0.],\n",
       "       [ 1.,  0.,  0.,  0.,  0.,  0.,  0.,  0.],\n",
       "       [ 1.,  0.,  0.,  0.,  0.,  0.,  0.,  0.]])"
      ]
     },
     "execution_count": 5,
     "metadata": {},
     "output_type": "execute_result"
    }
   ],
   "source": [
    "A"
   ]
  },
  {
   "cell_type": "markdown",
   "metadata": {},
   "source": [
    "Problem 2"
   ]
  },
  {
   "cell_type": "code",
   "execution_count": 6,
   "metadata": {
    "collapsed": true
   },
   "outputs": [],
   "source": [
    "def Kmat(A):\n",
    "    n = A.shape[0]\n",
    "    for i in range(n):\n",
    "        if sum(A.T[:,i]) == 0:\n",
    "            A[i,:] = np.ones((1,n))\n",
    "    D = np.diag(sum(A.T))\n",
    "    D = la.inv(D)\n",
    "    K = (D @ A).T\n",
    "    return K"
   ]
  },
  {
   "cell_type": "code",
   "execution_count": 7,
   "metadata": {
    "collapsed": false
   },
   "outputs": [
    {
     "data": {
      "text/plain": [
       "array([[ 0.        ,  1.        ,  0.125     ,  0.33333333,  0.33333333,\n",
       "         0.5       ,  1.        ,  1.        ],\n",
       "       [ 0.        ,  0.        ,  0.125     ,  0.        ,  0.        ,\n",
       "         0.        ,  0.        ,  0.        ],\n",
       "       [ 0.        ,  0.        ,  0.125     ,  0.33333333,  0.        ,\n",
       "         0.        ,  0.        ,  0.        ],\n",
       "       [ 0.        ,  0.        ,  0.125     ,  0.        ,  0.        ,\n",
       "         0.        ,  0.        ,  0.        ],\n",
       "       [ 0.        ,  0.        ,  0.125     ,  0.        ,  0.        ,\n",
       "         0.        ,  0.        ,  0.        ],\n",
       "       [ 0.        ,  0.        ,  0.125     ,  0.        ,  0.33333333,\n",
       "         0.        ,  0.        ,  0.        ],\n",
       "       [ 0.        ,  0.        ,  0.125     ,  0.33333333,  0.33333333,\n",
       "         0.5       ,  0.        ,  0.        ],\n",
       "       [ 1.        ,  0.        ,  0.125     ,  0.        ,  0.        ,\n",
       "         0.        ,  0.        ,  0.        ]])"
      ]
     },
     "execution_count": 7,
     "metadata": {},
     "output_type": "execute_result"
    }
   ],
   "source": [
    "Kmat(A)"
   ]
  },
  {
   "cell_type": "markdown",
   "metadata": {
    "collapsed": true
   },
   "source": [
    "Problem 3"
   ]
  },
  {
   "cell_type": "code",
   "execution_count": 8,
   "metadata": {
    "collapsed": true
   },
   "outputs": [],
   "source": [
    "import numpy as np\n",
    "def steadyState(A, N = None, d = 0.85, tol = 1e-5 ):\n",
    "    import numpy as np\n",
    "    if N != None:\n",
    "        A = A[:N,:N]\n",
    "    n = A.shape[0]\n",
    "    K = Kmat(A)\n",
    "    I = np.eye(n)\n",
    "    E = np.ones((n,n))\n",
    "    B = d * K + (1-d)/n * E\n",
    "    \n",
    "    #p = np.ones((1,n)).T/n\n",
    "    p = np.eye(n)[0,].T\n",
    "    dist = 10\n",
    "    i = 1\n",
    "    while dist > tol:\n",
    "        #print(p)\n",
    "        np = B @ p\n",
    "        dist = abs(la.norm(np - p))\n",
    "        p = np\n",
    "        i +=1\n",
    "    print('Number of iterations: ' + str(i))\n",
    "    return p\n",
    "        \n",
    "        "
   ]
  },
  {
   "cell_type": "code",
   "execution_count": 9,
   "metadata": {
    "collapsed": false
   },
   "outputs": [
    {
     "name": "stdout",
     "output_type": "stream",
     "text": [
      "Number of iterations: 75\n"
     ]
    },
    {
     "data": {
      "text/plain": [
       "array([ 0.43869593,  0.02171029,  0.02786154,  0.02171029,  0.02171029,\n",
       "        0.02786154,  0.04585394,  0.39459619])"
      ]
     },
     "execution_count": 9,
     "metadata": {},
     "output_type": "execute_result"
    }
   ],
   "source": [
    "steadyState(A)"
   ]
  },
  {
   "cell_type": "markdown",
   "metadata": {
    "collapsed": true
   },
   "source": [
    "Problem 4"
   ]
  },
  {
   "cell_type": "code",
   "execution_count": 10,
   "metadata": {
    "collapsed": true
   },
   "outputs": [],
   "source": [
    "def steadyState_2(A, N = None, d = 0.85):\n",
    "    import numpy as np\n",
    "    if N != None:\n",
    "        A = A[:N,:N]\n",
    "    n = A.shape[0]\n",
    "    K = Kmat(A)\n",
    "    I = np.eye(n)\n",
    "    E = np.ones((n,n))\n",
    "    B = d * K + (1-d)/n * E\n",
    "    \n",
    "    m,n = np.shape(A)\n",
    "    evals, evecs = la.eig(np.dot(np.conjugate(A).T, A))\n",
    "    ind = evals.argsort()[::-1]\n",
    "    evals = evals[ind]\n",
    "    evecs = evecs[ind]\n",
    "    p = la.solve(I-d*K, ((1-d)/n)*np.ones(n))\n",
    "    return p\n",
    "   \n",
    "        "
   ]
  },
  {
   "cell_type": "code",
   "execution_count": 11,
   "metadata": {
    "collapsed": false
   },
   "outputs": [
    {
     "data": {
      "text/plain": [
       "array([ 0.43869288,  0.02171029,  0.02786154,  0.02171029,  0.02171029,\n",
       "        0.02786154,  0.04585394,  0.39459924])"
      ]
     },
     "execution_count": 11,
     "metadata": {},
     "output_type": "execute_result"
    }
   ],
   "source": [
    "steadyState_2(A)"
   ]
  },
  {
   "cell_type": "markdown",
   "metadata": {
    "collapsed": true
   },
   "source": [
    "Problem 5 "
   ]
  },
  {
   "cell_type": "code",
   "execution_count": null,
   "metadata": {
    "collapsed": true
   },
   "outputs": [],
   "source": []
  },
  {
   "cell_type": "code",
   "execution_count": 1,
   "metadata": {
    "collapsed": false
   },
   "outputs": [],
   "source": [
    "\n",
    "with open('./ncaa2013.csv', 'r') as ncaafile:\n",
    "    ncaafile.readline()\n",
    "    for line in ncaafile:\n",
    "        teams = line.strip().split(',')\n",
    "        \n",
    "        #print(teams)"
   ]
  },
  {
   "cell_type": "code",
   "execution_count": 13,
   "metadata": {
    "collapsed": false
   },
   "outputs": [
    {
     "name": "stdout",
     "output_type": "stream",
     "text": [
      "Number of iterations: 22\n",
      "Top 5 teams in order:\n",
      "Duke\n",
      "Butler\n",
      "Louisville\n",
      "Illinois\n",
      "Indiana\n"
     ]
    }
   ],
   "source": [
    "import pandas as pd\n",
    "import numpy as np\n",
    "matches = pd.read_csv('./ncaa2013.csv').as_matrix()\n",
    "m, n = matches.shape\n",
    "names, index = np.unique(matches, return_inverse = True)\n",
    "index = index.reshape((m, n))\n",
    "\n",
    "k = len(names)\n",
    "A = np.zeros((k,k))\n",
    "\n",
    "for i in range(m):\n",
    "    #print((index[i, 0],index[i, 1]))\n",
    "    #A[index[i, 0], index[i, 1]] = 1\n",
    "    A[index[i, 1], index[i, 0]] = 1\n",
    "\n",
    "ranks = steadyState(A, d = 0.7, tol = 1e-6)\n",
    "\n",
    "ranks = names[np.argsort(ranks)[::-1]]\n",
    "\n",
    "print('Top 5 teams in order:')\n",
    "for i in range(5):\n",
    "    print(ranks[i])"
   ]
  },
  {
   "cell_type": "markdown",
   "metadata": {},
   "source": [
    "# Lab 2: Conditioning and Stability"
   ]
  },
  {
   "cell_type": "markdown",
   "metadata": {
    "collapsed": true
   },
   "source": [
    "Problem 1"
   ]
  },
  {
   "cell_type": "code",
   "execution_count": 14,
   "metadata": {
    "collapsed": false
   },
   "outputs": [
    {
     "name": "stdout",
     "output_type": "stream",
     "text": [
      "625.270162601\n",
      "625.270162601\n",
      "1.0\n"
     ]
    }
   ],
   "source": [
    "def condNum(A):\n",
    "    svals = la.svd(A)[1]\n",
    "    sval1 = max(svals)\n",
    "    svaln = min(svals)\n",
    "    condnum = sval1/svaln\n",
    "    return condnum\n",
    "\n",
    "A = np.random.random((4,4))\n",
    "print(condNum(A))\n",
    "print(np.linalg.cond(A))\n",
    "\n",
    "Q = la.qr(A)[0]\n",
    "print(condNum(Q))"
   ]
  },
  {
   "cell_type": "markdown",
   "metadata": {
    "collapsed": true
   },
   "source": [
    "Problem 2"
   ]
  },
  {
   "cell_type": "code",
   "execution_count": 15,
   "metadata": {
    "collapsed": false
   },
   "outputs": [
    {
     "name": "stdout",
     "output_type": "stream",
     "text": [
      "Approximate Absolute Condition Number: 3.43474005362824e-8\n",
      "Approximate Relative Condition Number: 23706163258.2456\n"
     ]
    },
    {
     "data": {
      "image/png": "[encoded data removed]",
      "text/plain": [
       "<matplotlib.figure.Figure at 0x11cd3c668>"
      ]
     },
     "metadata": {},
     "output_type": "display_data"
    }
   ],
   "source": [
    "import sympy as sy\n",
    "from matplotlib import pyplot as plt\n",
    "\n",
    "# The roots of w are 1, 2, ..., 20.\n",
    "w_roots = np.arange(1, 21)\n",
    "\n",
    "# Get the exact Wilkinson polynomial coefficients using SymPy.\n",
    "x, i = sy.symbols('x i')\n",
    "w = sy.poly_from_expr(sy.product(x-i, (i, 1, 20)))[0]\n",
    "w_coeffs = np.array(w.all_coeffs())\n",
    "\n",
    "\n",
    "\n",
    "plt.scatter(w_roots.real,w_roots.imag,\n",
    "            c='b', marker='o',s=20, label = \"Original\")\n",
    "\n",
    "\n",
    "maxacn = 0\n",
    "maxrcn = 0\n",
    "for i in range(100):\n",
    "    r = np.random.normal(1, 1e-10, 21)\n",
    "    new_coeffs = w_coeffs*r\n",
    "    new_roots = np.roots(np.poly1d(new_coeffs))\n",
    "    \n",
    "    if i == 99:\n",
    "        plt.scatter(new_roots.real,new_roots.imag,\n",
    "                    c='k',marker='.', s = 0.1, label = 'Perturbed')\n",
    "    else:\n",
    "        plt.scatter(new_roots.real,new_roots.imag,\n",
    "                    c='k',marker='.', s = 0.1)\n",
    "    \n",
    "    abscn = la.norm(new_roots - w_roots,\n",
    "                    np.inf) / la.norm(new_coeffs - w_coeffs, np.inf)\n",
    "    if abscn > maxacn:\n",
    "        maxacn = abscn\n",
    "        \n",
    "    relcn = abscn * la.norm(w_coeffs,\n",
    "                            np.inf) / la.norm(w_roots, np.inf)\n",
    "    \n",
    "    if relcn > maxrcn:\n",
    "        maxrcn = relcn\n",
    "        \n",
    "print(\"Approximate Absolute Condition Number: \" + str(maxacn))\n",
    "print(\"Approximate Relative Condition Number: \" + str(maxrcn))  \n",
    "\n",
    "\n",
    "plt.xlabel(\"Real Axis\")\n",
    "plt.ylabel(\"Imaginary Axis\")\n",
    "plt.legend(loc = 'upper left')\n",
    "plt.show()\n",
    "\n"
   ]
  },
  {
   "cell_type": "markdown",
   "metadata": {
    "collapsed": true
   },
   "source": [
    "Problem 3"
   ]
  },
  {
   "cell_type": "code",
   "execution_count": 16,
   "metadata": {
    "collapsed": true
   },
   "outputs": [],
   "source": [
    "def evalcond(A):\n",
    "    reals = np.random.normal(0, 1e-10, A.shape)\n",
    "    imags = np.random.normal(0, 1e-10, A.shape)\n",
    "    H = reals + 1j*imags\n",
    "    lambda_old = la.eigvals(A)\n",
    "    A_tilde = A + H\n",
    "    lambda_new = la.eigvals(A_tilde)\n",
    "    # acn\n",
    "    k_tilde = la.norm(lambda_old - lambda_new, 2)/la.norm(H, 2)\n",
    "    # rcn\n",
    "    k = (la.norm(A, 2)/la.norm(lambda_old, 2))*k_tilde\n",
    "    return k_tilde, k"
   ]
  },
  {
   "cell_type": "markdown",
   "metadata": {
    "collapsed": true
   },
   "source": [
    "Problem 4"
   ]
  },
  {
   "cell_type": "code",
   "execution_count": 17,
   "metadata": {
    "collapsed": false
   },
   "outputs": [
    {
     "data": {
      "image/png": "[encoded data removed]",
      "text/plain": [
       "<matplotlib.figure.Figure at 0x11dbd16d8>"
      ]
     },
     "metadata": {},
     "output_type": "display_data"
    }
   ],
   "source": [
    "def condgrid(bounds, res):\n",
    "    \n",
    "    x_min, x_max, y_min, y_max = bounds\n",
    "    xvals = np.linspace(x_min, x_max, res)\n",
    "    yvals = np.linspace(y_min, y_max, res)\n",
    "    condNums = np.zeros((res, res))\n",
    "    for i in range(res):\n",
    "        for j in range(res):\n",
    "            A = np.array([[1,xvals[i]],[yvals[j],1]])\n",
    "            condNums[i,j] = evalcond(A)[1]\n",
    "    plt.pcolormesh(xvals, yvals, condNums, cmap='gray_r')\n",
    "    plt.colorbar()\n",
    "    plt.show()\n",
    "    \n",
    "condgrid([-100,100,-100,100],200)"
   ]
  },
  {
   "cell_type": "markdown",
   "metadata": {
    "collapsed": false
   },
   "source": [
    "Problem 5"
   ]
  },
  {
   "cell_type": "code",
   "execution_count": 18,
   "metadata": {
    "collapsed": false
   },
   "outputs": [
    {
     "data": {
      "image/png": "[encoded data removed]",
      "text/plain": [
       "<matplotlib.figure.Figure at 0x11dca2d30>"
      ]
     },
     "metadata": {},
     "output_type": "display_data"
    },
    {
     "data": {
      "image/png": "[encoded data removed]",
      "text/plain": [
       "<matplotlib.figure.Figure at 0x11dc037b8>"
      ]
     },
     "metadata": {},
     "output_type": "display_data"
    }
   ],
   "source": [
    "def condpolyfit(n):\n",
    "    xk, yk = np.load('stability_data.npy').T\n",
    "    A = np.vander(xk, n+1)\n",
    "    \n",
    "    # la.inv\n",
    "    ck_inv = la.inv(A.T @ A) @ A.T @ yk\n",
    "    ferror_Inv = np.linalg.norm(A @ ck_inv - yk)\n",
    "    \n",
    "    # QR decomp\n",
    "    Q , R = la.qr(A, mode='economic')\n",
    "    ck_QR = la.solve_triangular(R, Q.T @ yk)\n",
    "    ferror_QR = np.linalg.norm(A @ ck_QR - yk)\n",
    "    \n",
    "    plt.plot(xk, yk, \".k\")\n",
    "    plt.plot(xk, np.polyval(ck_inv, xk), label=\"Normal Equations\")\n",
    "    plt.plot(xk, np.polyval(ck_QR, xk), label = \"QR Solver\")\n",
    "    plt.legend()\n",
    "    plt.title(\"Fit of Data for Polynomial of Degree \" + str(n))\n",
    "    plt.show()\n",
    "    #return ferror_Inv, ferror_QR\n",
    "\n",
    "condpolyfit(10)\n",
    "condpolyfit(12)\n"
   ]
  },
  {
   "cell_type": "markdown",
   "metadata": {},
   "source": [
    "We can see that for a polynomial fit of degree 10, the methods still produce the same result, but that for larger degrees, the QR method is more stable."
   ]
  },
  {
   "cell_type": "markdown",
   "metadata": {
    "collapsed": true
   },
   "source": [
    "Problem 6"
   ]
  },
  {
   "cell_type": "code",
   "execution_count": 26,
   "metadata": {
    "collapsed": false
   },
   "outputs": [
    {
     "data": {
      "image/png": "[encoded data removed]",
      "text/plain": [
       "<matplotlib.figure.Figure at 0x11dc2ec88>"
      ]
     },
     "metadata": {},
     "output_type": "display_data"
    }
   ],
   "source": [
    "\n",
    "import math\n",
    "ferror = []\n",
    "x = sy.Symbol('x')\n",
    "\n",
    "for n in np.arange(5,55,5):\n",
    "    intn = int(n)\n",
    "    # Integral \n",
    "    I_integral = float(sy.integrate((x**intn)*(sy.exp((x-1))), (x, 0, 1)))\n",
    "    # Factorial formula\n",
    "    I_formula = float((-1)**intn)*sy.subfactorial(intn)+ \\\n",
    "    ((-1)**(intn+1))*sy.factorial(intn)/math.e\n",
    "    \n",
    "    ferror.append(abs(-(I_formula-I_integral)/I_integral))\n",
    "\n",
    "plt.plot(np.arange(5,55,5),ferror)\n",
    "plt.yscale('log')\n",
    "\n",
    "plt.show()\n"
   ]
  },
  {
   "cell_type": "markdown",
   "metadata": {},
   "source": [
    "It seems that starting with n = 25, the factorial formula I is equal to zero (hence the forward error equal to 1).\n",
    "The factorial values become so great, and of similar size, such that the actual difference in the factorial formula is rounded to zero."
   ]
  },
  {
   "cell_type": "markdown",
   "metadata": {},
   "source": [
    "# Numerical Differentiation"
   ]
  },
  {
   "cell_type": "markdown",
   "metadata": {
    "collapsed": true
   },
   "source": [
    "Problem 1"
   ]
  },
  {
   "cell_type": "code",
   "execution_count": 27,
   "metadata": {
    "collapsed": false
   },
   "outputs": [
    {
     "data": {
      "image/png": "[encoded data removed]",
      "text/plain": [
       "<matplotlib.figure.Figure at 0x11e133ac8>"
      ]
     },
     "metadata": {},
     "output_type": "display_data"
    }
   ],
   "source": [
    "x = sy.Symbol('x')\n",
    "f = (sy.sin(x) + 1)**(sy.sin(sy.cos(x)))\n",
    "fp = sy.diff(f, x)\n",
    "f = sy.lambdify(x, f, 'numpy')\n",
    "fp = sy.lambdify(x, fp, 'numpy')\n",
    "\n",
    "xvals = np.linspace(-np.pi, np.pi,100)\n",
    "\n",
    "ax = plt.gca()\n",
    "ax.spines[\"bottom\"].set_position(\"zero\")\n",
    "\n",
    "ax.plot(xvals, f(xvals), label=\"f\")\n",
    "ax.plot(xvals, fp(xvals), label=\"f\\'\")\n",
    "plt.xlim(-np.pi, np.pi)\n",
    "plt.legend()\n",
    "plt.grid()\n",
    "plt.show()"
   ]
  },
  {
   "cell_type": "markdown",
   "metadata": {
    "collapsed": true
   },
   "source": [
    "Problem 2"
   ]
  },
  {
   "cell_type": "code",
   "execution_count": 28,
   "metadata": {
    "collapsed": false
   },
   "outputs": [
    {
     "data": {
      "image/png": "[encoded data removed]",
      "text/plain": [
       "<matplotlib.figure.Figure at 0x11dbb9b38>"
      ]
     },
     "metadata": {},
     "output_type": "display_data"
    }
   ],
   "source": [
    "def forward_1(f, x, h):\n",
    "    return (f(x + h) - f(x)) / h\n",
    "\n",
    "def forward_2(f, x, h):\n",
    "    return (-3 * f(x) + 4 * f(x + h) - f(x + 2 * h))/(2 * h)\n",
    "\n",
    "def backward_1(f, x, h):\n",
    "    return (f(x) - f(x - h))/h\n",
    "\n",
    "def backward_2(f, x, h):\n",
    "    return (3 * f(x) - 4 * f(x - h) + f(x - 2 * h))/(2 * h)\n",
    "\n",
    "def centered_2(f, x, h):\n",
    "    return (f(x + h) - f(x - h))/(2 * h)\n",
    "\n",
    "def centered_4(f, x, h):\n",
    "    return (f(x - 2 * h) - 8 * f(x - h) + 8 * f(x + h) - f(x + 2 * h))/(12 * h)\n",
    "\n",
    "\n",
    "ax = plt.gca()\n",
    "ax.spines[\"bottom\"].set_position(\"zero\")\n",
    "ax.plot(xvals, fp(xvals), label=\"Derivative\")\n",
    "ax.plot(xvals, forward_1(f,xvals,0.01), label=\"Forward 1\")\n",
    "ax.plot(xvals, forward_2(f, xvals,0.01), label=\"Forward 2\")\n",
    "ax.plot(xvals, backward_1(f, xvals,0.01), label=\"Backward 1\")\n",
    "ax.plot(xvals, backward_2(f, xvals, 0.01), label=\"Backward 2\")\n",
    "ax.plot(xvals, centered_2(f, xvals, 0.01), label = \"Centered 2\")\n",
    "ax.plot(xvals, centered_4(f, xvals, 0.01), label = \"Centered 4\")\n",
    "plt.xlim(-np.pi, np.pi)\n",
    "plt.legend(loc = 'lower right')\n",
    "plt.show()"
   ]
  },
  {
   "cell_type": "markdown",
   "metadata": {},
   "source": [
    "They all look like fairly decent approximations.\n",
    "To compare, let's check the norm of the difference to the actual function:"
   ]
  },
  {
   "cell_type": "code",
   "execution_count": 29,
   "metadata": {
    "collapsed": false
   },
   "outputs": [
    {
     "name": "stdout",
     "output_type": "stream",
     "text": [
      "0.699765645035\n",
      "0.164613875615\n",
      "1.03575695162\n",
      "1.07020854621\n",
      "0.179705891601\n",
      "0.0857458554292\n",
      "For a different grid:\n",
      "1.73437720596\n",
      "0.946928765877\n",
      "2.73573687892\n",
      "3.82086826137\n",
      "0.58373757629\n",
      "0.910402139758\n"
     ]
    }
   ],
   "source": [
    "\n",
    "functions = [forward_1, forward_2, backward_1, backward_2, centered_2, centered_4]\n",
    "#Grid as before:\n",
    "\n",
    "xvals = np.linspace(-np.pi, np.pi,100)\n",
    "\n",
    "for g in functions:\n",
    "    print(np.linalg.norm(fp(xvals)-g(f,xvals, h=0.01)))\n",
    "    \n",
    "print('For a different grid:')\n",
    "      \n",
    "xvals = np.linspace(-np.pi, np.pi,300)\n",
    "\n",
    "for g in functions:\n",
    "    print(np.linalg.norm(fp(xvals)-g(f,xvals, h=0.01)))"
   ]
  },
  {
   "cell_type": "markdown",
   "metadata": {},
   "source": [
    "It seems that centered is more accurate than forward, which is more accurate than backward as a method."
   ]
  },
  {
   "cell_type": "markdown",
   "metadata": {
    "collapsed": true
   },
   "source": [
    "Problem 3"
   ]
  },
  {
   "cell_type": "code",
   "execution_count": 30,
   "metadata": {
    "collapsed": false
   },
   "outputs": [
    {
     "data": {
      "image/png": "[encoded data removed]",
      "text/plain": [
       "<matplotlib.figure.Figure at 0x11d9218d0>"
      ]
     },
     "metadata": {},
     "output_type": "display_data"
    }
   ],
   "source": [
    "def derivError(x):\n",
    "    xvals = np.logspace(-8,0,9)\n",
    "    aerror = np.zeros((len(xvals), 6))\n",
    "    for i in range(len(xvals)):\n",
    "        for j in range(len(functions)):\n",
    "            aerror[i,j] = abs(functions[j](f, x, xvals[i]) - fp(x))   \n",
    "    plt.figure(figsize=(10,6))\n",
    "    labels = [\"Order 1 Forward\", \"Order 2 Forward\",\n",
    "              \"Order 1 Backward\", \"Order 2 Backward\",\n",
    "              \"Order 2 Centered\", \"Order 4 Centered\"]\n",
    "    for j in range(len(functions)):\n",
    "        plt.loglog(xvals, aerror[:,j],\n",
    "                   label = labels[j], marker = 'o')\n",
    "    plt.legend(loc = 'upper left')\n",
    "    plt.show()\n",
    "    \n",
    "derivError(1)"
   ]
  },
  {
   "cell_type": "markdown",
   "metadata": {
    "collapsed": true
   },
   "source": [
    "Problem 4"
   ]
  },
  {
   "cell_type": "code",
   "execution_count": 35,
   "metadata": {
    "collapsed": false
   },
   "outputs": [
    {
     "name": "stdout",
     "output_type": "stream",
     "text": [
      "The approximate speeds at times 7 to 14 are:\n",
      "[ 46.42420062  47.00103938  48.99880514  50.09944163  48.29035084\n",
      "  51.56455905  53.92303355  51.51480057]\n"
     ]
    }
   ],
   "source": [
    "a = 500\n",
    "\n",
    "plane = np.load('plane.npy')\n",
    "alpha = np.deg2rad(plane[:, 1])\n",
    "beta = np.deg2rad(plane[:, 2])\n",
    "\n",
    "x = a * (np.tan(beta))/(np.tan(beta) - np.tan(alpha))\n",
    "y = a * (np.tan(beta) * np.tan(alpha))/(np.tan(beta) - np.tan(alpha))\n",
    "\n",
    "xyp = np.zeros((2, len(x)))\n",
    "i = 0\n",
    "for z in [x, y]:\n",
    "    xyp[i,0] = np.array([z[1] - z[0]])\n",
    "    xyp[i,1:-1] = (z[2:] - z[:-2])/2\n",
    "    xyp[i,-1] = np.array([z[-1] - z[-2]])\n",
    "    i += 1\n",
    "\n",
    "print('The approximate speeds at times 7 to 14 are:')\n",
    "print((xyp[0] ** 2 + xyp[1] ** 2) ** .5)\n",
    "\n"
   ]
  },
  {
   "cell_type": "markdown",
   "metadata": {
    "collapsed": true
   },
   "source": [
    "Problem 5"
   ]
  },
  {
   "cell_type": "code",
   "execution_count": 129,
   "metadata": {
    "collapsed": false
   },
   "outputs": [
    {
     "data": {
      "text/plain": [
       "array([[ 2.        ,  0.        ],\n",
       "       [ 3.00000001, -1.        ]])"
      ]
     },
     "execution_count": 129,
     "metadata": {},
     "output_type": "execute_result"
    }
   ],
   "source": [
    "def myjacobian(f, x_0, h):\n",
    "    n = np.shape(x_0)[0]\n",
    "    m = np.shape(f(x_0))[0]\n",
    "    J = np.zeros((m,n))\n",
    "    I = np.eye(n)\n",
    "    for i in range(m):\n",
    "        for j in range(n):\n",
    "            J[i, j] = (f(x_0 + h * I[:, j])[i] \n",
    "                       - f(x_0 - h * I[:, j])[i])/(2*h)\n",
    "    return J\n",
    "\n",
    "\n",
    "# test\n",
    "def f(x):\n",
    "    return np.array([x[0]**2, x[0]**3 - x[1]])\n",
    "x_0 = np.array([1.,-1.])\n",
    "myjacobian(f, x_0, 0.0001)"
   ]
  },
  {
   "cell_type": "markdown",
   "metadata": {},
   "source": [
    "The function is fairly accurate. The Jacobian is correct except for a small error in $J[1,0] \\neq 3.$"
   ]
  },
  {
   "cell_type": "markdown",
   "metadata": {
    "collapsed": true
   },
   "source": [
    "Problem 6"
   ]
  },
  {
   "cell_type": "code",
   "execution_count": 135,
   "metadata": {
    "collapsed": false
   },
   "outputs": [
    {
     "name": "stdout",
     "output_type": "stream",
     "text": [
      "0.230259011147\n",
      "sympy: 0.0044820308685302734\n"
     ]
    },
    {
     "ename": "SyntaxError",
     "evalue": "invalid syntax (<string>, line 1)",
     "output_type": "error",
     "traceback": [
      "\u001b[0;36m  File \u001b[0;32m\"<string>\"\u001b[0;36m, line \u001b[0;32m1\u001b[0m\n\u001b[0;31m    lambda _Dummy_122: (<function <lambda> at 0x11ea56840>)\u001b[0m\n\u001b[0m                        ^\u001b[0m\n\u001b[0;31mSyntaxError\u001b[0m\u001b[0;31m:\u001b[0m invalid syntax\n"
     ]
    }
   ],
   "source": [
    "import sympy as sy\n",
    "from autograd import grad\n",
    "import autograd.numpy as anp\n",
    "import math\n",
    "import time\n",
    "\n",
    "x = sy.Symbol('x')\n",
    "f = sy.log(sy.sqrt(sy.sin(sy.sqrt(x))))\n",
    "x_0 = np.pi/4\n",
    "\n",
    "start = time.time()\n",
    "fp = sy.diff(f, x)\n",
    "fp = sy.lambdify(x, fp,'numpy')\n",
    "print(fp(x_0))\n",
    "end = time.time()\n",
    "print('sympy: '+ str(end - start))\n",
    "\n",
    "\n",
    "f = lambda x: math.log(math.sqrt(math.sin(math.sqrt(x))))\n",
    "x_0 = math.pi/4\n",
    "start = time.time()\n",
    "fpx_0 = centered_2(f, x_0, 0.00001)\n",
    "fp = sy.lambdify(x, fp,'numpy')\n",
    "print(fp(x_0))\n",
    "end = time.time()\n",
    "print('sympy: '+ str(end - start))\n",
    "\n",
    "f = lambda x: anp.log(anp.sqrt(anp.sin(anp.sqrt(x))))\n",
    "start = time.time()\n",
    "grad_f = grad(f)\n",
    "print(grad_f(x_0))\n",
    "end = time.time()\n",
    "print('autograd: '+ str(end - start))"
   ]
  },
  {
   "cell_type": "code",
   "execution_count": 136,
   "metadata": {
    "collapsed": false
   },
   "outputs": [
    {
     "name": "stdout",
     "output_type": "stream",
     "text": [
      "Sympy:\n",
      "10000 loops, best of 3: 183 µs per loop\n"
     ]
    },
    {
     "ename": "AttributeError",
     "evalue": "'function' object has no attribute 'subs'",
     "output_type": "error",
     "traceback": [
      "\u001b[0;31m---------------------------------------------------------------------------\u001b[0m",
      "\u001b[0;31mAttributeError\u001b[0m                            Traceback (most recent call last)",
      "\u001b[0;32m<ipython-input-136-d73c00086db5>\u001b[0m in \u001b[0;36m<module>\u001b[0;34m()\u001b[0m\n\u001b[1;32m      8\u001b[0m \u001b[0mprint\u001b[0m\u001b[0;34m(\u001b[0m\u001b[0;34m\"Sympy:\"\u001b[0m\u001b[0;34m)\u001b[0m\u001b[0;34m\u001b[0m\u001b[0m\n\u001b[1;32m      9\u001b[0m \u001b[0mget_ipython\u001b[0m\u001b[0;34m(\u001b[0m\u001b[0;34m)\u001b[0m\u001b[0;34m.\u001b[0m\u001b[0mmagic\u001b[0m\u001b[0;34m(\u001b[0m\u001b[0;34m'timeit fp = sy.diff(f,x)'\u001b[0m\u001b[0;34m)\u001b[0m\u001b[0;34m\u001b[0m\u001b[0m\n\u001b[0;32m---> 10\u001b[0;31m \u001b[0mprint\u001b[0m\u001b[0;34m(\u001b[0m\u001b[0mstr\u001b[0m\u001b[0;34m(\u001b[0m\u001b[0mfloat\u001b[0m\u001b[0;34m(\u001b[0m\u001b[0mfp\u001b[0m\u001b[0;34m.\u001b[0m\u001b[0msubs\u001b[0m\u001b[0;34m(\u001b[0m\u001b[0mx\u001b[0m\u001b[0;34m,\u001b[0m\u001b[0mx_0\u001b[0m\u001b[0;34m)\u001b[0m\u001b[0;34m)\u001b[0m\u001b[0;34m)\u001b[0m\u001b[0;34m)\u001b[0m\u001b[0;34m\u001b[0m\u001b[0m\n\u001b[0m\u001b[1;32m     11\u001b[0m \u001b[0mprint\u001b[0m\u001b[0;34m(\u001b[0m\u001b[0;34m'\\n'\u001b[0m\u001b[0;34m)\u001b[0m\u001b[0;34m\u001b[0m\u001b[0m\n\u001b[1;32m     12\u001b[0m \u001b[0;34m\u001b[0m\u001b[0m\n",
      "\u001b[0;31mAttributeError\u001b[0m: 'function' object has no attribute 'subs'"
     ]
    }
   ],
   "source": [
    "from autograd import grad\n",
    "import autograd.numpy as anp \n",
    "\n",
    "# sympy\n",
    "x = sy.symbols('x')\n",
    "f = sy.log(sy.sqrt(sy.sin(sy.sqrt(x))))\n",
    "x_0 = sy.pi/4\n",
    "print(\"Sympy:\")\n",
    "%timeit fp = sy.diff(f,x)\n",
    "print(str(float(fp.subs(x,x_0))))\n",
    "print('\\n')\n",
    "\n",
    "# autograd\n",
    "f = lambda x: anp.log(anp.sqrt(anp.sin(anp.sqrt(x))))\n",
    "grad_f = grad(f)\n",
    "x0 = anp.pi/4\n",
    "print(\"Autograd:\")\n",
    "%timeit grad_f(x0)\n",
    "print(grad_f(x0))\n",
    "print(\"Error:\" + str(float(abs(grad_f(x0)-fp.subs(x,x_0)))))\n",
    "print('\\n')\n",
    "\n",
    "# centered\n",
    "f = lambda x: math.log(math.sqrt(math.sin(math.sqrt(x))))\n",
    "print(\"Second order centered difference quotient:\")\n",
    "%timeit centered_2(f,x_0,0.001)\n",
    "print(centered_2(f,x_0,0.001))\n",
    "print(\"Error:\" + str(float(abs(centered_2(f,x_0,0.001)-fp.subs(x,x_0)))))"
   ]
  },
  {
   "cell_type": "markdown",
   "metadata": {},
   "source": [
    "Not very sure why the centered method takes so long."
   ]
  },
  {
   "cell_type": "markdown",
   "metadata": {
    "collapsed": false
   },
   "source": [
    "Problem 7"
   ]
  },
  {
   "cell_type": "code",
   "execution_count": 137,
   "metadata": {
    "collapsed": false
   },
   "outputs": [
    {
     "ename": "TypeError",
     "evalue": "'log' object does not support item assignment",
     "output_type": "error",
     "traceback": [
      "\u001b[0;31m---------------------------------------------------------------------------\u001b[0m",
      "\u001b[0;31mTypeError\u001b[0m                                 Traceback (most recent call last)",
      "\u001b[0;32m<ipython-input-137-4aad36cfe7ec>\u001b[0m in \u001b[0;36m<module>\u001b[0;34m()\u001b[0m\n\u001b[1;32m     18\u001b[0m \u001b[0mfpp\u001b[0m \u001b[0;34m=\u001b[0m \u001b[0mnp\u001b[0m\u001b[0;34m.\u001b[0m\u001b[0mzeros\u001b[0m\u001b[0;34m(\u001b[0m\u001b[0mlen\u001b[0m\u001b[0;34m(\u001b[0m\u001b[0mx\u001b[0m\u001b[0;34m)\u001b[0m\u001b[0;34m)\u001b[0m\u001b[0;34m\u001b[0m\u001b[0m\n\u001b[1;32m     19\u001b[0m \u001b[0;32mfor\u001b[0m \u001b[0mi\u001b[0m \u001b[0;32min\u001b[0m \u001b[0mrange\u001b[0m\u001b[0;34m(\u001b[0m\u001b[0mlen\u001b[0m\u001b[0;34m(\u001b[0m\u001b[0mx\u001b[0m\u001b[0;34m)\u001b[0m\u001b[0;34m)\u001b[0m\u001b[0;34m:\u001b[0m\u001b[0;34m\u001b[0m\u001b[0m\n\u001b[0;32m---> 20\u001b[0;31m     \u001b[0mf\u001b[0m\u001b[0;34m[\u001b[0m\u001b[0mi\u001b[0m\u001b[0;34m]\u001b[0m \u001b[0;34m=\u001b[0m \u001b[0mtaylor_sin\u001b[0m\u001b[0;34m(\u001b[0m\u001b[0mx\u001b[0m\u001b[0;34m[\u001b[0m\u001b[0mi\u001b[0m\u001b[0;34m]\u001b[0m\u001b[0;34m)\u001b[0m\u001b[0;34m\u001b[0m\u001b[0m\n\u001b[0m\u001b[1;32m     21\u001b[0m     \u001b[0mfp\u001b[0m\u001b[0;34m[\u001b[0m\u001b[0mi\u001b[0m\u001b[0;34m]\u001b[0m \u001b[0;34m=\u001b[0m \u001b[0md_taylor_sin\u001b[0m\u001b[0;34m(\u001b[0m\u001b[0mx\u001b[0m\u001b[0;34m[\u001b[0m\u001b[0mi\u001b[0m\u001b[0;34m]\u001b[0m\u001b[0;34m)\u001b[0m\u001b[0;34m\u001b[0m\u001b[0m\n\u001b[1;32m     22\u001b[0m     \u001b[0mfpp\u001b[0m\u001b[0;34m[\u001b[0m\u001b[0mi\u001b[0m\u001b[0;34m]\u001b[0m \u001b[0;34m=\u001b[0m \u001b[0md_d_taylor_sin\u001b[0m\u001b[0;34m(\u001b[0m\u001b[0mx\u001b[0m\u001b[0;34m[\u001b[0m\u001b[0mi\u001b[0m\u001b[0;34m]\u001b[0m\u001b[0;34m)\u001b[0m\u001b[0;34m\u001b[0m\u001b[0m\n",
      "\u001b[0;31mTypeError\u001b[0m: 'log' object does not support item assignment"
     ]
    }
   ],
   "source": [
    "def taylor_sin(x, tol = 1e-8):\n",
    "    result = 0\n",
    "    cur_term = x\n",
    "    i = 0\n",
    "    while anp.abs(cur_term) >= tol:\n",
    "# Autograd's version of NumPy doesn't have the math attribute so use NumPy.\n",
    "        cur_term = ((-1)**(i))*x**(2*i+1)/np.math.factorial(2*i+1)\n",
    "        result += cur_term\n",
    "        i += 1\n",
    "    return result\n",
    "\n",
    "d_taylor_sin = grad(taylor_sin)\n",
    "d_d_taylor_sin = grad(d_taylor_sin)\n",
    "\n",
    "x = np.linspace(-math.pi,math.pi,100)\n",
    "#f = np.sin(x)\n",
    "fp = np.zeros(len(x))\n",
    "fpp = np.zeros(len(x))\n",
    "for i in range(len(x)):\n",
    "    f[i] = taylor_sin(x[i])\n",
    "    fp[i] = d_taylor_sin(x[i])\n",
    "    fpp[i] = d_d_taylor_sin(x[i])\n",
    "\n",
    "plt.plot(x,f,label=\"f(x) = sin(x)\")\n",
    "plt.plot(x,fp,label=\"f'(x)\")\n",
    "plt.plot(x,fpp,label=\"f''(x)\")\n",
    "\n",
    "plt.legend(loc = \"lower center\")\n",
    "plt.show()"
   ]
  },
  {
   "cell_type": "markdown",
   "metadata": {},
   "source": []
  },
  {
   "cell_type": "markdown",
   "metadata": {
    "collapsed": true
   },
   "source": [
    "Problem 8"
   ]
  },
  {
   "cell_type": "code",
   "execution_count": 138,
   "metadata": {
    "collapsed": false
   },
   "outputs": [
    {
     "name": "stdout",
     "output_type": "stream",
     "text": [
      "Second order centered:\n"
     ]
    },
    {
     "ename": "TypeError",
     "evalue": "'function' object is not subscriptable",
     "output_type": "error",
     "traceback": [
      "\u001b[0;31m---------------------------------------------------------------------------\u001b[0m",
      "\u001b[0;31mTypeError\u001b[0m                                 Traceback (most recent call last)",
      "\u001b[0;32m<ipython-input-138-675880b97bd5>\u001b[0m in \u001b[0;36m<module>\u001b[0;34m()\u001b[0m\n\u001b[1;32m     36\u001b[0m         \u001b[0;32mfor\u001b[0m \u001b[0mj\u001b[0m \u001b[0;32min\u001b[0m \u001b[0mrange\u001b[0m\u001b[0;34m(\u001b[0m\u001b[0;36m2\u001b[0m\u001b[0;34m)\u001b[0m\u001b[0;34m:\u001b[0m\u001b[0;34m\u001b[0m\u001b[0m\n\u001b[1;32m     37\u001b[0m             \u001b[0mJ\u001b[0m \u001b[0;34m=\u001b[0m \u001b[0mcentered_2\u001b[0m\u001b[0;34m(\u001b[0m\u001b[0mf\u001b[0m\u001b[0;34m[\u001b[0m\u001b[0mj\u001b[0m\u001b[0;34m]\u001b[0m\u001b[0;34m,\u001b[0m \u001b[0;36m1\u001b[0m\u001b[0;34m,\u001b[0m \u001b[0;36m0.001\u001b[0m\u001b[0;34m)\u001b[0m\u001b[0;34m\u001b[0m\u001b[0m\n\u001b[0;32m---> 38\u001b[0;31m \u001b[0mget_ipython\u001b[0m\u001b[0;34m(\u001b[0m\u001b[0;34m)\u001b[0m\u001b[0;34m.\u001b[0m\u001b[0mmagic\u001b[0m\u001b[0;34m(\u001b[0m\u001b[0;34m'timeit J(x_0)'\u001b[0m\u001b[0;34m)\u001b[0m\u001b[0;34m\u001b[0m\u001b[0m\n\u001b[0m\u001b[1;32m     39\u001b[0m \u001b[0;34m\u001b[0m\u001b[0m\n\u001b[1;32m     40\u001b[0m \u001b[0mprint\u001b[0m\u001b[0;34m(\u001b[0m\u001b[0mJ\u001b[0m\u001b[0;34m)\u001b[0m\u001b[0;34m\u001b[0m\u001b[0m\n",
      "\u001b[0;32m/Users/Jan/anaconda/lib/python3.6/site-packages/IPython/core/interactiveshell.py\u001b[0m in \u001b[0;36mmagic\u001b[0;34m(self, arg_s)\u001b[0m\n\u001b[1;32m   2156\u001b[0m         \u001b[0mmagic_name\u001b[0m\u001b[0;34m,\u001b[0m \u001b[0m_\u001b[0m\u001b[0;34m,\u001b[0m \u001b[0mmagic_arg_s\u001b[0m \u001b[0;34m=\u001b[0m \u001b[0marg_s\u001b[0m\u001b[0;34m.\u001b[0m\u001b[0mpartition\u001b[0m\u001b[0;34m(\u001b[0m\u001b[0;34m' '\u001b[0m\u001b[0;34m)\u001b[0m\u001b[0;34m\u001b[0m\u001b[0m\n\u001b[1;32m   2157\u001b[0m         \u001b[0mmagic_name\u001b[0m \u001b[0;34m=\u001b[0m \u001b[0mmagic_name\u001b[0m\u001b[0;34m.\u001b[0m\u001b[0mlstrip\u001b[0m\u001b[0;34m(\u001b[0m\u001b[0mprefilter\u001b[0m\u001b[0;34m.\u001b[0m\u001b[0mESC_MAGIC\u001b[0m\u001b[0;34m)\u001b[0m\u001b[0;34m\u001b[0m\u001b[0m\n\u001b[0;32m-> 2158\u001b[0;31m         \u001b[0;32mreturn\u001b[0m \u001b[0mself\u001b[0m\u001b[0;34m.\u001b[0m\u001b[0mrun_line_magic\u001b[0m\u001b[0;34m(\u001b[0m\u001b[0mmagic_name\u001b[0m\u001b[0;34m,\u001b[0m \u001b[0mmagic_arg_s\u001b[0m\u001b[0;34m)\u001b[0m\u001b[0;34m\u001b[0m\u001b[0m\n\u001b[0m\u001b[1;32m   2159\u001b[0m \u001b[0;34m\u001b[0m\u001b[0m\n\u001b[1;32m   2160\u001b[0m     \u001b[0;31m#-------------------------------------------------------------------------\u001b[0m\u001b[0;34m\u001b[0m\u001b[0;34m\u001b[0m\u001b[0m\n",
      "\u001b[0;32m/Users/Jan/anaconda/lib/python3.6/site-packages/IPython/core/interactiveshell.py\u001b[0m in \u001b[0;36mrun_line_magic\u001b[0;34m(self, magic_name, line)\u001b[0m\n\u001b[1;32m   2077\u001b[0m                 \u001b[0mkwargs\u001b[0m\u001b[0;34m[\u001b[0m\u001b[0;34m'local_ns'\u001b[0m\u001b[0;34m]\u001b[0m \u001b[0;34m=\u001b[0m \u001b[0msys\u001b[0m\u001b[0;34m.\u001b[0m\u001b[0m_getframe\u001b[0m\u001b[0;34m(\u001b[0m\u001b[0mstack_depth\u001b[0m\u001b[0;34m)\u001b[0m\u001b[0;34m.\u001b[0m\u001b[0mf_locals\u001b[0m\u001b[0;34m\u001b[0m\u001b[0m\n\u001b[1;32m   2078\u001b[0m             \u001b[0;32mwith\u001b[0m \u001b[0mself\u001b[0m\u001b[0;34m.\u001b[0m\u001b[0mbuiltin_trap\u001b[0m\u001b[0;34m:\u001b[0m\u001b[0;34m\u001b[0m\u001b[0m\n\u001b[0;32m-> 2079\u001b[0;31m                 \u001b[0mresult\u001b[0m \u001b[0;34m=\u001b[0m \u001b[0mfn\u001b[0m\u001b[0;34m(\u001b[0m\u001b[0;34m*\u001b[0m\u001b[0margs\u001b[0m\u001b[0;34m,\u001b[0m\u001b[0;34m**\u001b[0m\u001b[0mkwargs\u001b[0m\u001b[0;34m)\u001b[0m\u001b[0;34m\u001b[0m\u001b[0m\n\u001b[0m\u001b[1;32m   2080\u001b[0m             \u001b[0;32mreturn\u001b[0m \u001b[0mresult\u001b[0m\u001b[0;34m\u001b[0m\u001b[0m\n\u001b[1;32m   2081\u001b[0m \u001b[0;34m\u001b[0m\u001b[0m\n",
      "\u001b[0;32m<decorator-gen-58>\u001b[0m in \u001b[0;36mtimeit\u001b[0;34m(self, line, cell)\u001b[0m\n",
      "\u001b[0;32m/Users/Jan/anaconda/lib/python3.6/site-packages/IPython/core/magic.py\u001b[0m in \u001b[0;36m<lambda>\u001b[0;34m(f, *a, **k)\u001b[0m\n\u001b[1;32m    186\u001b[0m     \u001b[0;31m# but it's overkill for just that one bit of state.\u001b[0m\u001b[0;34m\u001b[0m\u001b[0;34m\u001b[0m\u001b[0m\n\u001b[1;32m    187\u001b[0m     \u001b[0;32mdef\u001b[0m \u001b[0mmagic_deco\u001b[0m\u001b[0;34m(\u001b[0m\u001b[0marg\u001b[0m\u001b[0;34m)\u001b[0m\u001b[0;34m:\u001b[0m\u001b[0;34m\u001b[0m\u001b[0m\n\u001b[0;32m--> 188\u001b[0;31m         \u001b[0mcall\u001b[0m \u001b[0;34m=\u001b[0m \u001b[0;32mlambda\u001b[0m \u001b[0mf\u001b[0m\u001b[0;34m,\u001b[0m \u001b[0;34m*\u001b[0m\u001b[0ma\u001b[0m\u001b[0;34m,\u001b[0m \u001b[0;34m**\u001b[0m\u001b[0mk\u001b[0m\u001b[0;34m:\u001b[0m \u001b[0mf\u001b[0m\u001b[0;34m(\u001b[0m\u001b[0;34m*\u001b[0m\u001b[0ma\u001b[0m\u001b[0;34m,\u001b[0m \u001b[0;34m**\u001b[0m\u001b[0mk\u001b[0m\u001b[0;34m)\u001b[0m\u001b[0;34m\u001b[0m\u001b[0m\n\u001b[0m\u001b[1;32m    189\u001b[0m \u001b[0;34m\u001b[0m\u001b[0m\n\u001b[1;32m    190\u001b[0m         \u001b[0;32mif\u001b[0m \u001b[0mcallable\u001b[0m\u001b[0;34m(\u001b[0m\u001b[0marg\u001b[0m\u001b[0;34m)\u001b[0m\u001b[0;34m:\u001b[0m\u001b[0;34m\u001b[0m\u001b[0m\n",
      "\u001b[0;32m/Users/Jan/anaconda/lib/python3.6/site-packages/IPython/core/magics/execution.py\u001b[0m in \u001b[0;36mtimeit\u001b[0;34m(self, line, cell)\u001b[0m\n\u001b[1;32m   1042\u001b[0m             \u001b[0mnumber\u001b[0m \u001b[0;34m=\u001b[0m \u001b[0;36m1\u001b[0m\u001b[0;34m\u001b[0m\u001b[0m\n\u001b[1;32m   1043\u001b[0m             \u001b[0;32mfor\u001b[0m \u001b[0m_\u001b[0m \u001b[0;32min\u001b[0m \u001b[0mrange\u001b[0m\u001b[0;34m(\u001b[0m\u001b[0;36m1\u001b[0m\u001b[0;34m,\u001b[0m \u001b[0;36m10\u001b[0m\u001b[0;34m)\u001b[0m\u001b[0;34m:\u001b[0m\u001b[0;34m\u001b[0m\u001b[0m\n\u001b[0;32m-> 1044\u001b[0;31m                 \u001b[0mtime_number\u001b[0m \u001b[0;34m=\u001b[0m \u001b[0mtimer\u001b[0m\u001b[0;34m.\u001b[0m\u001b[0mtimeit\u001b[0m\u001b[0;34m(\u001b[0m\u001b[0mnumber\u001b[0m\u001b[0;34m)\u001b[0m\u001b[0;34m\u001b[0m\u001b[0m\n\u001b[0m\u001b[1;32m   1045\u001b[0m                 \u001b[0mworst_tuning\u001b[0m \u001b[0;34m=\u001b[0m \u001b[0mmax\u001b[0m\u001b[0;34m(\u001b[0m\u001b[0mworst_tuning\u001b[0m\u001b[0;34m,\u001b[0m \u001b[0mtime_number\u001b[0m \u001b[0;34m/\u001b[0m \u001b[0mnumber\u001b[0m\u001b[0;34m)\u001b[0m\u001b[0;34m\u001b[0m\u001b[0m\n\u001b[1;32m   1046\u001b[0m                 \u001b[0;32mif\u001b[0m \u001b[0mtime_number\u001b[0m \u001b[0;34m>=\u001b[0m \u001b[0;36m0.2\u001b[0m\u001b[0;34m:\u001b[0m\u001b[0;34m\u001b[0m\u001b[0m\n",
      "\u001b[0;32m/Users/Jan/anaconda/lib/python3.6/site-packages/IPython/core/magics/execution.py\u001b[0m in \u001b[0;36mtimeit\u001b[0;34m(self, number)\u001b[0m\n\u001b[1;32m    137\u001b[0m         \u001b[0mgc\u001b[0m\u001b[0;34m.\u001b[0m\u001b[0mdisable\u001b[0m\u001b[0;34m(\u001b[0m\u001b[0;34m)\u001b[0m\u001b[0;34m\u001b[0m\u001b[0m\n\u001b[1;32m    138\u001b[0m         \u001b[0;32mtry\u001b[0m\u001b[0;34m:\u001b[0m\u001b[0;34m\u001b[0m\u001b[0m\n\u001b[0;32m--> 139\u001b[0;31m             \u001b[0mtiming\u001b[0m \u001b[0;34m=\u001b[0m \u001b[0mself\u001b[0m\u001b[0;34m.\u001b[0m\u001b[0minner\u001b[0m\u001b[0;34m(\u001b[0m\u001b[0mit\u001b[0m\u001b[0;34m,\u001b[0m \u001b[0mself\u001b[0m\u001b[0;34m.\u001b[0m\u001b[0mtimer\u001b[0m\u001b[0;34m)\u001b[0m\u001b[0;34m\u001b[0m\u001b[0m\n\u001b[0m\u001b[1;32m    140\u001b[0m         \u001b[0;32mfinally\u001b[0m\u001b[0;34m:\u001b[0m\u001b[0;34m\u001b[0m\u001b[0m\n\u001b[1;32m    141\u001b[0m             \u001b[0;32mif\u001b[0m \u001b[0mgcold\u001b[0m\u001b[0;34m:\u001b[0m\u001b[0;34m\u001b[0m\u001b[0m\n",
      "\u001b[0;32m<magic-timeit>\u001b[0m in \u001b[0;36minner\u001b[0;34m(_it, _timer)\u001b[0m\n",
      "\u001b[0;32m<ipython-input-138-675880b97bd5>\u001b[0m in \u001b[0;36mJ\u001b[0;34m(x_0)\u001b[0m\n\u001b[1;32m     35\u001b[0m     \u001b[0;32mfor\u001b[0m \u001b[0mi\u001b[0m \u001b[0;32min\u001b[0m \u001b[0mrange\u001b[0m\u001b[0;34m(\u001b[0m\u001b[0;36m2\u001b[0m\u001b[0;34m)\u001b[0m\u001b[0;34m:\u001b[0m\u001b[0;34m\u001b[0m\u001b[0m\n\u001b[1;32m     36\u001b[0m         \u001b[0;32mfor\u001b[0m \u001b[0mj\u001b[0m \u001b[0;32min\u001b[0m \u001b[0mrange\u001b[0m\u001b[0;34m(\u001b[0m\u001b[0;36m2\u001b[0m\u001b[0;34m)\u001b[0m\u001b[0;34m:\u001b[0m\u001b[0;34m\u001b[0m\u001b[0m\n\u001b[0;32m---> 37\u001b[0;31m             \u001b[0mJ\u001b[0m \u001b[0;34m=\u001b[0m \u001b[0mcentered_2\u001b[0m\u001b[0;34m(\u001b[0m\u001b[0mf\u001b[0m\u001b[0;34m[\u001b[0m\u001b[0mj\u001b[0m\u001b[0;34m]\u001b[0m\u001b[0;34m,\u001b[0m \u001b[0;36m1\u001b[0m\u001b[0;34m,\u001b[0m \u001b[0;36m0.001\u001b[0m\u001b[0;34m)\u001b[0m\u001b[0;34m\u001b[0m\u001b[0m\n\u001b[0m\u001b[1;32m     38\u001b[0m \u001b[0mget_ipython\u001b[0m\u001b[0;34m(\u001b[0m\u001b[0;34m)\u001b[0m\u001b[0;34m.\u001b[0m\u001b[0mmagic\u001b[0m\u001b[0;34m(\u001b[0m\u001b[0;34m'timeit J(x_0)'\u001b[0m\u001b[0;34m)\u001b[0m\u001b[0;34m\u001b[0m\u001b[0m\n\u001b[1;32m     39\u001b[0m \u001b[0;34m\u001b[0m\u001b[0m\n",
      "\u001b[0;31mTypeError\u001b[0m: 'function' object is not subscriptable"
     ]
    }
   ],
   "source": [
    "import math\n",
    "from autograd import elementwise_grad\n",
    "from autograd import jacobian\n",
    "import sympy as sy\n",
    "\n",
    "'''# sympy\n",
    "x, y = sy.symbols('x y')\n",
    "f = sy.Matrix([sy.exp(x) * sy.sin(y) + y**3, 3 * y - sy.cos(x)])\n",
    "x_0 = sy.Matrix([x,y])\n",
    "print(\"Sympy:\")\n",
    "%timeit f.jacobian(x_0)\n",
    "J = f.jacobian(x_0)\n",
    "output = sy.lambdify((x,y),J,'numpy')\n",
    "print(output(1.,1.))\n",
    "print(\"\")\n",
    "\n",
    "# autograd\n",
    "f = lambda x: anp.array([anp.exp(x[0])*anp.sin(x[1])+(x[1])**3,3*x[1]-anp.cos(x[0])])\n",
    "jacobian_f = jacobian(f)\n",
    "print(\"Autograd:\")\n",
    "%timeit jacobian_f(anp.array([1.,1.]))\n",
    "print(jacobian_f(anp.array([1.,1.])))\n",
    "print(\"\")'''\n",
    "                    \n",
    "#Second Order Center Method\n",
    "\n",
    "f = lambda x: np.array([math.exp(x[0])*math.sin(x[1]) + (x[1])**3, 3*x[1]-math.cos(x[0])])\n",
    "f1 = lambda x: np.array([math.exp(x[0])*math.sin(x[1]) + (x[1])**3])\n",
    "f2 = lambda x: np.array([3*x[1]-math.cos(x[0])])\n",
    "#f = [f1, f2]\n",
    "#x_0 = np.array([1.,1.])\n",
    "print(\"Second order centered:\")\n",
    "J = np.zeros((2,2))\n",
    "def J(x_0):\n",
    "    for i in range(2):\n",
    "        for j in range(2):\n",
    "            J = centered_2(f[j], 1, 0.001)\n",
    "%timeit J(x_0)\n",
    "\n",
    "print(J)\n"
   ]
  },
  {
   "cell_type": "code",
   "execution_count": 128,
   "metadata": {
    "collapsed": false
   },
   "outputs": [
    {
     "ename": "SyntaxError",
     "evalue": "invalid syntax (<ipython-input-128-4a7d365ea4ce>, line 3)",
     "output_type": "error",
     "traceback": [
      "\u001b[0;36m  File \u001b[0;32m\"<ipython-input-128-4a7d365ea4ce>\"\u001b[0;36m, line \u001b[0;32m3\u001b[0m\n\u001b[0;31m    print(jacobian2)\u001b[0m\n\u001b[0m        ^\u001b[0m\n\u001b[0;31mSyntaxError\u001b[0m\u001b[0;31m:\u001b[0m invalid syntax\n"
     ]
    }
   ],
   "source": [
    "jacobian2 = np.zeros((2,2))\n",
    "jacobian2[:,0] =(f(np.array(([1.01, 1])) - f(np.array(([0.99,1]))))/ 0.02\n",
    "print(jacobian2)\n",
    "\n",
    "\n",
    "jacobian2[:,1] = (f(np.array((1,1.01))) - f(np.array((1,0.99))))/ 0.02"
   ]
  },
  {
   "cell_type": "markdown",
   "metadata": {
    "collapsed": true
   },
   "source": [
    "As expected"
   ]
  },
  {
   "cell_type": "code",
   "execution_count": null,
   "metadata": {
    "collapsed": true
   },
   "outputs": [],
   "source": [
    "Problem 1"
   ]
  },
  {
   "cell_type": "code",
   "execution_count": null,
   "metadata": {
    "collapsed": true
   },
   "outputs": [],
   "source": []
  },
  {
   "cell_type": "code",
   "execution_count": null,
   "metadata": {
    "collapsed": true
   },
   "outputs": [],
   "source": [
    "Problem 1"
   ]
  },
  {
   "cell_type": "code",
   "execution_count": null,
   "metadata": {
    "collapsed": true
   },
   "outputs": [],
   "source": []
  },
  {
   "cell_type": "code",
   "execution_count": null,
   "metadata": {
    "collapsed": true
   },
   "outputs": [],
   "source": [
    "Problem 1"
   ]
  },
  {
   "cell_type": "code",
   "execution_count": null,
   "metadata": {
    "collapsed": true
   },
   "outputs": [],
   "source": []
  },
  {
   "cell_type": "code",
   "execution_count": null,
   "metadata": {
    "collapsed": true
   },
   "outputs": [],
   "source": [
    "Problem 1"
   ]
  },
  {
   "cell_type": "code",
   "execution_count": null,
   "metadata": {
    "collapsed": true
   },
   "outputs": [],
   "source": []
  },
  {
   "cell_type": "code",
   "execution_count": null,
   "metadata": {
    "collapsed": true
   },
   "outputs": [],
   "source": [
    "Problem 1"
   ]
  },
  {
   "cell_type": "code",
   "execution_count": null,
   "metadata": {
    "collapsed": true
   },
   "outputs": [],
   "source": []
  },
  {
   "cell_type": "code",
   "execution_count": null,
   "metadata": {
    "collapsed": true
   },
   "outputs": [],
   "source": [
    "Problem 1"
   ]
  },
  {
   "cell_type": "code",
   "execution_count": null,
   "metadata": {
    "collapsed": true
   },
   "outputs": [],
   "source": []
  },
  {
   "cell_type": "code",
   "execution_count": null,
   "metadata": {
    "collapsed": true
   },
   "outputs": [],
   "source": [
    "Problem 1"
   ]
  },
  {
   "cell_type": "code",
   "execution_count": null,
   "metadata": {
    "collapsed": true
   },
   "outputs": [],
   "source": []
  },
  {
   "cell_type": "code",
   "execution_count": null,
   "metadata": {
    "collapsed": true
   },
   "outputs": [],
   "source": [
    "Problem 1"
   ]
  },
  {
   "cell_type": "code",
   "execution_count": null,
   "metadata": {
    "collapsed": true
   },
   "outputs": [],
   "source": []
  },
  {
   "cell_type": "code",
   "execution_count": null,
   "metadata": {
    "collapsed": true
   },
   "outputs": [],
   "source": [
    "Problem 1"
   ]
  },
  {
   "cell_type": "code",
   "execution_count": null,
   "metadata": {
    "collapsed": true
   },
   "outputs": [],
   "source": []
  },
  {
   "cell_type": "code",
   "execution_count": null,
   "metadata": {
    "collapsed": true
   },
   "outputs": [],
   "source": [
    "Problem 1"
   ]
  },
  {
   "cell_type": "code",
   "execution_count": null,
   "metadata": {
    "collapsed": true
   },
   "outputs": [],
   "source": []
  },
  {
   "cell_type": "code",
   "execution_count": null,
   "metadata": {
    "collapsed": false
   },
   "outputs": [],
   "source": [
    "Problem 1"
   ]
  },
  {
   "cell_type": "code",
   "execution_count": null,
   "metadata": {
    "collapsed": true
   },
   "outputs": [],
   "source": []
  },
  {
   "cell_type": "code",
   "execution_count": null,
   "metadata": {
    "collapsed": true
   },
   "outputs": [],
   "source": [
    "Problem 1"
   ]
  },
  {
   "cell_type": "code",
   "execution_count": null,
   "metadata": {
    "collapsed": true
   },
   "outputs": [],
   "source": []
  },
  {
   "cell_type": "code",
   "execution_count": null,
   "metadata": {
    "collapsed": true
   },
   "outputs": [],
   "source": [
    "Problem 1"
   ]
  },
  {
   "cell_type": "code",
   "execution_count": null,
   "metadata": {
    "collapsed": true
   },
   "outputs": [],
   "source": []
  },
  {
   "cell_type": "code",
   "execution_count": null,
   "metadata": {
    "collapsed": true
   },
   "outputs": [],
   "source": [
    "Problem 1"
   ]
  },
  {
   "cell_type": "code",
   "execution_count": null,
   "metadata": {
    "collapsed": true
   },
   "outputs": [],
   "source": []
  },
  {
   "cell_type": "code",
   "execution_count": null,
   "metadata": {
    "collapsed": true
   },
   "outputs": [],
   "source": [
    "Problem 1"
   ]
  },
  {
   "cell_type": "code",
   "execution_count": null,
   "metadata": {
    "collapsed": true
   },
   "outputs": [],
   "source": []
  },
  {
   "cell_type": "code",
   "execution_count": null,
   "metadata": {
    "collapsed": true
   },
   "outputs": [],
   "source": [
    "Problem 1"
   ]
  },
  {
   "cell_type": "code",
   "execution_count": null,
   "metadata": {
    "collapsed": true
   },
   "outputs": [],
   "source": []
  },
  {
   "cell_type": "code",
   "execution_count": null,
   "metadata": {
    "collapsed": true
   },
   "outputs": [],
   "source": [
    "Problem 1"
   ]
  },
  {
   "cell_type": "code",
   "execution_count": null,
   "metadata": {
    "collapsed": true
   },
   "outputs": [],
   "source": []
  },
  {
   "cell_type": "code",
   "execution_count": null,
   "metadata": {
    "collapsed": true
   },
   "outputs": [],
   "source": [
    "Problem 1"
   ]
  },
  {
   "cell_type": "code",
   "execution_count": null,
   "metadata": {
    "collapsed": true
   },
   "outputs": [],
   "source": []
  },
  {
   "cell_type": "code",
   "execution_count": null,
   "metadata": {
    "collapsed": true
   },
   "outputs": [],
   "source": [
    "Problem 1"
   ]
  },
  {
   "cell_type": "code",
   "execution_count": null,
   "metadata": {
    "collapsed": true
   },
   "outputs": [],
   "source": []
  }
 ],
 "metadata": {
  "kernelspec": {
   "display_name": "Python 3",
   "language": "python",
   "name": "python3"
  },
  "language_info": {
   "codemirror_mode": {
    "name": "ipython",
    "version": 3
   },
   "file_extension": ".py",
   "mimetype": "text/x-python",
   "name": "python",
   "nbconvert_exporter": "python",
   "pygments_lexer": "ipython3",
   "version": "3.6.0"
  }
 },
 "nbformat": 4,
 "nbformat_minor": 2
}
