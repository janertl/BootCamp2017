{
 "cells": [
  {
   "cell_type": "markdown",
   "metadata": {},
   "source": [
    "## Exercise Set 1 for OSM \n",
    "\n",
    "### Dynamic Programming with John Stachurski"
   ]
  },
  {
   "cell_type": "markdown",
   "metadata": {},
   "source": [
    "This notebook contains the first set of exercises for the [OSM](https://bfi.uchicago.edu/osm) bootcamp dynamic programming section.\n",
    "\n",
    "We will use the following libraries:"
   ]
  },
  {
   "cell_type": "code",
   "execution_count": 1,
   "metadata": {
    "collapsed": true
   },
   "outputs": [],
   "source": [
    "import numpy as np\n",
    "import matplotlib.pyplot as plt"
   ]
  },
  {
   "cell_type": "markdown",
   "metadata": {},
   "source": [
    "### Exercise 1\n",
    "\n",
    "Consider the data"
   ]
  },
  {
   "cell_type": "code",
   "execution_count": 2,
   "metadata": {
    "collapsed": true
   },
   "outputs": [],
   "source": [
    "A = [[0.6, 0.1, -0.3],\n",
    "     [0.5, -0.4, 0.2],\n",
    "     [1.0, -0.2, 1.1]]\n",
    "\n",
    "b = [[12],\n",
    "     [10],\n",
    "     [-1]]\n",
    "\n",
    "A, b = map(np.asarray, (A, b))"
   ]
  },
  {
   "cell_type": "markdown",
   "metadata": {
    "collapsed": true
   },
   "source": [
    "The equation $x = A x + b$ has a unique solution in $\\mathbb R^3$.  Show that this is true by checking the spectral radius condition."
   ]
  },
  {
   "cell_type": "code",
   "execution_count": 3,
   "metadata": {
    "collapsed": false,
    "scrolled": true
   },
   "outputs": [
    {
     "name": "stdout",
     "output_type": "stream",
     "text": [
      "0.965538166352\n"
     ]
    }
   ],
   "source": [
    "from scipy.linalg import eigvals, solve\n",
    "evs = eigvals(A)\n",
    "ρ = max(abs(evs))\n",
    "print(ρ)"
   ]
  },
  {
   "cell_type": "markdown",
   "metadata": {},
   "source": [
    "### Justification: \n"
   ]
  },
  {
   "cell_type": "markdown",
   "metadata": {},
   "source": [
    "Since ρ < 1, by spectral radius conditions there is convergence to the unique fixed point."
   ]
  },
  {
   "cell_type": "markdown",
   "metadata": {},
   "source": [
    "Compute the solution using both successive approximations --- that is,\n",
    "\n",
    "$$ x_{t+1} = A x_t + b $$\n",
    "\n",
    "and matrix algebra."
   ]
  },
  {
   "cell_type": "markdown",
   "metadata": {},
   "source": [
    "Comparison "
   ]
  },
  {
   "cell_type": "code",
   "execution_count": 4,
   "metadata": {
    "collapsed": false,
    "scrolled": true
   },
   "outputs": [
    {
     "name": "stdout",
     "output_type": "stream",
     "text": [
      "Matrix algebra: [[ -0.89552239]\n",
      " [ 13.34328358]\n",
      " [ 45.64179104]]\n",
      "Successive approximations: [[ -0.89552239]\n",
      " [ 13.34328358]\n",
      " [ 45.64179104]]\n"
     ]
    }
   ],
   "source": [
    "I = np.identity(3)\n",
    "x = np.linalg.inv(I-A)@b\n",
    "print(\"Matrix algebra: \" + str(x))\n",
    "\n",
    "\n",
    "x = np.array([[0], [0], [0]])\n",
    "equal = False\n",
    "\n",
    "i = 0\n",
    "while i < 1000 :\n",
    "    x = np.dot(A, x) + b\n",
    "    i += 1\n",
    "\n",
    "print(\"Successive approximations: \" + str(x))\n"
   ]
  },
  {
   "cell_type": "markdown",
   "metadata": {},
   "source": [
    "As expected, the result is the same."
   ]
  },
  {
   "cell_type": "markdown",
   "metadata": {},
   "source": [
    "### Exercise 2"
   ]
  },
  {
   "cell_type": "markdown",
   "metadata": {},
   "source": [
    "In a standard job search model, an agent \n",
    "\n",
    "\n",
    "* receives offer $w_t$ in period $t$ where $\\{w_t\\}$ is  iid\n",
    "* accepts this offer at time $t$ or remains unemployed\n",
    "    *  if remains unemployed, then receives compensation $c > 0$\n",
    "    * if accepts, then works indefinitely at this wage\n",
    "\n",
    "The agent discounts the future at rate $\\beta \\in (0, 1)$\n",
    "\n",
    "\n",
    "It can be shown that the following is an optimal strategy: \n",
    "\n",
    "* Set a reservation wage $\\bar w$\n",
    "* Accept the first offer $w_t$ such that $w_t \\geq \\bar w$\n",
    "\n",
    "\n",
    "It can also be shown (details omitted) that $\\bar w$ should satisfy\n",
    "\n",
    "$$\n",
    "    \\bar w\n",
    "    = c (1-\\beta) + \\beta\n",
    "    \\sum_{k=1}^K \\max \\left\\{\n",
    "        w_k ,\\, \\bar w\n",
    "    \\right\\}\n",
    "    \\, p_k\n",
    "$$\n",
    "\n",
    "Here \n",
    "\n",
    "* $w_1, \\ldots, w_K$ are the possible wage values, occuring with probabilities $p_1, \\ldots, p_K$\n",
    "* $c > 0$\n",
    "\n",
    "Does there always exists a $x \\in [0, \\infty)$ that solves the equation\n",
    "$$\n",
    "    x\n",
    "    = c (1-\\beta) + \\beta\n",
    "    \\sum_{k=1}^K \\max \\left\\{\n",
    "        w_k ,\\, x\n",
    "    \\right\\}\n",
    "    \\, p_k\n",
    "$$\n",
    "Is it unique?  Suggest a strategy for computing it"
   ]
  },
  {
   "cell_type": "markdown",
   "metadata": {},
   "source": [
    "#### Hints\n",
    "\n",
    "There are different ways to show this, but I found the following facts useful:\n",
    "\n",
    "*  If $x_1, \\ldots, x_K$ are any $K$ numbers, then\n",
    "\n",
    "$$ \\left| \\sum_{k=1}^K x_k \\right| \\leq \\sum_{k=1}^K |x_k| $$\n",
    "\n",
    "* For any $a, x, y$ in $\\mathbb R$, \n",
    "    \n",
    "$$ \n",
    "    \\left| \n",
    "            \\max \\left\\{ a,\\, x \\right\\} - \\max \\left\\{ a,\\, y \\right\\} \n",
    "        \\right|\n",
    "        \\leq | x - y |\n",
    "$$\n",
    "\n",
    "\n",
    "You can convince yourself of the second inequality by sketching and checking different cases..."
   ]
  },
  {
   "cell_type": "markdown",
   "metadata": {},
   "source": [
    "##  Proof in Exercises file"
   ]
  },
  {
   "cell_type": "markdown",
   "metadata": {},
   "source": [
    "### Exercise 3"
   ]
  },
  {
   "cell_type": "markdown",
   "metadata": {},
   "source": [
    "Let \n",
    "\n",
    "* $\\beta = 0.96$\n",
    "* $(w_1, w_2, w_3) = (0.5, 1.0, 1.5)$\n",
    "* $(p_1, p_2, p_3) = (0.2, 0.4, 0.4)$\n",
    "\n",
    "Compute and plot the reservation wage for unemployment compensation values"
   ]
  },
  {
   "cell_type": "markdown",
   "metadata": {},
   "source": [
    "## Computation and plot:"
   ]
  },
  {
   "cell_type": "code",
   "execution_count": 5,
   "metadata": {
    "collapsed": false
   },
   "outputs": [
    {
     "data": {
      "image/png": "[encoded data removed]",
      "text/plain": [
       "<matplotlib.figure.Figure at 0x10f12ebe0>"
      ]
     },
     "metadata": {},
     "output_type": "display_data"
    }
   ],
   "source": [
    "import numpy as np\n",
    "import matplotlib.pyplot as plt\n",
    "\n",
    "c_vals = np.linspace(1, 2, 100)\n",
    "w_vals = np.ones((100))\n",
    "w1 = 0.5\n",
    "w2 = 1.0\n",
    "w3 = 1.5\n",
    "ws = np.array([w1, w2, w3])\n",
    "\n",
    "p1 = 0.2\n",
    "p2 = 0.4\n",
    "p3 = 0.4\n",
    "ps = np.array([p1, p2, p3])\n",
    "\n",
    "tol = 1e-12\n",
    "beta = 0.96\n",
    "\n",
    "w_vals = []\n",
    "for c in c_vals:\n",
    "    w = 1\n",
    "    error = 1\n",
    "    i = 0\n",
    "    while error > tol:\n",
    "        wp = c*(1-beta) + sum([beta*ps[i]*max(ws[i], w) for i in range(3)])\n",
    "        error = abs(w - wp)\n",
    "        w = wp\n",
    "    w_vals.append(round(w, 8))\n",
    "    \n",
    "plt.plot(c_vals, w_vals)\n",
    "plt.title(\"Reservation wage given compensation\")\n",
    "plt.ylabel(\"Reservation wage\")\n",
    "plt.xlabel(\"Compensation\")\n",
    "plt.grid()\n",
    "plt.show()\n"
   ]
  },
  {
   "cell_type": "markdown",
   "metadata": {},
   "source": [
    "Is the reservation wage increasing or decreasing in this value?  Does that coincide with your intuition?"
   ]
  },
  {
   "cell_type": "markdown",
   "metadata": {},
   "source": [
    "### Answer:\n"
   ]
  },
  {
   "cell_type": "markdown",
   "metadata": {
    "collapsed": false
   },
   "source": [
    "The reservation wage is increasing in the compensation value, which is intuitive, since the loss in utility incurred by foregoing work is smaller the greater the compensation is. In short, the agent has a higher wage to fall back on, and is thus less likely to accept an ill-paying job."
   ]
  }
 ],
 "metadata": {
  "kernelspec": {
   "display_name": "Python 3",
   "language": "python",
   "name": "python3"
  },
  "language_info": {
   "codemirror_mode": {
    "name": "ipython",
    "version": 3
   },
   "file_extension": ".py",
   "mimetype": "text/x-python",
   "name": "python",
   "nbconvert_exporter": "python",
   "pygments_lexer": "ipython3",
   "version": "3.6.0"
  }
 },
 "nbformat": 4,
 "nbformat_minor": 2
}
