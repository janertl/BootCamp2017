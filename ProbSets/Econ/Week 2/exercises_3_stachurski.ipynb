{
 "cells": [
  {
   "cell_type": "markdown",
   "metadata": {},
   "source": [
    "## Exercise Set 3 for OSM \n",
    "\n",
    "### Dynamic Programming with John Stachurski"
   ]
  },
  {
   "cell_type": "markdown",
   "metadata": {},
   "source": [
    "Exercises for the [OSM](https://bfi.uchicago.edu/osm) bootcamp dynamic programming section.\n",
    "\n",
    "We will use the following libraries:"
   ]
  },
  {
   "cell_type": "code",
   "execution_count": 1,
   "metadata": {
    "collapsed": true
   },
   "outputs": [],
   "source": [
    "import numpy as np\n",
    "import quantecon as qe\n",
    "import matplotlib.pyplot as plt"
   ]
  },
  {
   "cell_type": "markdown",
   "metadata": {},
   "source": [
    "### Exercise 1.\n",
    "\n",
    "Using Numba, as discussed in [this lecture](https://lectures.quantecon.org/py/need_for_speed.html), write your own version of NumPy's [interp](https://docs.scipy.org/doc/numpy/reference/generated/numpy.interp.html) function, specializing in linear interpolation in one dimension.  \n",
    "\n",
    "Note that NumPy's function is compiled native machine code and hence is fast.  But try to beat if you can, at least in some scenarios, by using Numba to speed up your code.  Show a time comparison between the two functions, for some suitable choice of test."
   ]
  },
  {
   "cell_type": "code",
   "execution_count": 2,
   "metadata": {
    "collapsed": false
   },
   "outputs": [
    {
     "data": {
      "image/png": "[encoded data removed]",
      "text/plain": [
       "<matplotlib.figure.Figure at 0x11416f630>"
      ]
     },
     "metadata": {},
     "output_type": "display_data"
    }
   ],
   "source": [
    "import timeit\n",
    "from numba import jit\n",
    "\n",
    "# I will assume the dimensions of the inputs xp, fp are the same, \n",
    "# and I will assume the all p in x are contained in the interval spanned by xp,\n",
    "# i.e. I will only code the bare minimum for the sake of SPEED\n",
    "\n",
    "# Function description outside, since I might lose time parsing it?\n",
    "\n",
    "\n",
    "def myinterp(x, xp, fp):\n",
    "    \"\"\"\n",
    "One-dimensional linear interpolation.\n",
    "\n",
    "Returns the one-dimensional piecewise linear interpolant to a function\n",
    "with given values at discrete data-points.\n",
    "\n",
    "Parameters\n",
    "----------\n",
    "x : array_like\n",
    "    The x-coordinates of the interpolated values.\n",
    "\n",
    "xp : 1-D sequence of floats\n",
    "    The x-coordinates of the data points, must be increasing if argument\n",
    "    `period` is not specified. Otherwise, `xp` is internally sorted after\n",
    "    normalizing the periodic boundaries with ``xp = xp % period``.\n",
    "\n",
    "fp : 1-D sequence of floats\n",
    "    The y-coordinates of the data points, same length as `xp`.\n",
    "\n",
    "Returns\n",
    "-------\n",
    "y : float or ndarray\n",
    "    The interpolated values, same shape as `x`.\n",
    "\"\"\"\n",
    "    k = 0\n",
    "    lx = len(x)\n",
    "    y = np.ones(lx)\n",
    "    lf = len(fp)\n",
    "    for j in range(0, lx):\n",
    "        if x[j] > xp[lf-1]:\n",
    "            y[j] = yp[lf-1]\n",
    "        elif x[j] < xp[0]:\n",
    "            y[j] = yp[0]\n",
    "        else:\n",
    "            for i in range(k, lf-2):\n",
    "                if x[j] > xp[i] and x[j] < xp[i+1]:\n",
    "                    y[j] = (yp[i]*(xp[i+1] - x[j]) + yp[i+1]*(x[j] - xp[i]))/(xp[i+1] - xp[i])\n",
    "                    k = i # such that we don't have to parse from the start every time\n",
    "    return y\n",
    "    \n",
    "# Without comments, since I might lose time parsing them?   \n",
    "def myinterp(x, xp, fp):\n",
    "    k = 0\n",
    "    lx = len(x)\n",
    "    y = np.ones(lx)\n",
    "    lf = len(fp)\n",
    "    for j in range(0, lx):\n",
    "        if x[j] > xp[lf-1]:\n",
    "            y[j] = fp[lf-1]\n",
    "        elif x[j] < xp[0]:\n",
    "            y[j] = fp[0]\n",
    "        else:\n",
    "            for i in range(k, lf-1):\n",
    "                if x[j] >= xp[i] and x[j] <= xp[i+1]:\n",
    "                    y[j] = (fp[i]*(xp[i+1] - x[j]) + fp[i + 1]*(x[j] - xp[i]))/(xp[i+1] - xp[i])\n",
    "                    k = i \n",
    "    return y  \n",
    "\n",
    "\n",
    "xs = np.concatenate( [np.linspace(0, 3, 100), np.linspace(3.1, 6.3, 100)])\n",
    "ys = np.sin(xs)\n",
    "\n",
    "x = np.linspace(1, 6, 7)\n",
    "y = myinterp(x, xs, ys)\n",
    "\n",
    "\n",
    "plt.scatter(x, y)\n",
    "plt.plot(x, y )\n",
    "\n",
    "#plt.scatter(xs, ys)\n",
    "plt.plot(xs, ys)\n",
    "plt.show()\n",
    "\n",
    "jitinterp = jit(myinterp)"
   ]
  },
  {
   "cell_type": "code",
   "execution_count": 30,
   "metadata": {
    "collapsed": false
   },
   "outputs": [
    {
     "name": "stdout",
     "output_type": "stream",
     "text": [
      "Numpy\n",
      "TOC: Elapsed: 0.00033783912658691406 seconds.\n"
     ]
    },
    {
     "data": {
      "text/plain": [
       "0.00033783912658691406"
      ]
     },
     "execution_count": 30,
     "metadata": {},
     "output_type": "execute_result"
    }
   ],
   "source": [
    "sim_length = 20\n",
    "\n",
    "print(\"Numpy\")\n",
    "qe.util.tic()\n",
    "y = np.interp(x, xs, ys)\n",
    "qe.util.toc()"
   ]
  },
  {
   "cell_type": "code",
   "execution_count": 38,
   "metadata": {
    "collapsed": false
   },
   "outputs": [
    {
     "name": "stdout",
     "output_type": "stream",
     "text": [
      "My function\n",
      "TOC: Elapsed: 0.00039386749267578125 seconds.\n"
     ]
    },
    {
     "data": {
      "text/plain": [
       "0.00039386749267578125"
      ]
     },
     "execution_count": 38,
     "metadata": {},
     "output_type": "execute_result"
    }
   ],
   "source": [
    "print(\"My function\")\n",
    "qe.util.tic()\n",
    "y = myinterp(x, xs, ys)\n",
    "qe.util.toc()"
   ]
  },
  {
   "cell_type": "code",
   "execution_count": 40,
   "metadata": {
    "collapsed": false
   },
   "outputs": [
    {
     "name": "stdout",
     "output_type": "stream",
     "text": [
      "My function with numba\n",
      "TOC: Elapsed: 0.0001590251922607422 seconds.\n"
     ]
    },
    {
     "data": {
      "text/plain": [
       "0.0001590251922607422"
      ]
     },
     "execution_count": 40,
     "metadata": {},
     "output_type": "execute_result"
    }
   ],
   "source": [
    "print(\"My function with numba\")\n",
    "qe.util.tic()\n",
    "y = jitinterp(x, xs, ys)\n",
    "qe.util.toc()"
   ]
  },
  {
   "cell_type": "markdown",
   "metadata": {},
   "source": [
    "Even my bare-bone non-jit function can almost keep up, and its enhanced version beats numpy's interp."
   ]
  },
  {
   "cell_type": "markdown",
   "metadata": {},
   "source": [
    "### Exercise 2\n",
    "\n",
    "Using your \"Numbafied\" linear interpolation function, try to use Numba to additionally speed up the endogenous grid method code from [this lecture](https://lectures.quantecon.org/py/egm_policy_iter.html).  Use CRRA utility and Cobb-Douglas production, as in that lecture, with the following parameter values.\n"
   ]
  },
  {
   "cell_type": "markdown",
   "metadata": {},
   "source": [
    "Note: I didn't get much speed up.  I think because the outer loops don't matter much for speed, and hence it doesn't gain us much when we compile them.  \n",
    "\n",
    "See how you go."
   ]
  },
  {
   "cell_type": "code",
   "execution_count": 6,
   "metadata": {
    "collapsed": true
   },
   "outputs": [],
   "source": [
    "# From the lecture, we have:\n",
    "def coleman_egm(g, k_grid, beta, u_prime, u_prime_inv, f, f_prime, shocks):\n",
    "    \"\"\"\n",
    "    The approximate Coleman operator, updated using the endogenous grid\n",
    "    method.  \n",
    "    \n",
    "    Parameters\n",
    "    ----------\n",
    "    g : function\n",
    "        The current guess of the policy function\n",
    "    k_grid : array_like(float, ndim=1)\n",
    "        The set of *exogenous* grid points, for capital k = y - c\n",
    "    beta : scalar\n",
    "        The discount factor\n",
    "    u_prime : function\n",
    "        The derivative u'(c) of the utility function\n",
    "    u_prime_inv : function\n",
    "        The inverse of u' (which exists by assumption)\n",
    "    f : function\n",
    "        The production function f(k)\n",
    "    f_prime : function\n",
    "        The derivative f'(k)\n",
    "    shocks : numpy array\n",
    "        An array of draws from the shock, for Monte Carlo integration (to\n",
    "        compute expectations).\n",
    "\n",
    "    \"\"\"\n",
    "\n",
    "    # Allocate memory for value of consumption on endogenous grid points\n",
    "    c = np.empty_like(k_grid)  \n",
    "\n",
    "    # Solve for updated consumption value\n",
    "    for i, k in enumerate(k_grid):\n",
    "        vals = u_prime(g(f(k) * shocks)) * f_prime(k) * shocks\n",
    "        c[i] = u_prime_inv(beta * np.mean(vals))\n",
    "    \n",
    "    # Determine endogenous grid\n",
    "    y = k_grid + c  # y_i = k_i + c_i\n",
    "\n",
    "    # Update policy function and return\n",
    "    Kg = lambda x: np.interp(x, y, c)\n",
    "    return Kg\n"
   ]
  },
  {
   "cell_type": "code",
   "execution_count": 7,
   "metadata": {
    "collapsed": true
   },
   "outputs": [],
   "source": [
    "\n",
    "# Using my jitinterp function\n",
    "def jitcoleman_egm(g, k_grid, beta, u_prime, u_prime_inv, f, f_prime, shocks):\n",
    "    # Allocate memory for value of consumption on endogenous grid points\n",
    "    c = np.empty_like(k_grid)  \n",
    "\n",
    "    # Solve for updated consumption value\n",
    "    for i, k in enumerate(k_grid):\n",
    "        vals = u_prime(g(f(k) * shocks)) * f_prime(k) * shocks\n",
    "        c[i] = u_prime_inv(beta * np.mean(vals))\n",
    "    \n",
    "    # Determine endogenous grid\n",
    "    y = k_grid + c  # y_i = k_i + c_i\n",
    "\n",
    "    # Update policy function and return\n",
    "    Kg = lambda x: jitinterp(x, y, c)\n",
    "    return Kg\n",
    "\n"
   ]
  },
  {
   "cell_type": "code",
   "execution_count": 8,
   "metadata": {
    "collapsed": true
   },
   "outputs": [],
   "source": [
    "# Again, we follow the lecture:\n",
    "\n",
    "\n",
    "## Define the model\n",
    "\n",
    "alpha = 0.65\n",
    "beta = 0.95\n",
    "mu = 0\n",
    "s = 0.1\n",
    "grid_min = 1e-6\n",
    "grid_max = 4\n",
    "grid_size = 200\n",
    "shock_size = 250\n",
    "\n",
    "gamma = 1.5   # Preference parameter\n",
    "gamma_inv = 1 / gamma\n",
    "\n",
    "def f(k):\n",
    "    return k**alpha\n",
    "\n",
    "def f_prime(k):\n",
    "    return alpha * k**(alpha - 1)\n",
    "\n",
    "def u(c):\n",
    "    return (c**(1 - gamma) - 1) / (1 - gamma)\n",
    "\n",
    "def u_prime(c):\n",
    "    return c**(-gamma)\n",
    "\n",
    "def u_prime_inv(c):\n",
    "    return c**(-gamma_inv)\n",
    "\n",
    "k_grid = np.linspace(grid_min, grid_max, grid_size)\n",
    "shocks = np.exp(mu + s * np.random.randn(shock_size))\n",
    "\n",
    "## Let's make convenience functions based around these primitives\n",
    "\n",
    "# We don't need the coleman op\n",
    "# def crra_coleman(g):\n",
    "   # return coleman_operator(g, k_grid, beta, u_prime, f, f_prime, shocks)\n",
    "# Only the end grid method code:\n",
    "\n",
    "def crra_coleman_egm(g):\n",
    "    return coleman_egm(g, k_grid, beta, u_prime, u_prime_inv, f, f_prime, shocks)\n",
    "\n",
    "# in the numba version:\n",
    "def jitcrra_coleman_egm(g):\n",
    "    return jitcoleman_egm(g, k_grid, beta, u_prime, u_prime_inv, f, f_prime, shocks)"
   ]
  },
  {
   "cell_type": "code",
   "execution_count": 9,
   "metadata": {
    "collapsed": false
   },
   "outputs": [
    {
     "name": "stdout",
     "output_type": "stream",
     "text": [
      "Timing policy function iteration with endogenous grid\n",
      "TOC: Elapsed: 0.25591611862182617 seconds.\n",
      "Timing policy function iteration with endogenous grid and Numba\n",
      "TOC: Elapsed: 0.44245409965515137 seconds.\n"
     ]
    },
    {
     "data": {
      "text/plain": [
       "0.44245409965515137"
      ]
     },
     "execution_count": 9,
     "metadata": {},
     "output_type": "execute_result"
    }
   ],
   "source": [
    "sim_length = 20\n",
    "\n",
    "print(\"Timing policy function iteration with endogenous grid\")\n",
    "g_init_egm = lambda x: x\n",
    "g = g_init_egm\n",
    "qe.util.tic()\n",
    "for i in range(sim_length):\n",
    "    new_g = crra_coleman_egm(g)\n",
    "    g = new_g\n",
    "qe.util.toc()\n",
    "\n",
    "print(\"Timing policy function iteration with endogenous grid and Numba\")\n",
    "g_init_egm = lambda x: x\n",
    "g = g_init_egm\n",
    "qe.util.tic()\n",
    "for i in range(sim_length):\n",
    "    new_g = jitcrra_coleman_egm(g)\n",
    "    g = new_g\n",
    "qe.util.toc()"
   ]
  },
  {
   "cell_type": "markdown",
   "metadata": {},
   "source": [
    "The numba version oddly seems to be slower. I'll tweak some other functions wiht numba.\n"
   ]
  },
  {
   "cell_type": "code",
   "execution_count": 10,
   "metadata": {
    "collapsed": false
   },
   "outputs": [],
   "source": [
    "jitf = jit(f)\n",
    "\n",
    "jitfp = jit(f_prime)\n",
    "\n",
    "jitu= jit(u)\n",
    "\n",
    "jitup = jit(u_prime)\n",
    "\n",
    "jitupi = jit(u_prime_inv)\n",
    "\n",
    "# Not sure if the following has an effect:\n",
    "\n",
    "jitjitcoleman_egm = jit(jitcoleman_egm)\n",
    "\n",
    "\n",
    "k_grid = np.linspace(grid_min, grid_max, grid_size)\n",
    "shocks = np.exp(mu + s * np.random.randn(shock_size))\n",
    "\n",
    "\n",
    "# in the numba version:\n",
    "def jitcrra_coleman_egm(g):\n",
    "    return jitcoleman_egm(g, k_grid, beta, jitup, jitupi, jitf, jitfp, shocks)"
   ]
  },
  {
   "cell_type": "code",
   "execution_count": 11,
   "metadata": {
    "collapsed": false
   },
   "outputs": [
    {
     "name": "stdout",
     "output_type": "stream",
     "text": [
      "Timing policy function iteration with endogenous grid\n",
      "TOC: Elapsed: 0.12019515037536621 seconds.\n",
      "Timing policy function iteration with endogenous grid and numba\n",
      "TOC: Elapsed: 0.48306918144226074 seconds.\n"
     ]
    },
    {
     "data": {
      "text/plain": [
       "0.48306918144226074"
      ]
     },
     "execution_count": 11,
     "metadata": {},
     "output_type": "execute_result"
    }
   ],
   "source": [
    "sim_length = 20\n",
    "\n",
    "print(\"Timing policy function iteration with endogenous grid\")\n",
    "g_init_egm = lambda x: x\n",
    "g = g_init_egm\n",
    "qe.util.tic()\n",
    "for i in range(sim_length):\n",
    "    new_g = crra_coleman_egm(g)\n",
    "    g = new_g\n",
    "qe.util.toc()\n",
    "\n",
    "print(\"Timing policy function iteration with endogenous grid and numba\")\n",
    "g_init_egm = lambda x: x\n",
    "g = g_init_egm\n",
    "qe.util.tic()\n",
    "for i in range(sim_length):\n",
    "    new_g = jitcrra_coleman_egm(g)\n",
    "    g = new_g\n",
    "qe.util.toc()"
   ]
  },
  {
   "cell_type": "markdown",
   "metadata": {},
   "source": [
    "It seems to have gotten even slower. I even experimented with alternative initial grids, to no avail."
   ]
  }
 ],
 "metadata": {
  "kernelspec": {
   "display_name": "Python 3",
   "language": "python",
   "name": "python3"
  },
  "language_info": {
   "codemirror_mode": {
    "name": "ipython",
    "version": 3
   },
   "file_extension": ".py",
   "mimetype": "text/x-python",
   "name": "python",
   "nbconvert_exporter": "python",
   "pygments_lexer": "ipython3",
   "version": "3.6.0"
  }
 },
 "nbformat": 4,
 "nbformat_minor": 2
}
