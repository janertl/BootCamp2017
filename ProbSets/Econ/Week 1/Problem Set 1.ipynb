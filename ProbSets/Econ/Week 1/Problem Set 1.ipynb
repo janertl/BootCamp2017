{
 "cells": [
  {
   "cell_type": "markdown",
   "metadata": {},
   "source": [
    "# Problem Set 1"
   ]
  },
  {
   "cell_type": "markdown",
   "metadata": {},
   "source": [
    "### Problem 1:"
   ]
  },
  {
   "cell_type": "code",
   "execution_count": 1,
   "metadata": {
    "collapsed": false
   },
   "outputs": [],
   "source": [
    "# Solve for the steady-state in 3-per OG model\n",
    "\n",
    "# Import libraries\n",
    "import numpy as np\n",
    "import scipy.optimize as opt \n",
    "\n",
    "# Household Parameters\n",
    "S = int(3) # three periods\n",
    "yrs_live = 60 # years per period\n",
    "sigma = 3 # risk aversion\n",
    "beta_annual = 0.96\n",
    "beta = beta_annual **(yrs_live / S) # period beta\n",
    "v_n = np.array([1, 1, 0.2]) #labor endowment\n",
    "\n",
    "# Firm Parameters\n",
    "alpha = 0.35 # capital share\n",
    "A = 1 # technology\n",
    "delta_annual = 0.05 # annual depreciation\n",
    "delta = 1 - (1 - delta_annual) ** (yrs_live / S) # period depreciation\n",
    "\n",
    "def MU(c):\n",
    "    \"\"\" Marginal Utility\"\"\"\n",
    "    return c ** (- sigma) \n",
    "\n",
    "def get_r(K, L = sum(v_n)):\n",
    "    r = alpha * A *((L / K) ** (1 - alpha)) - delta\n",
    "    return r\n",
    "\n",
    "def get_w(K, L = sum(v_n)):\n",
    "        w = (1 - alpha) * A * ((K / L) ** (alpha))\n",
    "        return w\n",
    "    \n",
    "def get_c(v_b, v_k):\n",
    "    # first period\n",
    "    w1 = get_w(v_k[0])\n",
    "    c1 = w1 - v_b[0]\n",
    "    #second period\n",
    "    w2 = get_w(v_k[1])\n",
    "    r2 = get_r(v_k[1])\n",
    "    c2 = w2 + (1 + r2)*v_b[0] - v_b[1]\n",
    "    # third period\n",
    "    w3 = get_w(v_k[2])\n",
    "    r3 = get_r(v_k[2])\n",
    "    c3 = 0.2*w3 + (1 + r3)*v_b[1]\n",
    "    c = np.array([c1, c2, c3])\n",
    "    return c\n",
    "    \n",
    "def diffeq(v_b):\n",
    "    # the system of equations ( = 0 for the steady state)\n",
    "        v_k = np.ones((3))* sum(v_b)\n",
    "        c = get_c(v_b, v_k)\n",
    "        r2 = get_r(v_k[1])\n",
    "        diff1 = MU(c[0]) - beta*(1 + r2)*MU(c[1])\n",
    "        r3 = get_r(v_k[2])\n",
    "        diff2 = MU(c[1]) - beta*(1 + r3)*MU(c[2])\n",
    "        diff = np.array([diff1, diff2])\n",
    "        return diff\n",
    "\"\"\"   \n",
    "def diffeq2(v_b):\n",
    "    # the system of equations ( = 0 for the steady state)\n",
    "        v_k = np.ones((3))* sum(v_b)\n",
    "        k = sum(v_b)\n",
    "        c = get_c(v_b, v_k)\n",
    "        r = get_r(k)\n",
    "        diff1 = MU(c[0]) - beta*(1 + r)*MU(c[1])\n",
    "        diff2 = MU(c[1]) - beta*(1 + r)*MU(c[2])\n",
    "        diff = np.array([diff1, diff2])\n",
    "        return diff \n",
    "\"\"\" \n",
    "def steadystate(initguess):\n",
    "    ss = opt.root(diffeq,initguess)\n",
    "    return ss\n",
    "\n",
    "def ssdisplay(ss):\n",
    "    b2ss, b3ss = ss.x\n",
    "    kss = b2ss + b3ss\n",
    "    rss = get_r(kss, L = sum(v_n))\n",
    "    wss = get_w(kss, L = sum(v_n))\n",
    "    c1ss, c2ss, c3ss = get_c(ss.x, np.ones((3)) * kss)\n",
    "    vec = [b2ss, b3ss, c1ss, c2ss, c3ss, rss, wss]\n",
    "    names = [\"b2ss\", \"b3ss\", \"c1ss\", \"c2ss\", \"c3ss\", \"rss\", \"wss\"]\n",
    "    for i in range(len(names)):\n",
    "        print(\"The value of \" + names[i] +  \" is: \" + str(vec[i]))\n",
    "    return\n"
   ]
  },
  {
   "cell_type": "code",
   "execution_count": 2,
   "metadata": {
    "collapsed": false
   },
   "outputs": [
    {
     "name": "stdout",
     "output_type": "stream",
     "text": [
      "The value of b2ss is: 0.0193127352392\n",
      "The value of b3ss is: 0.058411590879\n",
      "The value of c1ss is: 0.182412558356\n",
      "The value of c2ss is: 0.209614907072\n",
      "The value of c3ss is: 0.240873817365\n",
      "The value of rss is: 2.43303025356\n",
      "The value of wss is: 0.201725293596\n"
     ]
    }
   ],
   "source": [
    "ss = steadystate([0.1, 0.1])\n",
    "ssdisplay(ss)"
   ]
  },
  {
   "cell_type": "markdown",
   "metadata": {},
   "source": [
    "### Problem 2: "
   ]
  },
  {
   "cell_type": "code",
   "execution_count": 3,
   "metadata": {
    "collapsed": false
   },
   "outputs": [
    {
     "name": "stdout",
     "output_type": "stream",
     "text": [
      "The value of b2ss is: 0.028176959268\n",
      "The value of b3ss is: 0.0768655662396\n",
      "The value of c1ss is: 0.195975352642\n",
      "The value of c2ss is: 0.228615593799\n",
      "The value of c3ss is: 0.266692158088\n",
      "The value of rss is: 1.88635999915\n",
      "The value of wss is: 0.22415231191\n"
     ]
    }
   ],
   "source": [
    "beta = 0.55\n",
    "ss = steadystate([0.1, 0.1])\n",
    "ssdisplay(ss)"
   ]
  },
  {
   "cell_type": "markdown",
   "metadata": {},
   "source": [
    "We can see from direct comparison that wages, consumption, and savings rise in each period; R falls. That consumption in latter periods and savings rise is immediately intuitive, since a higher beta indicates higher patience for consumption. \n",
    "The rise in wage is significant because it is directly tied to the savings, which rise. This higher steady-state wage even allows the agent to consume more in period 1.\n"
   ]
  },
  {
   "cell_type": "markdown",
   "metadata": {},
   "source": [
    "### Problem 3:"
   ]
  },
  {
   "cell_type": "code",
   "execution_count": 4,
   "metadata": {
    "collapsed": false
   },
   "outputs": [],
   "source": [
    "# Solve for the steady-state in 3-per OG model\n",
    "\n",
    "# Import libraries\n",
    "import numpy as np\n",
    "import scipy.optimize as opt \n",
    "\n",
    "# Household Parameters\n",
    "S = int(3) # three periods\n",
    "yrs_live = 60 # years per period\n",
    "sigma = 3 # risk aversion\n",
    "beta_annual = 0.96\n",
    "beta = beta_annual **(yrs_live / S) # period beta\n",
    "v_n = np.array([1, 1, 0.2]) #labor endowment\n",
    "\n",
    "# Firm Parameters\n",
    "alpha = 0.35 # capital share\n",
    "A = 1 # technology\n",
    "delta_annual = 0.05 # annual depreciation\n",
    "delta = 1 - (1 - delta_annual) ** (yrs_live / S) # period depreciation\n",
    "\n",
    "\n",
    "def MU(c):\n",
    "    \"\"\" Marginal Utility\"\"\"\n",
    "    return c ** (- sigma) \n",
    "\n",
    "def get_r(K, L = sum(v_n)):\n",
    "    r = alpha * A *((L / K) ** (1 - alpha)) - delta\n",
    "    return r\n",
    "\n",
    "def get_w(K, L = sum(v_n)):\n",
    "        w = (1 - alpha) * A * ((K / L) ** (alpha))\n",
    "        return w\n",
    "    \n",
    "def get_c(v_b, v_k):\n",
    "    # first period\n",
    "    w1 = get_w(v_k[0])\n",
    "    c1 = w1 - v_b[0]\n",
    "    #second period\n",
    "    w2 = get_w(v_k[1])\n",
    "    r2 = get_r(v_k[1])\n",
    "    c2 = w2 + (1 + r2)*v_b[0] - v_b[1]\n",
    "    # third period\n",
    "    w3 = get_w(v_k[2])\n",
    "    r3 = get_r(v_k[2])\n",
    "    c3 = 0.2*w3 + (1 + r3)*v_b[1]\n",
    "    c = np.array([c1, c2, c3])\n",
    "    return c\n",
    "\n",
    "T = int(round(8 * S))\n",
    "\n",
    "# Steady state from (a)\n",
    "\n",
    "b2ss = 0.0193127352392\n",
    "b3ss = 0.058411590879\n",
    "rss = 2.43303025356\n",
    "wss = 0.201725293596\n",
    "kss = b2ss + b3ss\n",
    "\n",
    "# Initial conditions\n",
    "b2_1 = 0.8*b2ss\n",
    "b3_1 = 1.1*b3ss\n",
    "k1 = b2_1 + b3_1\n",
    "\n",
    "k_guess = [k1]\n",
    "for i in range(T + 4):\n",
    "    if i < T:\n",
    "        k_guess.append(k1 +((i)/ (T-1))*(kss - k1))\n",
    "    else:\n",
    "        k_guess.append(kss)\n",
    "\n",
    "\n",
    "    \n"
   ]
  },
  {
   "cell_type": "code",
   "execution_count": 5,
   "metadata": {
    "collapsed": false
   },
   "outputs": [],
   "source": [
    "## Solve for the first new path given the rates from initial guess\n",
    "# Initialize the r and w vectors for the time path guess\n",
    "\"\"\"\n",
    "r = []\n",
    "w = []\n",
    "for i in range(T+6):\n",
    "    if i < T + 1:\n",
    "        r.append(get_r(k_guess[i]))\n",
    "        w.append(get_w(k_guess[i])) \n",
    "    else: \n",
    "        r.append(rss)\n",
    "        w.append(wss)\n",
    "\"\"\"\n",
    "# paths for b2 and b3\n",
    "b2path = np.zeros((T+5))\n",
    "b3path = np.zeros((T+5))\n",
    "b2path[0] = b2_1\n",
    "b3path[0] = b3_1\n",
    "for i in range(5):\n",
    "        b2path[T + i] = b2ss\n",
    "        b3path[T + i] = b3ss\n",
    "\n",
    "def b3error(b3, b2 = b2_1 , v_k = k_guess[0:3]):\n",
    "    v_b = np.array([b2,b3])\n",
    "    c = get_c(v_b, v_k)\n",
    "    r2 = get_r(v_k[1])\n",
    "    r3 = get_r(v_k[2])\n",
    "    diff3 = MU(c[1]) - beta*(1 + r3)*MU(c[2])\n",
    "    return diff3\n",
    "\n",
    "def b3givenb2(b2 = b2_1, b3guess = 0.1, v_k = k_guess[0:3]):\n",
    "    b = b3guess\n",
    "    b3 = opt.root(b3error, b3guess, b2_1)\n",
    "    return b3.x\n",
    "\n",
    "def diffeq2(v_b, v_k):\n",
    "    # the system of equations \n",
    "        c = get_c(v_b, v_k)\n",
    "        r2 = get_r(v_k[1])\n",
    "        diff1 = MU(c[0]) - beta*(1 + r2)*MU(c[1])\n",
    "        r3 = get_r(v_k[2])\n",
    "        diff2 = MU(c[1]) - beta*(1 + r3)*MU(c[2])\n",
    "        diff = np.array([diff1, diff2])\n",
    "        return diff\n",
    "\n",
    "# Step 3 - Calculate {b2,b3}_{t=1}^{T} given the guess, and sum them to newK (path)\n",
    "def get_path(b2_1, b3_1, k_old):\n",
    "    b2path = np.zeros((T+5))\n",
    "    b3path = np.zeros((T+5))\n",
    "    b2path[0] = b2_1\n",
    "    b3path[0] = b3_1\n",
    "    for i in range(5):\n",
    "        b2path[T + i] = b2ss\n",
    "        b3path[T + i] = b3ss\n",
    "    b3path[1] = b3givenb2(b2 = b2_1, b3guess = 0.1, v_k = k_old[0:3])\n",
    "        \n",
    "    i = 1\n",
    "    while i <= T-1:\n",
    "        b2b3i = opt.root(diffeq2, np.array([b2ss,b3ss]), k_old[i:i+3])\n",
    "        if i <= T-2:\n",
    "            b2path[i], b3path[i+1] = b2b3i.x #['x']\n",
    "        else:\n",
    "            b2path[i] = b2b3i.x[0]\n",
    "        i += 1\n",
    "    newK = (b2path+b3path)\n",
    "    return newK\n",
    "newK = get_path(b2_1, b3_1, k_guess)"
   ]
  },
  {
   "cell_type": "markdown",
   "metadata": {},
   "source": [
    "On to the time path iteration..."
   ]
  },
  {
   "cell_type": "code",
   "execution_count": 6,
   "metadata": {
    "collapsed": false
   },
   "outputs": [
    {
     "name": "stdout",
     "output_type": "stream",
     "text": [
      "46.2615175983\n",
      "2\n",
      "3\n",
      "4\n",
      "5\n",
      "6\n",
      "7\n",
      "8\n",
      "9\n",
      "10\n",
      "11\n",
      "12\n",
      "13\n",
      "14\n",
      "15\n",
      "16\n",
      "[ 0.07970294  0.07413338  0.07663967  0.07740078  0.07762818  0.07769579\n",
      "  0.07771586  0.07772182  0.07772358  0.07772411  0.07772426  0.07772431\n",
      "  0.07772433  0.07772433  0.07772433  0.07772433  0.07772433  0.07772433\n",
      "  0.07772433  0.07772433  0.07772433  0.07772433  0.07772433  0.07772433\n",
      "  0.07772433  0.07772433  0.07772433  0.07772433  0.07772433]\n"
     ]
    }
   ],
   "source": [
    "# TPI Parameters\n",
    "T = int(round(8 * S))\n",
    "TPI_solve = True\n",
    "TPI_tol = 1e-9\n",
    "maxiter_TPI = 200\n",
    "mindist_TPI = 1e-9\n",
    "xi = 0.99\n",
    "TPI_graphs = True\n",
    "TPI_dist = 1\n",
    "def dist(path0, path1):\n",
    "    return sum((100*((path1 - path0)/path0))**2)\n",
    "print(dist(k_guess, newK))\n",
    "iteration = 1\n",
    "while (TPI_dist > TPI_tol) and (maxiter_TPI > iteration):\n",
    "    k_guess = (1 - xi)*np.array(k_guess) + xi*np.array(newK)\n",
    "    newK = get_path(b2_1, b3_1, k_guess)\n",
    "    TPI_dist = dist(k_guess, newK)\n",
    "    iteration += 1\n",
    "    print(iteration)\n",
    "print(newK)\n"
   ]
  },
  {
   "cell_type": "markdown",
   "metadata": {},
   "source": [
    "### Problem 4"
   ]
  },
  {
   "cell_type": "code",
   "execution_count": 7,
   "metadata": {
    "collapsed": false
   },
   "outputs": [
    {
     "data": {
      "image/png": "[encoded data removed]",
      "text/plain": [
       "<matplotlib.figure.Figure at 0x10f356a58>"
      ]
     },
     "metadata": {},
     "output_type": "display_data"
    }
   ],
   "source": [
    "import matplotlib.pyplot #as plt\n",
    "matplotlib.pyplot.plot(newK)\n",
    "matplotlib.pyplot.show()\n"
   ]
  },
  {
   "cell_type": "raw",
   "metadata": {},
   "source": [
    "From the plot (have to shift by 1 period) and the data, we can see that the path stays within 0.0001 units of the steady state for all t greater and equal to 5; T = 5."
   ]
  }
 ],
 "metadata": {
  "kernelspec": {
   "display_name": "Python 3",
   "language": "python",
   "name": "python3"
  },
  "language_info": {
   "codemirror_mode": {
    "name": "ipython",
    "version": 3
   },
   "file_extension": ".py",
   "mimetype": "text/x-python",
   "name": "python",
   "nbconvert_exporter": "python",
   "pygments_lexer": "ipython3",
   "version": "3.6.0"
  }
 },
 "nbformat": 4,
 "nbformat_minor": 2
}
