{
 "cells": [
  {
   "cell_type": "markdown",
   "metadata": {},
   "source": [
    "# 4. Estimating the Brock and Mirman (1972) model by GMM"
   ]
  },
  {
   "cell_type": "code",
   "execution_count": 134,
   "metadata": {
    "collapsed": true
   },
   "outputs": [],
   "source": [
    "import numpy as np\n",
    "import matplotlib.pyplot as plt\n",
    "import numpy as np\n",
    "import pandas as pd"
   ]
  },
  {
   "cell_type": "code",
   "execution_count": 245,
   "metadata": {
    "collapsed": true
   },
   "outputs": [],
   "source": [
    "mcseries = pd.read_csv(\"MacroSeries.txt\", header = None,squeeze=True, names = [\"c\",\"k\",\"w\",\"r\"])\n",
    "\n",
    "c = mcseries[\"c\"].as_matrix()\n",
    "k = mcseries[\"k\"].as_matrix()\n",
    "w = mcseries[\"w\"].as_matrix()\n",
    "r = mcseries[\"r\"].as_matrix()"
   ]
  },
  {
   "cell_type": "code",
   "execution_count": 246,
   "metadata": {
    "collapsed": false
   },
   "outputs": [
    {
     "data": {
      "text/plain": [
       "array([  8040697.        ,   7595071.76117567,   8323735.10441439,\n",
       "         6613792.41053042,   5632135.94271214,   5794291.99147403,\n",
       "         5889252.24203382,   6139431.32809391,   6414807.80778456,\n",
       "         6255021.24408637,   6918829.21668457,   7153046.32196178,\n",
       "         6920333.9840067 ,   7813609.15822999,   9540329.63179025,\n",
       "         8292049.71479493,   7603585.3609027 ,   7800005.42815411,\n",
       "         7221336.36934274,   5857840.07545773,   6488639.94941073,\n",
       "         6353698.86290216,   5815159.47259902,   5205224.6587504 ,\n",
       "         5531034.09979365,   5886818.89478422,   5545938.72815041,\n",
       "         5123678.33190049,   5841991.56255407,   6337258.61883496,\n",
       "         6247566.31186923,   6576043.29440867,   7387253.79111871,\n",
       "         8184884.57228105,   8054508.55912559,  10636793.05938092,\n",
       "        12836302.56042412,  12623369.1992458 ,  13212559.75196111,\n",
       "        12771028.14723333,   9635997.61034672,   7717914.40313058,\n",
       "         6637588.58291581,   6594864.87683528,   6105903.33673649,\n",
       "         6016734.6650259 ,   6431726.43452752,   6620282.80811928,\n",
       "         6107074.27663963,   6149001.8670096 ,   6357616.96592909,\n",
       "         6774285.80221981,   6096836.77758554,   5374410.49297876,\n",
       "         5159306.0193391 ,   5500730.56833037,   5962903.63371135,\n",
       "         6324333.63715248,   7165962.53322595,   7225472.7472468 ,\n",
       "         6609591.09595202,   6678877.20075636,   6758159.27141657,\n",
       "         7117042.86017703,   7927496.10167133,   7774577.58819463,\n",
       "         8864425.23341796,   9458222.48893749,   8891131.76056157,\n",
       "         7873400.14843876,   6627976.8797393 ,   7092820.52457028,\n",
       "         7184068.98966288,   8323065.68841387,   8735834.65947724,\n",
       "         8412111.07265084,   7256900.53767251,   6682059.08439109,\n",
       "         5988617.49268831,   6353352.2230692 ,   6712831.35631972,\n",
       "         6703632.93882859,   7311492.69524528,   6826054.56206035,\n",
       "         7493295.4268267 ,   7712451.13037598,   8486511.49583849,\n",
       "         9031191.24333522,   9890151.964367  ,   8506084.41438225,\n",
       "         8262156.73157799,   7847594.38056979,   7710208.83921939,\n",
       "         8597659.69981567,   8990533.79308062,   8549874.98647095,\n",
       "         8689561.88272079,  10854274.47233221,  10473762.79488556,\n",
       "         9557497.46118192])"
      ]
     },
     "execution_count": 246,
     "metadata": {},
     "output_type": "execute_result"
    }
   ],
   "source": [
    "k"
   ]
  },
  {
   "cell_type": "code",
   "execution_count": 199,
   "metadata": {
    "collapsed": false
   },
   "outputs": [
    {
     "ename": "SyntaxError",
     "evalue": "invalid syntax (<ipython-input-199-f87d602e4b73>, line 1)",
     "output_type": "error",
     "traceback": [
      "\u001b[0;36m  File \u001b[0;32m\"<ipython-input-199-f87d602e4b73>\"\u001b[0;36m, line \u001b[0;32m1\u001b[0m\n\u001b[0;31m    .as_matrix()\u001b[0m\n\u001b[0m    ^\u001b[0m\n\u001b[0;31mSyntaxError\u001b[0m\u001b[0;31m:\u001b[0m invalid syntax\n"
     ]
    }
   ],
   "source": []
  },
  {
   "cell_type": "markdown",
   "metadata": {},
   "source": [
    "### (a)"
   ]
  },
  {
   "cell_type": "markdown",
   "metadata": {
    "collapsed": false
   },
   "source": [
    "This example is neat because we use the FOCs and zero-expectations as moments. In the model they are supposed to be zero, which means all we are left with is calculating the data moments. Let's start."
   ]
  },
  {
   "cell_type": "code",
   "execution_count": 200,
   "metadata": {
    "collapsed": false
   },
   "outputs": [
    {
     "data": {
      "text/plain": [
       "c    1.052085e+07\n",
       "k    7.472545e+06\n",
       "w    1.044521e+07\n",
       "r    1.016947e+00\n",
       "dtype: float64"
      ]
     },
     "execution_count": 200,
     "metadata": {},
     "output_type": "execute_result"
    }
   ],
   "source": [
    "mcseries.mean()"
   ]
  },
  {
   "cell_type": "markdown",
   "metadata": {},
   "source": [
    "Since all equations include two time periods, we have one observation less for the equations than for variables."
   ]
  },
  {
   "cell_type": "code",
   "execution_count": 201,
   "metadata": {
    "collapsed": true
   },
   "outputs": [],
   "source": [
    "# Recall from Problem 2:\n",
    "def zvia4(r, k, alpha):\n",
    "    return np.log(r/((alpha) * (k**(alpha - 1))))"
   ]
  },
  {
   "cell_type": "code",
   "execution_count": 247,
   "metadata": {
    "collapsed": true
   },
   "outputs": [],
   "source": [
    "def data_moments( c, k, w, r, alpha, beta, rho, mu):\n",
    "    z = zvia4(r, k, alpha)\n",
    "    c = mcseries[\"c\"].as_matrix()\n",
    "    k = mcseries[\"k\"].as_matrix()\n",
    "    w = mcseries[\"w\"].as_matrix()\n",
    "    r = mcseries[\"r\"].as_matrix()\n",
    "    \n",
    "    eq6 = z[1:] - rho * z[:-1] - (1 - rho) * mu\n",
    "    eq7 = (z[1:] - rho * z[:-1] - (1 - rho) * mu) * z[:-1]\n",
    "    #print(type(k),type(c))\n",
    "    eq8 = (beta * alpha * np.exp(z[1:]) *\\\n",
    "           (k[1:]**(alpha - 1))*c[:-1]/c[1:]) - 1\n",
    "    eq9 = ((beta * alpha * np.exp(z[1:]) *\\\n",
    "            (k[1:]**(alpha - 1))*c[:-1]/c[1:]) - 1) * w[:-1]\n",
    "    \n",
    "    moments = np.array(([eq6.mean(), eq7.mean(), eq8.mean(), eq9.mean()]))\n",
    "    \n",
    "    return moments\n",
    "\n",
    "'''def err_vec( c, k, w, r, alpha, beta, rho, mu, simple):\n",
    "    moments = data_moments( c, k, w, r, alpha, beta, rho, mu)\n",
    "    moms_model = np.zeros_like(moms_data)\n",
    "    if simple:\n",
    "        err_vec = moms_model - moms_data\n",
    "    else:\n",
    "        err_vec = (moms_model - moms_data) / moms_data\n",
    "    return err_vec'''\n",
    "\n",
    "def crit(params, *args):\n",
    "    alpha, beta, rho, mu = params\n",
    "    c, k, w, r = args\n",
    "    W = np.eye(4)\n",
    "    err = data_moments( c, k, w, r, alpha, beta, rho, mu)\n",
    "    crit_val = np.dot(np.dot(err.T, W), err) \n",
    "    return crit_val "
   ]
  },
  {
   "cell_type": "code",
   "execution_count": 256,
   "metadata": {
    "collapsed": false
   },
   "outputs": [
    {
     "name": "stdout",
     "output_type": "stream",
     "text": [
      "      fun: 0.0027698241119015012\n",
      " hess_inv: <4x4 LbfgsInvHessProduct with dtype=float64>\n",
      "      jac: array([  3.27877274e-03,   3.52898743e+00,  -6.60682446e-06,\n",
      "         2.49657066e-06])\n",
      "  message: b'CONVERGENCE: REL_REDUCTION_OF_F_<=_FACTR*EPSMCH'\n",
      "     nfev: 80\n",
      "      nit: 7\n",
      "   status: 0\n",
      "  success: True\n",
      "        x: array([  2.52135736e-01,   9.89999995e-01,   1.82671569e-03,\n",
      "         1.32107590e+01])\n",
      "alpha_GMM =  0.252135736431 beta_GMM =  0.989999995 rho_GMM =  0.00182671568732 mu_GMM =  13.2107589559\n",
      "Minimized Criterion: 0.0027698241119\n"
     ]
    }
   ],
   "source": [
    "alpha_init = 0.25\n",
    "beta_init = 0.99\n",
    "rho_init = -0.001\n",
    "mu_init = 1\n",
    "\n",
    "\n",
    "params_init = np.array([alpha_init, beta_init, rho_init, mu_init])\n",
    "args = (c, k, w, r)\n",
    "\n",
    "bounds = ((0,1),(0,1),(-1,1),(0,None))\n",
    "results = opt.minimize(crit, params_init, args=args,\n",
    "                       method ='L-BFGS-B', bounds=bounds)\n",
    "alpha_GMM, beta_GMM, rho_GMM, mu_GMM = results.x\n",
    "print(results)\n",
    "print('alpha_GMM = ', alpha_GMM, 'beta_GMM = ', beta_GMM, 'rho_GMM = ', rho_GMM, 'mu_GMM = ', mu_GMM)\n",
    "print('Minimized Criterion:', crit(results.x, *args))"
   ]
  },
  {
   "cell_type": "code",
   "execution_count": 266,
   "metadata": {
    "collapsed": false
   },
   "outputs": [
    {
     "data": {
      "text/plain": [
       "'from scipy import linalg as la\\ndist = 1\\nalpha_init = 0.25\\nbeta_init = 0.99\\nrho_init = 0.01\\nmu_init = 1\\nk = 1\\nargs = (c, k, w, r)\\nbounds = ((0,1),(0,1),(-1,1),(0,None))\\nwhile dist > 1e-2 and k <10:\\n    c = mcseries[\"c\"].as_matrix()\\n    k = mcseries[\"k\"].as_matrix()\\n    w = mcseries[\"w\"].as_matrix()\\n    r = mcseries[\"r\"].as_matrix()\\n    params_init = np.array([alpha_init, beta_init, rho_init, mu_init])\\n    \\n    results = opt.minimize(crit, params_init, args=args,\\n                       method =\\'L-BFGS-B\\', bounds=bounds)\\n    alpha_GMM, beta_GMM, rho_GMM, mu_GMM = results.x\\n    print(\\'alpha_GMM = \\', alpha_GMM, \\'beta_GMM = \\', beta_GMM, \\'rho_GMM = \\', rho_GMM, \\'mu_GMM = \\', mu_GMM)\\n    dist = la.norm(la.norm(np.array(([alpha_GMM - alpha_init,\\n                              beta_GMM - beta_init,\\n                              rho_GMM - rho_init,\\n                              mu_GMM - mu_init])) ))\\n    alpha_init, beta_init, rho_init, mu_init = alpha_GMM, beta_GMM, rho_GMM, mu_GMM\\n    k += 1'"
      ]
     },
     "execution_count": 266,
     "metadata": {},
     "output_type": "execute_result"
    }
   ],
   "source": []
  },
  {
   "cell_type": "markdown",
   "metadata": {},
   "source": [
    "I iterated a couple of times but the result is not great:"
   ]
  },
  {
   "cell_type": "code",
   "execution_count": 242,
   "metadata": {
    "collapsed": false
   },
   "outputs": [
    {
     "name": "stdout",
     "output_type": "stream",
     "text": [
      "      fun: 19.511085536145725\n",
      " hess_inv: <4x4 LbfgsInvHessProduct with dtype=float64>\n",
      "      jac: array([ -4.35656283e+01,   1.53396769e+04,  -4.33372577e+01,\n",
      "         8.31414368e+00])\n",
      "  message: b'ABNORMAL_TERMINATION_IN_LNSRCH'\n",
      "     nfev: 105\n",
      "      nit: 0\n",
      "   status: 2\n",
      "  success: False\n",
      "        x: array([ 0.98249999,  0.99      ,  0.1       ,  5.        ])\n",
      "alpha_GMM =  0.982499991428 beta_GMM =  0.989999995069 rho_GMM =  0.1 mu_GMM =  5.0\n",
      "Minimized Criterion: 19.5110855361\n"
     ]
    }
   ],
   "source": [
    "alpha_init, beta_init, rho_init, mu_init = alpha_GMM, beta_GMM, rho_GMM, mu_GMM\n",
    "\n",
    "\n",
    "params_init = np.array([alpha_init, beta_init, rho_init, mu_init])\n",
    "args = (c, k, w, r)\n",
    "\n",
    "bounds = ((0,1),(0,1),(-1,1),(0,None))\n",
    "results = opt.minimize(crit, params_init, args=args,\n",
    "                       method ='L-BFGS-B', bounds=bounds)\n",
    "alpha_GMM, beta_GMM, rho_GMM, mu_GMM = results.x\n",
    "print(results)\n",
    "print('alpha_GMM = ', alpha_GMM, 'beta_GMM = ', beta_GMM, 'rho_GMM = ', rho_GMM, 'mu_GMM = ', mu_GMM)\n",
    "print('Minimized Criterion:', crit(results.x, *args))"
   ]
  },
  {
   "cell_type": "code",
   "execution_count": null,
   "metadata": {
    "collapsed": true
   },
   "outputs": [],
   "source": [
    "It seems to have gotten itself into a failure to converge."
   ]
  },
  {
   "cell_type": "code",
   "execution_count": null,
   "metadata": {
    "collapsed": true
   },
   "outputs": [],
   "source": []
  },
  {
   "cell_type": "code",
   "execution_count": 267,
   "metadata": {
    "collapsed": false
   },
   "outputs": [
    {
     "name": "stdout",
     "output_type": "stream",
     "text": [
      "      fun: 0.0027698253881187789\n",
      " hess_inv: <4x4 LbfgsInvHessProduct with dtype=float64>\n",
      "      jac: array([ -3.71167758e-03,   3.33089698e+00,  -6.59997230e-06,\n",
      "        -1.78312226e-06])\n",
      "  message: b'ABNORMAL_TERMINATION_IN_LNSRCH'\n",
      "     nfev: 270\n",
      "      nit: 6\n",
      "   status: 2\n",
      "  success: False\n",
      "        x: array([  2.52135736e-01,   9.89999995e-01,   1.82671607e-03,\n",
      "         1.32107598e+01])\n",
      "alpha_GMM =  0.252135736165 beta_GMM =  0.989999995 rho_GMM =  0.00182671606624 mu_GMM =  13.2107597818\n",
      "Minimized Criterion: 0.00276982513512\n"
     ]
    }
   ],
   "source": [
    "alpha_init = 0.25\n",
    "beta_init = 0.99\n",
    "rho_init = -0.001\n",
    "mu_init = 1\n",
    "\n",
    "\n",
    "params_init = np.array([alpha_init, beta_init, rho_init, mu_init])\n",
    "args = (c, k, w, r)\n",
    "\n",
    "bounds = ((0,1),(0,1),(-1,1),(0,None))\n",
    "results = opt.minimize(crit, params_init, args=args,\n",
    "                       method ='L-BFGS-B', bounds=bounds)\n",
    "alpha_GMM, beta_GMM, rho_GMM, mu_GMM = results.x\n",
    "print(results)\n",
    "print('alpha_GMM = ', alpha_GMM, 'beta_GMM = ', beta_GMM, 'rho_GMM = ', rho_GMM, 'mu_GMM = ', mu_GMM)\n",
    "print('Minimized Criterion:', crit(results.x, *args))\n"
   ]
  },
  {
   "cell_type": "code",
   "execution_count": 268,
   "metadata": {
    "collapsed": false
   },
   "outputs": [
    {
     "name": "stdout",
     "output_type": "stream",
     "text": [
      "alpha_GMM =  0.252135736165 beta_GMM =  0.989999995 rho_GMM =  0.00182671606624 mu_GMM =  13.2107597818\n"
     ]
    }
   ],
   "source": [
    "c = mcseries[\"c\"].as_matrix()\n",
    "k = mcseries[\"k\"].as_matrix()\n",
    "w = mcseries[\"w\"].as_matrix()\n",
    "r = mcseries[\"r\"].as_matrix()\n",
    "params_init = np.array([alpha_init, beta_init, rho_init, mu_init])\n",
    "    \n",
    "results = opt.minimize(crit, params_init, args=args,\n",
    "                       method ='L-BFGS-B', bounds=bounds)\n",
    "alpha_GMM, beta_GMM, rho_GMM, mu_GMM = results.x\n",
    "print('alpha_GMM = ', alpha_GMM, 'beta_GMM = ', beta_GMM, 'rho_GMM = ', rho_GMM, 'mu_GMM = ', mu_GMM)\n",
    "dist = la.norm(la.norm(np.array(([alpha_GMM - alpha_init,\n",
    "                                  beta_GMM - beta_init,\n",
    "                                  rho_GMM - rho_init,\n",
    "                                  mu_GMM - mu_init])) ))\n",
    "alpha_init, beta_init, rho_init, mu_init = alpha_GMM, beta_GMM, rho_GMM, mu_GMM\n"
   ]
  },
  {
   "cell_type": "code",
   "execution_count": 269,
   "metadata": {
    "collapsed": false
   },
   "outputs": [
    {
     "name": "stdout",
     "output_type": "stream",
     "text": [
      "alpha_GMM =  0.252135736165 beta_GMM =  0.989999995 rho_GMM =  0.00182671606624 mu_GMM =  13.2107597818\n"
     ]
    }
   ],
   "source": [
    "c = mcseries[\"c\"].as_matrix()\n",
    "k = mcseries[\"k\"].as_matrix()\n",
    "w = mcseries[\"w\"].as_matrix()\n",
    "r = mcseries[\"r\"].as_matrix()\n",
    "params_init = np.array([alpha_init, beta_init, rho_init, mu_init])\n",
    "    \n",
    "results = opt.minimize(crit, params_init, args=args,\n",
    "                       method ='L-BFGS-B', bounds=bounds)\n",
    "alpha_GMM, beta_GMM, rho_GMM, mu_GMM = results.x\n",
    "print('alpha_GMM = ', alpha_GMM, 'beta_GMM = ', beta_GMM, 'rho_GMM = ', rho_GMM, 'mu_GMM = ', mu_GMM)\n",
    "dist = la.norm(la.norm(np.array(([alpha_GMM - alpha_init,\n",
    "                                  beta_GMM - beta_init,\n",
    "                                  rho_GMM - rho_init,\n",
    "                                  mu_GMM - mu_init])) ))\n",
    "alpha_init, beta_init, rho_init, mu_init = alpha_GMM, beta_GMM, rho_GMM, mu_GMM\n",
    "\n"
   ]
  },
  {
   "cell_type": "code",
   "execution_count": 270,
   "metadata": {
    "collapsed": false
   },
   "outputs": [
    {
     "name": "stdout",
     "output_type": "stream",
     "text": [
      "alpha_GMM =  0.252135736165 beta_GMM =  0.989999995 rho_GMM =  0.00182671606624 mu_GMM =  13.2107597818\n"
     ]
    }
   ],
   "source": [
    "c = mcseries[\"c\"].as_matrix()\n",
    "k = mcseries[\"k\"].as_matrix()\n",
    "w = mcseries[\"w\"].as_matrix()\n",
    "r = mcseries[\"r\"].as_matrix()\n",
    "params_init = np.array([alpha_init, beta_init, rho_init, mu_init])\n",
    "    \n",
    "results = opt.minimize(crit, params_init, args=args,\n",
    "                       method ='L-BFGS-B', bounds=bounds)\n",
    "alpha_GMM, beta_GMM, rho_GMM, mu_GMM = results.x\n",
    "print('alpha_GMM = ', alpha_GMM, 'beta_GMM = ', beta_GMM, 'rho_GMM = ', rho_GMM, 'mu_GMM = ', mu_GMM)\n",
    "dist = la.norm(la.norm(np.array(([alpha_GMM - alpha_init,\n",
    "                                  beta_GMM - beta_init,\n",
    "                                  rho_GMM - rho_init,\n",
    "                                  mu_GMM - mu_init])) ))\n",
    "alpha_init, beta_init, rho_init, mu_init = alpha_GMM, beta_GMM, rho_GMM, mu_GMM\n",
    "\n"
   ]
  },
  {
   "cell_type": "code",
   "execution_count": 271,
   "metadata": {
    "collapsed": false
   },
   "outputs": [
    {
     "data": {
      "text/plain": [
       "      fun: 0.0027698253881187789\n",
       " hess_inv: <4x4 LbfgsInvHessProduct with dtype=float64>\n",
       "      jac: array([ -3.71167758e-03,   3.33089698e+00,  -6.59997230e-06,\n",
       "        -1.78312226e-06])\n",
       "  message: b'ABNORMAL_TERMINATION_IN_LNSRCH'\n",
       "     nfev: 105\n",
       "      nit: 0\n",
       "   status: 2\n",
       "  success: False\n",
       "        x: array([  2.52135736e-01,   9.89999995e-01,   1.82671607e-03,\n",
       "         1.32107598e+01])"
      ]
     },
     "execution_count": 271,
     "metadata": {},
     "output_type": "execute_result"
    }
   ],
   "source": [
    "results"
   ]
  },
  {
   "cell_type": "markdown",
   "metadata": {},
   "source": [
    "This result seems to be stable as well, but it is still close to the initial guess, so perhaps the estimation just fell into a well"
   ]
  },
  {
   "cell_type": "code",
   "execution_count": null,
   "metadata": {
    "collapsed": true
   },
   "outputs": [],
   "source": []
  }
 ],
 "metadata": {
  "kernelspec": {
   "display_name": "Python 3",
   "language": "python",
   "name": "python3"
  },
  "language_info": {
   "codemirror_mode": {
    "name": "ipython",
    "version": 3
   },
   "file_extension": ".py",
   "mimetype": "text/x-python",
   "name": "python",
   "nbconvert_exporter": "python",
   "pygments_lexer": "ipython3",
   "version": "3.6.0"
  }
 },
 "nbformat": 4,
 "nbformat_minor": 2
}
