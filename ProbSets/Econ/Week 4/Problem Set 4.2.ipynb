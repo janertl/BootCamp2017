{
 "cells": [
  {
   "cell_type": "markdown",
   "metadata": {},
   "source": [
    "# 2. MLE estimation of simple macroeconomic model"
   ]
  },
  {
   "cell_type": "code",
   "execution_count": 23,
   "metadata": {
    "collapsed": true
   },
   "outputs": [],
   "source": [
    "import numpy as np\n",
    "import pandas as pd"
   ]
  },
  {
   "cell_type": "code",
   "execution_count": 31,
   "metadata": {
    "collapsed": false
   },
   "outputs": [],
   "source": [
    "mcseries = ms = pd.read_csv(\"MacroSeries.txt\", header = None,squeeze=True, names = [\"c\",\"k\",\"w\",\"r\"])\n",
    "\n",
    "c = mcseries[\"c\"]\n",
    "k = mcseries[\"k\"]\n",
    "w = mcseries[\"w\"]\n",
    "r = mcseries[\"r\"]\n",
    "\n"
   ]
  },
  {
   "cell_type": "markdown",
   "metadata": {},
   "source": [
    "### (a)"
   ]
  },
  {
   "cell_type": "code",
   "execution_count": 32,
   "metadata": {
    "collapsed": true
   },
   "outputs": [],
   "source": [
    "import scipy.stats as sts\n"
   ]
  },
  {
   "cell_type": "code",
   "execution_count": 53,
   "metadata": {
    "collapsed": true
   },
   "outputs": [],
   "source": [
    "# We derive the z in each period that makes\n",
    "# the characterizing equation hold:\n",
    "def zvia3(w, k, alpha):\n",
    "    return np.log(w/((1 - alpha) * (k**alpha)))\n",
    "    \n",
    "def eq3z_pdf(z, rho, mu, sigma):\n",
    "    pdf_vals = np.empty_like(z)\n",
    "    pdf_vals[0] = sts.norm.pdf(z[0], mu, sigma)\n",
    "    pdf_vals[1:] = sts.norm.pdf(z[1:], rho * z[:-1] + (1 - rho) * mu, sigma)\n",
    "    pdf_vals[pdf_vals == 0] = 1e-20\n",
    "    return pdf_vals\n",
    "    \n",
    "\n",
    "    \n",
    "def log_lik_eq3z(w, k, alpha, rho, mu, sigma):\n",
    "    \n",
    "    pdf_vals = eq3z_pdf(zvia3(w, k, alpha), rho, mu, sigma)\n",
    "    ln_pdf_vals = np.log(pdf_vals)\n",
    "    log_lik_val = ln_pdf_vals.sum()\n",
    "    \n",
    "    return log_lik_val\n",
    "\n",
    "def crit3(params, *args):\n",
    "    alpha, rho, mu, sigma = params\n",
    "    w, k = args\n",
    "    log_lik_val = log_lik_eq3z(w, k, alpha, rho, mu, sigma)\n",
    "    neg_log_lik_val = -log_lik_val\n",
    "    return neg_log_lik_val"
   ]
  },
  {
   "cell_type": "code",
   "execution_count": 54,
   "metadata": {
    "collapsed": false
   },
   "outputs": [
    {
     "data": {
      "text/plain": [
       "count    100.000000\n",
       "mean      11.754422\n",
       "std        0.156162\n",
       "min       11.480309\n",
       "25%       11.639685\n",
       "50%       11.734373\n",
       "75%       11.843314\n",
       "max       12.203338\n",
       "dtype: float64"
      ]
     },
     "execution_count": 54,
     "metadata": {},
     "output_type": "execute_result"
    }
   ],
   "source": [
    "# Guess alpha: 0.3 (standard in literature)\n",
    "\n",
    "galpha = 0.3\n",
    "\n",
    "gz = zvia3(w, k, galpha)\n",
    "gz.describe()"
   ]
  },
  {
   "cell_type": "code",
   "execution_count": 55,
   "metadata": {
    "collapsed": false
   },
   "outputs": [
    {
     "data": {
      "text/plain": [
       "count    99.000000\n",
       "mean     -0.001842\n",
       "std       0.097916\n",
       "min      -0.282904\n",
       "25%      -0.069374\n",
       "50%      -0.008672\n",
       "75%       0.074106\n",
       "max       0.271477\n",
       "dtype: float64"
      ]
     },
     "execution_count": 55,
     "metadata": {},
     "output_type": "execute_result"
    }
   ],
   "source": [
    "diffgz = gz.shift(1)-gz\n",
    "diffgz.describe()"
   ]
  },
  {
   "cell_type": "code",
   "execution_count": 56,
   "metadata": {
    "collapsed": false
   },
   "outputs": [
    {
     "name": "stdout",
     "output_type": "stream",
     "text": [
      "      fun: -96.706908069170694\n",
      " hess_inv: <4x4 LbfgsInvHessProduct with dtype=float64>\n",
      "      jac: array([  1.26192390e-02,   8.52651283e-06,   8.98126018e-04,\n",
      "         4.20641300e-04])\n",
      "  message: b'CONVERGENCE: REL_REDUCTION_OF_F_<=_FACTR*EPSMCH'\n",
      "     nfev: 165\n",
      "      nit: 29\n",
      "   status: 0\n",
      "  success: True\n",
      "        x: array([ 0.45751431,  0.72049086,  9.52274856,  0.09199625])\n"
     ]
    }
   ],
   "source": [
    "# Estimation\n",
    "\n",
    "import scipy.optimize as opt\n",
    "\n",
    "# guesses\n",
    "galpha, grho, gmu, gsigma = 0.3, 0.7605, gz.mean(), diffgz.std()\n",
    "params_init = np.array([galpha, grho, gmu, gsigma]) \n",
    "\n",
    "results = opt.minimize(crit3, params_init,\n",
    "                       args = (w, k), method ='L-BFGS-B',\n",
    "                       bounds= ((0, 1), (0, 1),\n",
    "                               (0, None), (0, None)))\n",
    "alpha_3, rho_3, mu_3, sigma_3 = results.x\n",
    "print(results)"
   ]
  },
  {
   "cell_type": "code",
   "execution_count": 58,
   "metadata": {
    "collapsed": false
   },
   "outputs": [
    {
     "data": {
      "text/plain": [
       "array([[  1.45716876e-01,  -5.28724869e-01,  -2.14336327e+00,\n",
       "          3.82582450e-02],\n",
       "       [ -5.28724869e-01,   3.41017995e+00,   8.49493542e+00,\n",
       "         -2.88586802e-01],\n",
       "       [ -2.14336327e+00,   8.49493542e+00,   3.19011562e+01,\n",
       "         -6.36095903e-01],\n",
       "       [  3.82582450e-02,  -2.88586802e-01,  -6.36095903e-01,\n",
       "          2.52159143e-02]])"
      ]
     },
     "execution_count": 58,
     "metadata": {},
     "output_type": "execute_result"
    }
   ],
   "source": [
    "results.hess_inv.todense()"
   ]
  },
  {
   "cell_type": "markdown",
   "metadata": {},
   "source": [
    "### (b)"
   ]
  },
  {
   "cell_type": "code",
   "execution_count": 60,
   "metadata": {
    "collapsed": false
   },
   "outputs": [],
   "source": [
    "# We derive the z in each period that makes\n",
    "# the characterizing equation hold:\n",
    "def zvia4(r, k, alpha):\n",
    "    return np.log(r/((alpha) * (k**(alpha - 1))))\n",
    "    \n",
    "def eq4z_pdf(z, rho, mu, sigma):\n",
    "    pdf_vals = np.empty_like(z)\n",
    "    pdf_vals[0] = sts.norm.pdf(z[0], mu, sigma)\n",
    "    pdf_vals[1:] = sts.norm.pdf(z[1:], rho * z[:-1] + (1 - rho) * mu, sigma)\n",
    "    pdf_vals[pdf_vals == 0] = 1e-20\n",
    "    return pdf_vals\n",
    "    \n",
    "\n",
    "    \n",
    "def log_lik_eq4z(r, k, alpha, rho, mu, sigma):\n",
    "    \n",
    "    pdf_vals = eq4z_pdf(zvia4(r, k, alpha), rho, mu, sigma)\n",
    "    ln_pdf_vals = np.log(pdf_vals)\n",
    "    log_lik_val = ln_pdf_vals.sum()\n",
    "    \n",
    "    return log_lik_val\n",
    "\n",
    "def crit4(params, *args):\n",
    "    alpha, rho, mu, sigma = params\n",
    "    r, k = args\n",
    "    log_lik_val = log_lik_eq3z(r, k, alpha, rho, mu, sigma)\n",
    "    neg_log_lik_val = -log_lik_val\n",
    "    return neg_log_lik_val"
   ]
  },
  {
   "cell_type": "code",
   "execution_count": 61,
   "metadata": {
    "collapsed": false
   },
   "outputs": [
    {
     "data": {
      "text/plain": [
       "count    100.000000\n",
       "mean      12.278946\n",
       "std        0.156162\n",
       "min       12.004833\n",
       "25%       12.164209\n",
       "50%       12.258897\n",
       "75%       12.367839\n",
       "max       12.727862\n",
       "dtype: float64"
      ]
     },
     "execution_count": 61,
     "metadata": {},
     "output_type": "execute_result"
    }
   ],
   "source": [
    "galpha = 0.3\n",
    "\n",
    "gz4 = zvia4(r, k, galpha)\n",
    "gz4.describe()"
   ]
  },
  {
   "cell_type": "code",
   "execution_count": 62,
   "metadata": {
    "collapsed": false
   },
   "outputs": [
    {
     "data": {
      "text/plain": [
       "count    99.000000\n",
       "mean     -0.001842\n",
       "std       0.097916\n",
       "min      -0.282904\n",
       "25%      -0.069374\n",
       "50%      -0.008672\n",
       "75%       0.074106\n",
       "max       0.271477\n",
       "dtype: float64"
      ]
     },
     "execution_count": 62,
     "metadata": {},
     "output_type": "execute_result"
    }
   ],
   "source": [
    "diffgz4 = gz4.shift(1)-gz4\n",
    "diffgz4.describe()"
   ]
  },
  {
   "cell_type": "code",
   "execution_count": 72,
   "metadata": {
    "collapsed": false
   },
   "outputs": [
    {
     "name": "stdout",
     "output_type": "stream",
     "text": [
      "      fun: -96.706908069170694\n",
      " hess_inv: <4x4 LbfgsInvHessProduct with dtype=float64>\n",
      "      jac: array([  1.26192390e-02,   8.52651283e-06,   8.98126018e-04,\n",
      "         4.20641300e-04])\n",
      "  message: b'CONVERGENCE: REL_REDUCTION_OF_F_<=_FACTR*EPSMCH'\n",
      "     nfev: 165\n",
      "      nit: 29\n",
      "   status: 0\n",
      "  success: True\n",
      "        x: array([ 0.45751431,  0.72049086,  9.52274856,  0.09199625])\n"
     ]
    }
   ],
   "source": [
    "# Estimation\n",
    "\n",
    "import scipy.optimize as opt\n",
    "\n",
    "# guesses\n",
    "galpha, grho, gmu, gsigma = 0.3, 0.7605, gz.mean(), diffgz.std()\n",
    "params_init = np.array([galpha, grho, gmu, gsigma]) \n",
    "\n",
    "results = opt.minimize(crit4, params_init,\n",
    "                       args = (w, k), method ='L-BFGS-B',\n",
    "                       bounds= ((0, 1), (0, 1),\n",
    "                               (0, None), (0, None)))\n",
    "alpha_4, rho_4, mu_4, sigma_4 = results.x\n",
    "print(results)"
   ]
  },
  {
   "cell_type": "code",
   "execution_count": 73,
   "metadata": {
    "collapsed": false
   },
   "outputs": [
    {
     "data": {
      "text/plain": [
       "array([[  1.45716876e-01,  -5.28724869e-01,  -2.14336327e+00,\n",
       "          3.82582450e-02],\n",
       "       [ -5.28724869e-01,   3.41017995e+00,   8.49493542e+00,\n",
       "         -2.88586802e-01],\n",
       "       [ -2.14336327e+00,   8.49493542e+00,   3.19011562e+01,\n",
       "         -6.36095903e-01],\n",
       "       [  3.82582450e-02,  -2.88586802e-01,  -6.36095903e-01,\n",
       "          2.52159143e-02]])"
      ]
     },
     "execution_count": 73,
     "metadata": {},
     "output_type": "execute_result"
    }
   ],
   "source": [
    "results.hess_inv.todense()"
   ]
  },
  {
   "cell_type": "markdown",
   "metadata": {},
   "source": [
    "Note here that we used the same initial conditions as before. Using more appropriate ones,..."
   ]
  },
  {
   "cell_type": "code",
   "execution_count": 74,
   "metadata": {
    "collapsed": false
   },
   "outputs": [
    {
     "name": "stdout",
     "output_type": "stream",
     "text": [
      "      fun: -96.706908082520158\n",
      " hess_inv: <4x4 LbfgsInvHessProduct with dtype=float64>\n",
      "      jac: array([-0.00840146, -0.00086118, -0.0005528 , -0.00472085])\n",
      "  message: b'CONVERGENCE: REL_REDUCTION_OF_F_<=_FACTR*EPSMCH'\n",
      "     nfev: 220\n",
      "      nit: 38\n",
      "   status: 0\n",
      "  success: True\n",
      "        x: array([ 0.45753617,  0.72047056,  9.52244144,  0.09199603])\n"
     ]
    }
   ],
   "source": [
    "\n",
    "import scipy.optimize as opt\n",
    "\n",
    "# guesses\n",
    "galpha, grho, gmu, gsigma = 0.3, 0.7605, 12, diffgz4.std()\n",
    "params_init = np.array([galpha, grho, gmu, gsigma]) \n",
    "\n",
    "results = opt.minimize(crit4, params_init,\n",
    "                       args = (w, k), method ='L-BFGS-B',\n",
    "                       bounds= ((0, 1), (0, 1),\n",
    "                               (0, None), (0, None)))\n",
    "alpha_4, rho_4, mu_4, sigma_4 = results.x\n",
    "print(results)\n"
   ]
  },
  {
   "cell_type": "code",
   "execution_count": 75,
   "metadata": {
    "collapsed": false
   },
   "outputs": [
    {
     "data": {
      "text/plain": [
       "array([[  4.37253648e+01,  -1.82742147e+01,  -6.11791607e+02,\n",
       "          1.99729996e+00],\n",
       "       [ -1.82742147e+01,   7.88278477e+00,   2.55743265e+02,\n",
       "         -8.39522932e-01],\n",
       "       [ -6.11791607e+02,   2.55743265e+02,   8.56001134e+03,\n",
       "         -2.79465737e+01],\n",
       "       [  1.99729996e+00,  -8.39522932e-01,  -2.79465737e+01,\n",
       "          9.14299925e-02]])"
      ]
     },
     "execution_count": 75,
     "metadata": {},
     "output_type": "execute_result"
    }
   ],
   "source": [
    "results.hess_inv.todense()"
   ]
  },
  {
   "cell_type": "markdown",
   "metadata": {},
   "source": [
    "... gives us an almost identical estimate for the parameters. We would need to do more testing to assess robustness of this result, but the similarity despite different starting conditions gives us confidence."
   ]
  },
  {
   "cell_type": "markdown",
   "metadata": {},
   "source": [
    "### (c)"
   ]
  },
  {
   "cell_type": "markdown",
   "metadata": {},
   "source": [
    "As hinted, we first use Eq4 to get a cutoff value for z:"
   ]
  },
  {
   "cell_type": "code",
   "execution_count": 77,
   "metadata": {
    "collapsed": false
   },
   "outputs": [
    {
     "data": {
      "text/plain": [
       "9.3697199757214573"
      ]
     },
     "execution_count": 77,
     "metadata": {},
     "output_type": "execute_result"
    }
   ],
   "source": [
    "z_cutoff = zvia4(1,7500000, alpha_3)\n",
    "z_cutoff"
   ]
  },
  {
   "cell_type": "code",
   "execution_count": 79,
   "metadata": {
    "collapsed": false
   },
   "outputs": [
    {
     "data": {
      "text/plain": [
       "0.99999996688916082"
      ]
     },
     "execution_count": 79,
     "metadata": {},
     "output_type": "execute_result"
    }
   ],
   "source": [
    "prob = 1 - sts.norm.cdf(z_cutoff, rho_3*10 + (1 - rho_3) * mu_3, sigma_3)\n",
    "prob"
   ]
  },
  {
   "cell_type": "markdown",
   "metadata": {},
   "source": [
    "We can see that the probability that the interest rate will be greater than one is approximately 1."
   ]
  },
  {
   "cell_type": "code",
   "execution_count": 83,
   "metadata": {
    "collapsed": false
   },
   "outputs": [
    {
     "data": {
      "text/plain": [
       "9.369326171490421"
      ]
     },
     "execution_count": 83,
     "metadata": {},
     "output_type": "execute_result"
    }
   ],
   "source": [
    "z_cutoff = zvia4(1,7500000, alpha_4)\n",
    "z_cutoff"
   ]
  },
  {
   "cell_type": "code",
   "execution_count": 84,
   "metadata": {
    "collapsed": false
   },
   "outputs": [
    {
     "data": {
      "text/plain": [
       "0.99999996748478981"
      ]
     },
     "execution_count": 84,
     "metadata": {},
     "output_type": "execute_result"
    }
   ],
   "source": [
    "\n",
    "prob = 1 - sts.norm.cdf(z_cutoff, rho_4*10 + (1 - rho_4) * mu_4, sigma_4)\n",
    "prob"
   ]
  },
  {
   "cell_type": "markdown",
   "metadata": {},
   "source": [
    "The result also seems fairly robust across the estimates. For more confidence, further testing is necessary."
   ]
  },
  {
   "cell_type": "code",
   "execution_count": null,
   "metadata": {
    "collapsed": true
   },
   "outputs": [],
   "source": []
  },
  {
   "cell_type": "code",
   "execution_count": null,
   "metadata": {
    "collapsed": true
   },
   "outputs": [],
   "source": []
  },
  {
   "cell_type": "code",
   "execution_count": null,
   "metadata": {
    "collapsed": true
   },
   "outputs": [],
   "source": []
  },
  {
   "cell_type": "code",
   "execution_count": null,
   "metadata": {
    "collapsed": true
   },
   "outputs": [],
   "source": []
  }
 ],
 "metadata": {
  "kernelspec": {
   "display_name": "Python 3",
   "language": "python",
   "name": "python3"
  },
  "language_info": {
   "codemirror_mode": {
    "name": "ipython",
    "version": 3
   },
   "file_extension": ".py",
   "mimetype": "text/x-python",
   "name": "python",
   "nbconvert_exporter": "python",
   "pygments_lexer": "ipython3",
   "version": "3.6.0"
  }
 },
 "nbformat": 4,
 "nbformat_minor": 2
}
