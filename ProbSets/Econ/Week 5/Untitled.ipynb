{
 "cells": [
  {
   "cell_type": "code",
   "execution_count": 1,
   "metadata": {
    "collapsed": true
   },
   "outputs": [],
   "source": [
    "\n",
    "import math\n",
    "import numpy as np\n",
    "import scipy.optimize as opt\n",
    "import scipy.stats as sts\n",
    "import pandas as pd \n",
    "from LinApp_Deriv import LinApp_Deriv\n",
    "from LinApp_FindSS import LinApp_FindSS\n",
    "from LinApp_Solve import LinApp_Solve\n",
    "from rouwen import rouwen\n",
    "from numba import jit\n",
    "from matplotlib import pyplot as plt\n",
    "from mpl_toolkits.mplot3d import Axes3D"
   ]
  },
  {
   "cell_type": "code",
   "execution_count": 2,
   "metadata": {
    "collapsed": true
   },
   "outputs": [],
   "source": [
    "# Parameters\n",
    "alpha = 0.35\n",
    "beta = 0.98\n",
    "rho = 0.95\n",
    "sigma = 0.02\n",
    "num = 26\n",
    "sizek = num\n",
    "sizez = num"
   ]
  },
  {
   "cell_type": "code",
   "execution_count": 3,
   "metadata": {
    "collapsed": true
   },
   "outputs": [],
   "source": [
    "# Create discrete grid for k\n",
    "A = alpha*beta\n",
    "kbar = A**(1/(1-alpha))\n",
    "kmax = 1.5*kbar\n",
    "kmin = 0.5*kbar\n",
    "kgrid = np.linspace(kmin,kmax,sizek)\n",
    "\n",
    "# Create grid for z \n",
    "zmax = 5*sigma\n",
    "zmin = -5*sigma\n",
    "mu = (zmax+zmin)/2\n",
    "step = (zmax-zmin)/(sizez-1)\n",
    "pi, zgrid = rouwen(rho,mu,step,sizez)"
   ]
  },
  {
   "cell_type": "code",
   "execution_count": null,
   "metadata": {
    "collapsed": true
   },
   "outputs": [],
   "source": []
  },
  {
   "cell_type": "code",
   "execution_count": null,
   "metadata": {
    "collapsed": true
   },
   "outputs": [],
   "source": []
  },
  {
   "cell_type": "code",
   "execution_count": 6,
   "metadata": {
    "collapsed": false
   },
   "outputs": [],
   "source": [
    "def Modeldyn_BM(theta0, params):\n",
    "    '''\n",
    "    Inputs are:\n",
    "        theta: a vector \n",
    "        params: list of parameter values\n",
    "    \n",
    "    Output are:\n",
    "        Euler: a vector of Euler equations written so that they are zero at the\n",
    "            steady state values of X, Y & Z.  This is a 2x1 numpy array. \n",
    "    '''\n",
    "    \n",
    "    # unpack theta0\n",
    "    (Kpp, Kp, K, Zp, Z) = theta0\n",
    "    \n",
    "    # unpacking parameters\n",
    "    alpha, beta = params\n",
    "    \n",
    "    # Evaluate Euler equations\n",
    "    E1 = (alpha*beta*np.exp(Zp)*(np.exp(Kp)**(alpha-1))*\n",
    "          (np.exp(Z)*(np.exp(K)**alpha)-np.exp(Kp))*\n",
    "          (1/(np.exp(Zp)*(np.exp(Kp)**alpha)-np.exp(Kpp))))\n",
    "    \n",
    "    return np.array([E1])\n"
   ]
  },
  {
   "cell_type": "code",
   "execution_count": 7,
   "metadata": {
    "collapsed": false
   },
   "outputs": [
    {
     "name": "stdout",
     "output_type": "stream",
     "text": [
      "FF:  [[-0.380254]]\n",
      "GG:  [[ 0.468559]]\n",
      "HH:  [[-0.117414]]\n",
      "LL:  [[ 2.569321]]\n",
      "MM:  [[-2.266718]]\n",
      "Using Sylvester equation solver...\n",
      "PP: [[ 0.35]]\n",
      "QQ [[ 6.756849]]\n"
     ]
    }
   ],
   "source": [
    "nx = 1\n",
    "ny = 0\n",
    "nz = 1\n",
    "logX = 1\n",
    "Sylv = 1\n",
    "\n",
    "# set up steady state input vector\n",
    "theta0 = np.array([kbar, kbar, kbar, 0., 0.])\n",
    "params = (alpha, beta)\n",
    "Zbar = np.array([0])\n",
    "\n",
    "# find the derivatives matrices\n",
    "[AA, BB, CC, DD, FF, GG, HH, JJ, KK, LL, MM, WW, TT] = \\\n",
    "    LinApp_Deriv(Modeldyn_BM, params, theta0, nx, ny, nz, logX)\n",
    "np.set_printoptions(suppress=False)\n",
    "np.set_printoptions(precision=6)\n",
    "\n",
    "print('FF: ', FF)\n",
    "print('GG: ', GG)\n",
    "print('HH: ', HH)\n",
    "print('LL: ', LL)\n",
    "print('MM: ', MM)\n",
    "\n",
    "# set value for NN    \n",
    "NN = rho\n",
    "    \n",
    "# find the policy and jump function coefficients\n",
    "PP, QQ, UU, RR, SS, VV = \\\n",
    "    LinApp_Solve(AA,BB,CC,DD,FF,GG,HH,JJ,KK,LL,MM,WW,TT,NN,Zbar,Sylv)\n",
    "print ('PP:',PP)\n",
    "print ('QQ', QQ)"
   ]
  },
  {
   "cell_type": "code",
   "execution_count": null,
   "metadata": {
    "collapsed": true
   },
   "outputs": [],
   "source": []
  },
  {
   "cell_type": "code",
   "execution_count": null,
   "metadata": {
    "collapsed": true
   },
   "outputs": [],
   "source": []
  }
 ],
 "metadata": {
  "kernelspec": {
   "display_name": "Python 3",
   "language": "python",
   "name": "python3"
  },
  "language_info": {
   "codemirror_mode": {
    "name": "ipython",
    "version": 3
   },
   "file_extension": ".py",
   "mimetype": "text/x-python",
   "name": "python",
   "nbconvert_exporter": "python",
   "pygments_lexer": "ipython3",
   "version": "3.6.0"
  }
 },
 "nbformat": 4,
 "nbformat_minor": 2
}
