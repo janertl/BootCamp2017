{
 "cells": [
  {
   "cell_type": "markdown",
   "metadata": {},
   "source": [
    "# DSGE Exercises"
   ]
  },
  {
   "cell_type": "code",
   "execution_count": 4,
   "metadata": {
    "collapsed": true
   },
   "outputs": [],
   "source": [
    "import numpy as np\n",
    "import math\n",
    "import scipy.optimize as opt\n",
    "from matplotlib import pyplot as plt\n",
    "from mpl_toolkits.mplot3d import Axes3D"
   ]
  },
  {
   "cell_type": "markdown",
   "metadata": {},
   "source": [
    "### Exercise 5"
   ]
  },
  {
   "cell_type": "code",
   "execution_count": 29,
   "metadata": {
    "collapsed": true
   },
   "outputs": [],
   "source": [
    "# Set the parameters\n",
    "gamma = 2.5\n",
    "beta = 0.98\n",
    "alpha = 0.40\n",
    "delta = 0.10\n",
    "zbar = 0\n",
    "tau = 0.05"
   ]
  },
  {
   "cell_type": "markdown",
   "metadata": {},
   "source": [
    "### Analytical Solution:"
   ]
  },
  {
   "cell_type": "markdown",
   "metadata": {},
   "source": [
    "We detail in the pdf how the steady state is easy to solve analytically:\n",
    "\n",
    "We can cancel $c$ out of the Euler equation, and immediately solve for $\\bar{r}$:\n",
    "\n",
    "$$\\bar{r} = \\delta + \\frac{1 - \\beta}{\\beta(1 -\\tau)} = \\frac{1 - \\beta + \\delta \\beta(1 -\\tau)}{\\beta(1 -\\tau)} $$\n",
    "We can then use the third equation to solve for $\\bar{k}$:\n",
    "\n",
    "$$\\bar{k} = (\\frac{\\alpha}{\\bar{r}} )^{\\frac{1}{1 - \\alpha}} =(\\frac{\\alpha \\beta(1 -\\tau)}{1 - \\beta + \\delta \\beta(1 -\\tau)} )^{\\frac{1}{1 - \\alpha}} $$\n",
    "\n",
    "and the fourth equation to yield wage:\n",
    "\n",
    "$$\\bar{w} = (1 - \\alpha) \\bar{k}^{\\alpha} = (1 - \\alpha)(\\frac{\\alpha \\beta(1 -\\tau)}{1 - \\beta + \\delta \\beta(1 -\\tau)} )^{\\frac{\\alpha}{1 - \\alpha}} $$\n",
    "\n",
    "Likewise, the remaining variables can be easily computed through substitution:\n",
    "\n",
    "$$ \\bar{c} = \\bar{w} + (\\bar{r} - \\delta) \\bar{k}, \\qquad \n",
    "\\bar{Y} = \\bar{k}^\\alpha, \\qquad \n",
    "\\bar{I} = \\delta \\bar{k} $$"
   ]
  },
  {
   "cell_type": "code",
   "execution_count": 40,
   "metadata": {
    "collapsed": true
   },
   "outputs": [],
   "source": [
    "def analyticeq(gamma, beta, alpha, delta, zbar, tau):\n",
    "    r = delta + (1 - beta)/(beta * (1 -tau))\n",
    "    k = (alpha/r)**(1/(1 - alpha))\n",
    "    w = (1 - alpha) * k**alpha\n",
    "    c = w + (r - delta)*k\n",
    "    Y = k**alpha\n",
    "    I = delta * k\n",
    "    return print('r: ', r, '\\nk: ', k,'\\nw: ', w,\n",
    "                 \n",
    "                 '\\nc: ', c,'\\nY: ', Y,'\\nI: ', I)"
   ]
  },
  {
   "cell_type": "code",
   "execution_count": 41,
   "metadata": {
    "collapsed": false
   },
   "outputs": [
    {
     "name": "stdout",
     "output_type": "stream",
     "text": [
      "r:  0.1214822771213749 \n",
      "k:  7.287497950692987 \n",
      "w:  1.3279527683513055 \n",
      "c:  1.4845048188495438 \n",
      "Y:  2.2132546139188425 \n",
      "I:  0.7287497950692987\n"
     ]
    }
   ],
   "source": [
    "analyticeq(gamma, beta, alpha, delta, zbar, tau)"
   ]
  },
  {
   "cell_type": "markdown",
   "metadata": {},
   "source": [
    "### Numerical Solution:"
   ]
  },
  {
   "cell_type": "markdown",
   "metadata": {},
   "source": [
    "In the steady state, the characterizing equation were:"
   ]
  },
  {
   "cell_type": "markdown",
   "metadata": {},
   "source": [
    "\n",
    "$$\\bar{c} = \\bar{w} + (\\bar{r} - \\delta) \\bar{k}$$\n",
    "$$\\frac{1}{\\bar{c}^\\gamma} = \\beta {\\frac{1}{\\bar{c}^\\gamma} [(\\bar{r} -\\delta)(1 - \\tau) + 1]} $$\n",
    "$$\\bar{r} = \\alpha (\\frac{1}{\\bar{k}})^{1 - \\alpha} $$\n",
    "$$\\bar{w} = (1 - \\alpha) (\\bar{k})^\\alpha$$\n",
    "\n"
   ]
  },
  {
   "cell_type": "code",
   "execution_count": 47,
   "metadata": {
    "collapsed": false
   },
   "outputs": [
    {
     "name": "stdout",
     "output_type": "stream",
     "text": [
      "r:  [ 0.12148228] \n",
      "k:  [ 7.28749795] \n",
      "w:  [ 1.32795277] \n",
      "c:  [ 1.48450482] \n",
      "Y:  [ 2.21325461] \n",
      "I:  [ 0.7287498]\n"
     ]
    }
   ],
   "source": [
    "def chareqs(x, *args):\n",
    "    gamma, beta, alpha, delta, zbar, tau = args\n",
    "    k = x[0]\n",
    "    l = 1\n",
    "    r = alpha*((l*np.exp(zbar)/k)**(1-alpha))\n",
    "    w = (1-alpha)*np.exp(zbar)*((k/np.exp(zbar))**alpha)\n",
    "    c = w*l+(r-delta)*k\n",
    "    diff = 1/(c**gamma)-(beta/(c**gamma))*((1-tau)*(r-delta)+1)\n",
    "    return diff\n",
    "\n",
    "k_0 = 7\n",
    "args = gamma, beta, alpha, delta, zbar, tau\n",
    "k = opt.fsolve(chareqs, k_0, args=args)\n",
    "\n",
    "r = alpha*((np.exp(zbar)/k)**(1-alpha))\n",
    "w = (1 - alpha) * k**alpha\n",
    "c = w + (r - delta)*k\n",
    "Y = k**alpha\n",
    "I = delta*k\n",
    "\n",
    "\n",
    "print('r: ', r, '\\nk: ', k,'\\nw: ', w,\n",
    "      '\\nc: ', c,'\\nY: ', Y,'\\nI: ', I)"
   ]
  },
  {
   "cell_type": "code",
   "execution_count": null,
   "metadata": {
    "collapsed": true
   },
   "outputs": [],
   "source": []
  },
  {
   "cell_type": "markdown",
   "metadata": {
    "collapsed": true
   },
   "source": [
    "### Exercise 6"
   ]
  },
  {
   "cell_type": "markdown",
   "metadata": {},
   "source": [
    "### Numerical Solution:"
   ]
  },
  {
   "cell_type": "markdown",
   "metadata": {},
   "source": [
    "Steady state characteristic equations:\n",
    "\n",
    "$$\\bar{c} = \\bar{w} + (\\bar{r}\\bar{\\ell} - \\delta) \\bar{k}$$\n",
    "$$\\frac{1}{\\bar{c}^\\gamma} = \\beta {\\frac{1}{\\bar{c}^\\gamma} [(\\bar{r} -\\delta)(1 - \\tau) + 1]} $$\n",
    "$$ \\frac{a}{(1 - \\bar{\\ell})^\\xi} = \\frac{1}{\\bar{c}^\\gamma} \\bar{w} (1 - \\tau) $$\n",
    "$$\\bar{r} = \\alpha e^{\\bar{z}} (\\frac{\\bar{\\ell}e^{\\bar{z}}}{\\bar{k}})^{1 - \\alpha} $$\n",
    "$$\\bar{w} = (1 - \\alpha) (\\frac{\\bar{k}}{\\bar{\\ell}e^{\\bar{z}}})^\\alpha$$\n",
    "\n",
    "\n"
   ]
  },
  {
   "cell_type": "code",
   "execution_count": 49,
   "metadata": {
    "collapsed": true
   },
   "outputs": [],
   "source": [
    "a = 0.5\n",
    "xi = 1.5"
   ]
  },
  {
   "cell_type": "code",
   "execution_count": 81,
   "metadata": {
    "collapsed": false
   },
   "outputs": [
    {
     "name": "stdout",
     "output_type": "stream",
     "text": [
      "r:  0.121482277122 \n",
      "k:  4.22522902672 \n",
      "l:  0.579791453166 \n",
      "W:  1.06780353003 \n",
      "c:  1.15857107089 \n",
      "Y:  1.77967255006 \n",
      "I:  0.422522902672\n"
     ]
    }
   ],
   "source": [
    "def chareqs2(x, *args):\n",
    "    gamma, beta, alpha, delta, zbar, tau, a, xi = args\n",
    "    k = x[0]\n",
    "    l = x[1]\n",
    "    r = alpha*((l*np.exp(zbar)/k)**(1-alpha))\n",
    "    w = (1-alpha)*np.exp(zbar)*((k/(l*np.exp(zbar)))**alpha)\n",
    "    c = w*l+(r-delta)*k\n",
    "    diff = np.zeros(2)\n",
    "    diff[0] = (c**(-gamma))-beta*(c**(-gamma))*((1-tau)*(r-delta)+1)\n",
    "    diff[1] = w*(1-tau)*(c**(-gamma))-a*((1-l)**(-xi))\n",
    "    return diff\n",
    "\n",
    "\n",
    "x_0 = np.array([7,1])\n",
    "x_0 = np.array([6,0.9])\n",
    "args = gamma, beta, alpha, delta, zbar, tau, a, xi \n",
    "x = opt.fsolve(chareqs2, x_0, args=args)\n",
    "\n",
    "k = x[0]\n",
    "l = x[1]\n",
    "r = alpha*((l*np.exp(zbar)/k)**(1-alpha))\n",
    "w = (1 - alpha) * k**alpha\n",
    "c = w + (r - delta)*k\n",
    "Y = k**alpha\n",
    "I = delta*k\n",
    "\n",
    "\n",
    "print('r: ', r, '\\nk: ', k,\n",
    "      '\\nl: ', l, '\\nW: ', w,\n",
    "      '\\nc: ', c,'\\nY: ', Y,\n",
    "      '\\nI: ', I)"
   ]
  },
  {
   "cell_type": "code",
   "execution_count": null,
   "metadata": {
    "collapsed": false
   },
   "outputs": [],
   "source": []
  },
  {
   "cell_type": "code",
   "execution_count": null,
   "metadata": {
    "collapsed": true
   },
   "outputs": [],
   "source": []
  }
 ],
 "metadata": {
  "kernelspec": {
   "display_name": "Python 3",
   "language": "python",
   "name": "python3"
  },
  "language_info": {
   "codemirror_mode": {
    "name": "ipython",
    "version": 3
   },
   "file_extension": ".py",
   "mimetype": "text/x-python",
   "name": "python",
   "nbconvert_exporter": "python",
   "pygments_lexer": "ipython3",
   "version": "3.6.0"
  }
 },
 "nbformat": 4,
 "nbformat_minor": 2
}
