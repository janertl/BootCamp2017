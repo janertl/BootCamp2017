{
 "cells": [
  {
   "cell_type": "markdown",
   "metadata": {},
   "source": [
    "# Math Problem Set 4, Exercise 6.14\n"
   ]
  },
  {
   "cell_type": "markdown",
   "metadata": {},
   "source": [
    "I accidentally did the wrong exercise (6.15). Here are both."
   ]
  },
  {
   "cell_type": "code",
   "execution_count": 96,
   "metadata": {
    "collapsed": false
   },
   "outputs": [],
   "source": [
    "import numpy as np\n",
    "\n",
    "def findMinimizer(x_0, fp, eps = 1e-5, x_1 =None, fpp = None, method = 'Newton'):\n",
    "    dist = 1\n",
    "    k = 1\n",
    "    maxiter = 50/eps\n",
    "    \n",
    "    if method == 'Newton':\n",
    "        while dist > eps and k < maxiter:\n",
    "            x = x_0 - fp(x_0)/fpp(x_0)\n",
    "            #print((x_0, fp(x_0), fpp(x_0), fp(x_0)/fpp(x_0)))\n",
    "            dist = abs(x - x_0)/abs(x_0)\n",
    "            x_0 = x\n",
    "            k += 1\n",
    "        #print(x)    \n",
    "    if method == 'Secant':\n",
    "        while dist > eps and k < maxiter:\n",
    "            \n",
    "            x_2 = x_1 - fp(x_1) * (x_1 - x_0)/(fp(x_1) - fp(x_0))\n",
    "            dist = abs(x_2 - x_1)/abs(x_1)\n",
    "            x_0 = x_1\n",
    "            x_1 = x_2\n",
    "            k += 1\n",
    "        x = x_2\n",
    "        \n",
    "    if k < maxiter:\n",
    "        print(\"The \"+ str(method) + \" method led to convergence.\")\n",
    "        return x\n",
    "    else:\n",
    "        print('Convergence failed.')\n",
    "    "
   ]
  },
  {
   "cell_type": "code",
   "execution_count": 97,
   "metadata": {
    "collapsed": false
   },
   "outputs": [],
   "source": [
    "# there is a unique minimum at x = 1. The function is convex in the region x>0, so it should converge there\n",
    "\n",
    "def f(x):\n",
    "    return (x - 2 )* np.exp(x)\n",
    "\n",
    "def fp(x):\n",
    "    return (x - 1)*np.exp(x)\n",
    "\n",
    "x = np.linspace(-5, 2.5, 100)\n",
    "\n",
    "def fpp(x):\n",
    "    return x*np.exp(x)\n"
   ]
  },
  {
   "cell_type": "code",
   "execution_count": 98,
   "metadata": {
    "collapsed": false
   },
   "outputs": [
    {
     "data": {
      "image/png": "[encoded data removed]",
      "text/plain": [
       "<matplotlib.figure.Figure at 0x11759ed68>"
      ]
     },
     "metadata": {},
     "output_type": "display_data"
    }
   ],
   "source": [
    "from matplotlib import pyplot as plt\n",
    "plt.plot(x, f(x), label = 'f')\n",
    "plt.plot(x, fp(x), label = 'fp')\n",
    "plt.plot(x, fpp(x), label = 'fpp')\n",
    "\n",
    "plt.ylim(-3,3)\n",
    "plt.grid()\n",
    "plt.show()"
   ]
  },
  {
   "cell_type": "code",
   "execution_count": 99,
   "metadata": {
    "collapsed": false
   },
   "outputs": [
    {
     "name": "stdout",
     "output_type": "stream",
     "text": [
      "The Newton method led to convergence.\n"
     ]
    },
    {
     "data": {
      "text/plain": [
       "1.0000000000000169"
      ]
     },
     "execution_count": 99,
     "metadata": {},
     "output_type": "execute_result"
    }
   ],
   "source": [
    "# findMinimizer(x_0, fp, eps = 1e-5, x_1 =None, fpp = None, method = 'Newton')\n",
    "findMinimizer( 0.1 , fp = fp, eps = 1e-5, fpp = fpp, method = 'Newton')\n",
    "\n"
   ]
  },
  {
   "cell_type": "code",
   "execution_count": 100,
   "metadata": {
    "collapsed": false
   },
   "outputs": [
    {
     "name": "stdout",
     "output_type": "stream",
     "text": [
      "The Secant method led to convergence.\n"
     ]
    },
    {
     "data": {
      "text/plain": [
       "1.0000000000310356"
      ]
     },
     "execution_count": 100,
     "metadata": {},
     "output_type": "execute_result"
    }
   ],
   "source": [
    "# findMinimizer(x_0, fp, eps = 1e-5, x_1 =None, fpp = None, method = 'Newton')\n",
    "findMinimizer( 0.1 , fp, eps = 1e-5,  x_1 = 10, fpp = fpp, method = 'Secant')"
   ]
  },
  {
   "cell_type": "code",
   "execution_count": null,
   "metadata": {
    "collapsed": true
   },
   "outputs": [],
   "source": []
  }
 ],
 "metadata": {
  "kernelspec": {
   "display_name": "Python 3",
   "language": "python",
   "name": "python3"
  },
  "language_info": {
   "codemirror_mode": {
    "name": "ipython",
    "version": 3
   },
   "file_extension": ".py",
   "mimetype": "text/x-python",
   "name": "python",
   "nbconvert_exporter": "python",
   "pygments_lexer": "ipython3",
   "version": "3.6.0"
  }
 },
 "nbformat": 4,
 "nbformat_minor": 2
}
