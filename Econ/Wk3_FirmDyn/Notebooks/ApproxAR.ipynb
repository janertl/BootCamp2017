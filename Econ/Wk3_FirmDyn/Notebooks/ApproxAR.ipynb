{
 "cells": [
  {
   "cell_type": "markdown",
   "metadata": {},
   "source": [
    "# Approximating Autoregressive Processes\n",
    "### by [Jason DeBacker](http://jasondebacker.com), July 2017\n",
    "This Jupyter notebook was written using Python 3.6. To execute all the code here, one will need a the Python script `ar1_approx.py` to be located in a directory with the relative path `..\\Code\\`.\n",
    "\n",
    "Consider the AR(1) process given by:\n",
    "\n",
    "$$ ln(z_{t+1}) = \\rho ln(z_{t}) + (1-\\rho)\\mu + \\varepsilon_{t}, $$\n",
    "\n",
    "where $\\varepsilon_{t}\\sim N(0,\\sigma_{\\varepsilon})$.  \n",
    "\n",
    "With such a process, $z$ can take on any value on the real line.  The distribution of $z$ looks like:"
   ]
  },
  {
   "cell_type": "code",
<<<<<<< HEAD
   "execution_count": 41,
=======
   "execution_count": 2,
>>>>>>> upstream/master
   "metadata": {
    "collapsed": false
   },
   "outputs": [
    {
<<<<<<< HEAD
     "name": "stderr",
     "output_type": "stream",
     "text": [
      "/Users/Jan/anaconda/lib/python3.6/site-packages/statsmodels/nonparametric/kdetools.py:20: VisibleDeprecationWarning: using a non-integer number instead of an integer will result in an error in the future\n",
      "  y = X[:m/2+1] + np.r_[0,X[m/2+1:],0]*1j\n"
     ]
    },
    {
     "data": {
      "text/plain": [
       "<matplotlib.axes._subplots.AxesSubplot at 0x118a51eb8>"
      ]
     },
     "execution_count": 41,
=======
     "data": {
      "text/plain": [
       "<matplotlib.axes._subplots.AxesSubplot at 0x1161241d0>"
      ]
     },
     "execution_count": 2,
>>>>>>> upstream/master
     "metadata": {},
     "output_type": "execute_result"
    },
    {
     "data": {
<<<<<<< HEAD
      "image/png": "iVBORw0KGgoAAAANSUhEUgAAAXIAAAD3CAYAAAAALt/WAAAABHNCSVQICAgIfAhkiAAAAAlwSFlz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\nAElFTkSuQmCC\n",
      "text/plain": [
       "<matplotlib.figure.Figure at 0x1189abf98>"
=======
      "image/png": "iVBORw0KGgoAAAANSUhEUgAAAXIAAAD3CAYAAAAALt/WAAAABHNCSVQICAgIfAhkiAAAAAlwSFlz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\n0gAAAABJRU5ErkJggg==\n",
      "text/plain": [
       "<matplotlib.figure.Figure at 0x10e86e400>"
>>>>>>> upstream/master
      ]
     },
     "metadata": {},
     "output_type": "display_data"
    }
   ],
   "source": [
    "# import packages\n",
    "import matplotlib.pyplot as plt\n",
    "import seaborn as sns\n",
    "import numpy as np\n",
    "\n",
    "# to print plots inline\n",
    "%matplotlib inline\n",
    "\n",
    "# set our parameters\n",
    "rho = 0.8\n",
    "mu = 0.0\n",
    "sigma_eps = 0.2\n",
    "\n",
    "# draw our shocks\n",
    "num_draws = 100000 # number of shocks to draw\n",
    "eps = np.random.normal(0.0, sigma_eps, size=(num_draws))\n",
    "\n",
    "# Compute z\n",
    "z = np.empty(num_draws)\n",
    "z[0] = 0.0 + eps[0]\n",
    "for i in range(1, num_draws):\n",
    "    z[i] = rho * z[i - 1] + (1 - rho) * mu + eps[i]\n",
    "    \n",
    "\n",
    "# plot distribution of z\n",
    "# sns.distplot(z, hist=False)\n",
    "sns.kdeplot(np.array(z), bw=0.5)"
   ]
  },
  {
   "cell_type": "markdown",
   "metadata": {},
   "source": [
    "The distribution of $z$ should have variance = $\\sigma_{z}^{2} = \\frac{\\sigma_{\\epsilon}^{2}}{(1-\\rho)}$.  Let's check: "
   ]
  },
  {
   "cell_type": "code",
<<<<<<< HEAD
   "execution_count": 42,
=======
   "execution_count": 3,
>>>>>>> upstream/master
   "metadata": {
    "collapsed": false
   },
   "outputs": [
    {
     "name": "stdout",
     "output_type": "stream",
     "text": [
      "Theoretical sigma_z =  0.3333333333333334\n",
<<<<<<< HEAD
      "Simulated sigma_z =  0.329798887117\n"
=======
      "Simulated sigma_z =  0.332545794167\n"
>>>>>>> upstream/master
     ]
    }
   ],
   "source": [
    "# theory says:\n",
    "sigma_z = sigma_eps / ((1 - rho ** 2) ** (1 / 2))\n",
    "print('Theoretical sigma_z = ', sigma_z)\n",
    "\n",
    "# from our simulation:\n",
    "sigma_z_simul = z.std()\n",
    "print('Simulated sigma_z = ', sigma_z_simul)"
   ]
  },
  {
   "cell_type": "markdown",
   "metadata": {},
   "source": [
    "Pretty close.  And it will get closer as you increae `N`.  \n",
    "\n",
    "For the computational solution to our dynamic programming problem, we'll want to approximate this continuous distribution with something over a finite grid.  There are a number of methods to do this (see Adda and Cooper (2003, pp. 56-59), Tauchen and Hussey (1991), and Rouwenhorst (1995) for some approaches).  What all of these approaches have in common is that they approximate the autoregressive process with a Markov process (technically a Markov chain, since it's over a finite grid). Generally, the approach is to divide the real line over which $z$ is defined into a finite set of intervals.  These approaches then compute the probabilities of transitioning between one interval and another to match the autoregressive processs.\n",
    "\n",
    "## 1. Adda-Cooper (2003) method\n",
    "\n",
    "Let us illustrate the general approach of these approximation methods through the Adda and Cooper (2003, pp. 56-59) (henceforth AC) method.  \n",
    "\n",
    "AC start by dividing the real line into intervals.  In particular, they divide the real line into intervals such that $z_{t}$ has an equal probability of falling into any of the intervals.  Since $\\varepsilon$ is distributed normally, the cut-off points given by $\\left\\{z^{i}\\right\\}_{i=0}^{N}$ for these intervals are defined by:\n",
    "\n",
    "$$ \\Phi\\left(\\frac{z^{i+1}-\\mu}{\\sigma_{z}}\\right) - \\Phi\\left(\\frac{z^{i}-\\mu}{\\sigma_{z}}\\right) = \\frac{1}{N}, $$\n",
    "\n",
    "where $N$ are the number of grid points in our discretized grid space and $\\Phi(\\cdot)$ is the cumulative density function of the standard normal distribution.  Solving this recursively we find that each cut-off point is given by:\n",
    "\n",
    "$$ z^{i} = \\sigma_{z} \\Phi^{-1}\\left(\\frac{i-1}{N}\\right) + \\mu $$ "
   ]
  },
  {
   "cell_type": "code",
<<<<<<< HEAD
   "execution_count": 43,
=======
   "execution_count": 4,
>>>>>>> upstream/master
   "metadata": {
    "collapsed": false
   },
   "outputs": [
    {
     "name": "stdout",
     "output_type": "stream",
     "text": [
      "Cut-off values =  [       -inf -0.28054041 -0.08444903  0.08444903  0.28054041         inf]\n"
     ]
    }
   ],
   "source": [
    "# import packages\n",
    "from scipy.stats import norm\n",
    "\n",
    "# Compute cut-off values\n",
    "N = 5  # number of grid points (will have one more cut-off point than this)\n",
    "z_cutoffs = (sigma_z * norm.ppf(np.arange(N + 1) / N)) + mu\n",
    "print('Cut-off values = ', z_cutoffs)"
   ]
  },
  {
   "cell_type": "markdown",
   "metadata": {},
   "source": [
    "Now that we've defined the intervals through these cut-off values, we'll next want to compute the average value of $z$ in each of these intervals.  These values will be our grid points.  Let $z_{p}^{i}$ be grid point $i$ and define $z_{p}^{i}$ as the mean value of $z_{t}$ conditional on $z_{t}\\in\\left[z^{i},z^{i+1}\\right]$.  That is:\n",
    "\n",
    "$$ z_{p}^{i} = E\\left(z_{t}|z_{t}\\in \\left[z^{i},z^{i+1}\\right] \\right) = \\sigma_{z} \\frac{\\phi((z^{i}-\\mu)/\\sigma_z) - \\phi((z^{i+1}-\\mu)/\\sigma_z)}{\\Phi((z^{i+1}-\\mu)/\\sigma_z) - \\Phi((z^{i}-\\mu)/\\sigma_z)} + \\mu $$\n",
    "\n",
    "Simplifying:\n",
    "\n",
    "$$ z_{p}^{i} = N \\sigma_z \\left(\\phi\\left(\\frac{z^{i}-\\mu}{\\sigma_z}\\right) - \\phi\\left(\\frac{z^{i+1}-\\mu}{\\sigma_z}\\right) \\right) + \\mu $$"
   ]
  },
  {
   "cell_type": "code",
<<<<<<< HEAD
   "execution_count": 44,
=======
   "execution_count": 5,
>>>>>>> upstream/master
   "metadata": {
    "collapsed": false
   },
   "outputs": [
    {
     "name": "stdout",
     "output_type": "stream",
     "text": [
      "Grid points =  [-0.4666032  -0.17730102  0.          0.17730102  0.4666032 ]\n"
     ]
    }
   ],
   "source": [
    "# compute grid points for z\n",
    "z_grid = ((N * sigma_z * (norm.pdf((z_cutoffs[:-1] - mu) / sigma_z)\n",
    "                              - norm.pdf((z_cutoffs[1:] - mu) / sigma_z)))\n",
    "              + mu)\n",
    "print('Grid points = ', z_grid)"
   ]
  },
  {
   "cell_type": "markdown",
   "metadata": {},
   "source": [
    "Now we have our grid points.  Next, we need to determine the transitions between these grid points.  We want these transition probabilities to be such they they match the autocorrelation in the AR(1) process we are modeling using a first over Markov process.\n",
    "\n",
    "Define the probability of transitioning between grid point i and grid point j as: \n",
    "\n",
    "$$ \\pi_{i,j} = P\\left( z_{t} \\in \\left[z^{j},z^{j+1} \\right] | z_{t-1} \\in \\left[z^{i},z^{i+1} \\right] \\right) $$\n",
    "\n",
    "Using the fact that $\\varepsilon \\sim N(0,\\sigma_{\\varepsilon})$, we have:\n",
    "\n",
    "$$ \\pi_{i,j} = \\frac{N}{\\sqrt{2\\pi\\sigma_{z}^{2}}} \\int_{z^{i}}^{z^{i+1}} e^{-(\\varepsilon - \\mu)^{2}/(2\\sigma_{z}^{2})} \\left[ \\Phi\\left(\\frac{z^{j+1} - \\mu(1-\\rho) - \\rho\\mu}{\\sigma_{\\varepsilon}}\\right) - \\Phi\\left(\\frac{z^{j} - \\mu(1-\\rho) - \\rho\\mu}{\\sigma_{\\varepsilon}}\\right) \\right] d\\varepsilon $$\n",
    "\n",
    "To find each $\\pi_{i,j}$, we ned to evaluate this integral.  We'll do so numerically."
   ]
  },
  {
   "cell_type": "code",
<<<<<<< HEAD
   "execution_count": 45,
=======
   "execution_count": 6,
>>>>>>> upstream/master
   "metadata": {
    "collapsed": false
   },
   "outputs": [],
   "source": [
    "# import packages\n",
    "import scipy.integrate as integrate\n",
    "\n",
    "# define function that we will integrate\n",
    "def integrand(x, sigma_z, sigma_eps, rho, mu, z_j, z_jp1):\n",
    "    val = (np.exp((-1 * ((x - mu) ** 2)) / (2 * (sigma_z ** 2)))\n",
    "            * (norm.cdf((z_jp1 - (mu * (1 - rho)) - (rho * x)) / sigma_eps)\n",
    "               - norm.cdf((z_j - (mu * (1 - rho)) - (rho * x)) / sigma_eps)))\n",
    "    \n",
    "    return val\n",
    "\n",
    "# compute transition probabilities\n",
    "pi = np.empty((N, N))\n",
    "for i in range(N):\n",
    "    for j in range(N):\n",
    "        results = integrate.quad(integrand, z_cutoffs[i], z_cutoffs[i + 1],\n",
    "                                 args = (sigma_z, sigma_eps, rho, mu,\n",
    "                                         z_cutoffs[j], z_cutoffs[j + 1]))\n",
    "        pi[i,j] = (N / np.sqrt(2 * np.pi * sigma_z ** 2)) * results[0]\n",
    "        \n",
    "# print('Transition matrix = ', pi)\n",
    "# print('pi sums = ', pi.sum(axis=0), pi.sum(axis=1))"
   ]
  },
  {
   "cell_type": "markdown",
   "metadata": {},
   "source": [
    "We've now found \n",
    "\n",
    "$$ \\pi_{i,j} = P(z_{t}=z_{p}^{j}|z_{t-1}=z_{p}^{i}) $$\n",
    "\n",
    "Let's see how well this Markov process approximates the AR(1) above..."
   ]
  },
  {
   "cell_type": "code",
<<<<<<< HEAD
   "execution_count": 46,
=======
   "execution_count": 7,
>>>>>>> upstream/master
   "metadata": {
    "collapsed": false
   },
   "outputs": [
    {
<<<<<<< HEAD
     "name": "stderr",
     "output_type": "stream",
     "text": [
      "/Users/Jan/anaconda/lib/python3.6/site-packages/statsmodels/nonparametric/kdetools.py:20: VisibleDeprecationWarning: using a non-integer number instead of an integer will result in an error in the future\n",
      "  y = X[:m/2+1] + np.r_[0,X[m/2+1:],0]*1j\n"
     ]
    },
    {
     "data": {
      "text/plain": [
       "<matplotlib.axes._subplots.AxesSubplot at 0x117fcf240>"
      ]
     },
     "execution_count": 46,
=======
     "data": {
      "text/plain": [
       "<matplotlib.axes._subplots.AxesSubplot at 0x11670b0b8>"
      ]
     },
     "execution_count": 7,
>>>>>>> upstream/master
     "metadata": {},
     "output_type": "execute_result"
    },
    {
     "data": {
<<<<<<< HEAD
      "image/png": "iVBORw0KGgoAAAANSUhEUgAAAW8AAAD3CAYAAADSftWOAAAABHNCSVQICAgIfAhkiAAAAAlwSFlz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\n",
      "text/plain": [
       "<matplotlib.figure.Figure at 0x11883ef60>"
=======
      "image/png": "iVBORw0KGgoAAAANSUhEUgAAAW8AAAD3CAYAAADSftWOAAAABHNCSVQICAgIfAhkiAAAAAlwSFlz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\n",
      "text/plain": [
       "<matplotlib.figure.Figure at 0x10886be10>"
>>>>>>> upstream/master
      ]
     },
     "metadata": {},
     "output_type": "display_data"
    }
   ],
   "source": [
    "# Simulate the Markov process - will make this a function so can call later\n",
    "def sim_markov(z_grid, pi, num_draws):\n",
    "    # draw some random numbers on [0, 1]\n",
    "    u = np.random.uniform(size=num_draws)\n",
    "\n",
    "    # Do simulations\n",
    "    z_discrete = np.empty(num_draws)  # this will be a vector of values \n",
    "    # we land on in the discretized grid for z\n",
    "    N = z_grid.shape[0]\n",
    "    oldind = int(np.ceil((N - 1) / 2)) # set initial value to median of grid\n",
    "    z_discrete[0] = z_grid[oldind]  \n",
    "    for i in range(1, num_draws):\n",
    "        sum_p = 0\n",
    "        ind = 0\n",
    "        while sum_p < u[i]:\n",
    "            sum_p = sum_p + pi[ind, oldind]\n",
    "#             print('inds =  ', ind, oldind)\n",
    "            ind += 1\n",
    "        if ind > 0:\n",
    "            ind -= 1\n",
    "        z_discrete[i] = z_grid[ind]\n",
    "        oldind = ind\n",
    "                            \n",
    "    return z_discrete\n",
    "\n",
    "\n",
    "# Call simulation function to get simulated values\n",
    "z_discrete = sim_markov(z_grid, np.transpose(pi), num_draws)\n",
    "                            \n",
    "                            \n",
    "# Plot AR(1) and Markov approximation\n",
    "sns.distplot(z_discrete, hist=True, kde=False, norm_hist=True)\n",
    "#plt.ylim(0,1)\n",
    "sns.kdeplot(np.array(z), bw=0.5)"
   ]
  },
  {
   "cell_type": "markdown",
   "metadata": {},
   "source": [
    " ## 2.  Comparing methods\n",
    "    \n",
    "Working through the Adda-Cooper method was illustrative of how these approximations work.  Now let's compare across a few methods.  "
   ]
  },
  {
   "cell_type": "code",
<<<<<<< HEAD
   "execution_count": 47,
=======
   "execution_count": 8,
>>>>>>> upstream/master
   "metadata": {
    "collapsed": false
   },
   "outputs": [
    {
<<<<<<< HEAD
     "name": "stderr",
     "output_type": "stream",
     "text": [
      "/Users/Jan/anaconda/lib/python3.6/site-packages/statsmodels/nonparametric/kdetools.py:20: VisibleDeprecationWarning: using a non-integer number instead of an integer will result in an error in the future\n",
      "  y = X[:m/2+1] + np.r_[0,X[m/2+1:],0]*1j\n"
     ]
    },
    {
     "data": {
      "text/plain": [
       "<matplotlib.axes._subplots.AxesSubplot at 0x118d51a20>"
      ]
     },
     "execution_count": 47,
=======
     "data": {
      "text/plain": [
       "<matplotlib.axes._subplots.AxesSubplot at 0x11664d208>"
      ]
     },
     "execution_count": 8,
>>>>>>> upstream/master
     "metadata": {},
     "output_type": "execute_result"
    },
    {
     "data": {
<<<<<<< HEAD
      "image/png": "iVBORw0KGgoAAAANSUhEUgAAAWkAAAD3CAYAAADfYKXJAAAABHNCSVQICAgIfAhkiAAAAAlwSFlz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\nAAAAAElFTkSuQmCC\n",
      "text/plain": [
       "<matplotlib.figure.Figure at 0x118cf44e0>"
=======
      "image/png": "iVBORw0KGgoAAAANSUhEUgAAAWkAAAD3CAYAAADfYKXJAAAABHNCSVQICAgIfAhkiAAAAAlwSFlz\nAAALEgAACxIB0t1+/AAAFW1JREFUeJzt3XmQlPd95/F3z/TcMzADNPct4IcOJCTrIrqQZXRYlr3y\nOqnEscqys0l5q1IVJ7Vlr7127T9JpbZ2U7upclxxxZbtJKts4sh2YiuSkSWhw0KKQEYSSPwAcQiG\naxgGMcMwMEfvHzODQAKmB6anfzO8X1VN99P9HN8v3fOZZ57u59eZfD6PJClNZaUuQJJ0boa0JCXM\nkJakhBnSkpQwQ1qSEpYd6RW2tLSf8+MiTU21tLV1jvQmS2Y89WMvabKXNBWjl1yuIXO2+0d1Tzqb\nLR/NzRXdeOrHXtJkL2kazV483CFJCTOkJSlhhrQkJcyQlqSEGdKSlDBDWpISZkhLUsIMaUlKmCEt\nSQkzpDXuPLl2J2s2NJe6DGlEFDR2RwjhNeDowOSOGOMXileSJGnQkCEdQqgGMjHGlcUvR5J0ukL2\npK8BakMIqwfm/3qM8eXiliVJAsgM9UW0IYRlwM3Ad4HFwBNAiDH2nG3+np7e/Hga7Upjz5NrdwJw\n74r5pSxDGq6zDlVayJ70FmBbjDEPbAkhtAIzgN1nm/l8Y6zmcg20tLQXsMmxYTz1M556AWjv6BoX\n/Yyn58Vehl7n2RTy6Y4vAn8BEEKYCUwA9o1YZZKkcypkT/p7wA9CCC8CeeCL5zrUIUkaWUOGdIzx\nJPDZUahFkvQBnswiSQkzpCUpYYa0JCXMkJakhBnSkpQwQ1qSEmZIS1LCDGlJSpghLUkJM6QlKWGG\ntCQlzJCWpIQZ0pKUMENakhJmSEtSwgxpSUqYIS1JCTOkJSlhhrQkJcyQlqSEGdKSlDBDWpISZkhL\nUsIMaUlKmCGtS96aDc2s2dBc6jKkszKkJSlhhrQkJSxb6gKk8zn9MMTK5bNKWIlUGu5JS1LCDGlJ\nSpghLUkJM6QlKWGGtCQlrKBPd4QQpgLrgVUxxs3FLUmSNGjIPekQQgXwHeB48cuRJJ2ukD3p/wX8\nNfC1QlbY1FRLNlt+zsdzuYbCKhsjxlM/KfbSUF996nbB9W1rpaG+uuD5B7eRYv+Qbl0Xwl6G77wh\nHUJ4GGiJMf4ihFBQSLe1dZ7zsVyugZaW9mEVmLLx1E+qvbR3dJ26PZz62ju6Cp5/cBsp9p/q83Ih\n7GXodZ7NUIc7vgisCiGsAZYDfxtCmD6ilUmSzum8e9IxxtsHbw8E9ZdijPuLXZQkqZ8fwZOkhBU8\nwFKMcWUR65AknYV70pKUMENakhJmSEtSwgxpSUqYIS1JCTOkJSlhhrQkJcyQlqSEGdKSlDBDWpIS\nZkhLUsIMaUlKmCEtSQkzpCUpYYa0JCXMkJakhBnSkpQwQ1qSEmZIS1LCDGlJSpghLUkJM6QlKWGG\ntCQlzJCWpIQZ0pKUMENakhJmSEtSwgxpSUqYIS1JCTOkJSlhhrQkJcyQlqSEZYeaIYRQDvwNEIA8\n8KUY48ZiFyZJKmxP+gGAGOMtwDeAPytqRZKkU4YM6RjjT4E/GJicBxwpakWSpFOGPNwBEGPsCSH8\nEHgQ+Mz55m1qqiWbLT/n47lcw7AKTN146ifFXhrqq0/dLri+ba001FcXPP/gNlLsH9Kt60LYy/AV\nFNIAMcbPhxC+CrwSQrgixnjsbPO1tXWecx25XAMtLe3DrzJR46mfVHtp7+g6dXs49bV3dBU8/+A2\nUuw/1eflQtjL0Os8myEPd4QQHgohfG1gshPoG7hIkoqskD3pHwPfDyE8D1QAX44xHi9uWZIkKCCk\nBw5r/NYo1CJJ+gBPZpGkhBnSkpQwQ1qSEmZIS1LCDGlJSpghLUkJM6QlKWGGtCQlzJCWpIQZ0pKU\nMENakhJmSEtSwgxpSUqYIS1JCTOkJSlhhrQkJcyQlqSEGdKSlLCCvy1cUr81G5pP3V65fFYJK9Gl\nwD1pSUqYIa1RtWZD8xl7opLOz5CWpIQZ0pKUMENakhJmSEtSwgxpSUqYIS1JCTOkJSlhhrQkJcyQ\nlqSEGdKSlDBDWpISZkhLUsLOO1RpCKECeASYD1QBfxpj/NdRqEuSxNB70p8DWmOMtwH3At8qfkmS\npEFDDfr/I+CfB25ngJ7iliNJOt15QzrG2AEQQmigP6y/MdQKm5pqyWbLz/l4LtcwzBLTNp76GY1e\nGuqrh7WtwfmHswzbWmmorx72Nopa00XwNZam0eplyK/PCiHMAX4CfDvG+OhQ87e1dZ7zsVyugZaW\n9mEVmLLx1M9o9dLe0QVQ8LYG5x/OMoPLDXcbxa7pQvgaS1MxejlX6A/1xuE0YDXwhzHGp0e0IknS\nkIbak/460AR8M4TwzYH77osxHi9uWZIkGPqY9B8BfzRKtUiSPsCTWSQpYYa0JCXMkJakhBnSkpQw\nQ1qSEmZIS1LCDGlJSpghLUkJM6QlKWGGtCQlzJCWpIQZ0pKUMENakhJmSEtSwgxpSUqYIS1JCTOk\nJSlhhrQkJcyQlqSEGdKSlDBDWpISZkhLUsIMaUlKmCEtSQkzpCUpYYa0JCXMkJakhBnSkpQwQ1qS\nEmZIS1LCDGlJSpghLUkJM6QlKWEFhXQI4aYQwpoi1yJJ+oDsUDOEEL4CPAQcK345kqTTDRnSwDvA\np4G/K2SFTU21ZLPl53w8l2sorLIxYjz1Mxq9NNRXD2tbg/MPZxm2tdJQXz3sbRS1povgayxNo9XL\nkCEdY3wshDC/0BW2tXWe87FcroGWlvZCV5W88dTPaPXS3tEFUPC2BucfzjKDyw13G8Wu6UL4GktT\nMXo5V+j7xqEkJcyQlqSEGdLSKFizoZk1G5pLXYbGoELeOCTGuBO4ubilaKw5PXRWLp9Vwkqk8cs9\naUlKmCEtSQkzpCUpYYa0JCXMkJakhBnSkpQwQ1qSElbQ56SlVHT39dDcsZe9HQc42NnCoa7DdJzs\noKP7GN293fTm++ju6aOMCtavr2di5QQmVTeRq53CrPoZzKybTnW2qtRtSAUzpJW0vnwvh3r2caB7\nF/++7gB72vfSm+/90Hy12Roqyyspz5SRB473dbDzaBt9+b4z5suQYXbDTBY3LmTppMUsabxslDqR\nLowhreT09vXy9uEtvHbwDV47spHu/AkAyk6UMad+FvMmzGF2wwym1uTI1U6moaKe8rL3h8ddv62V\n9o4ubr9mBu0nOzjc1cb+zhaaO/by7tE97Dq6m93tzTyz+wUqyyvJlc1lftXl9PZNP2M9UgoMaSWj\n9fhhXtr3Kmv3vsp7J48CUFNWz7zKpUyvmMeD190wrEMVZZkyJlZNYGLVBBZMnHfq/pO93ew8uouN\nrZvZeOhtmju30dy9jdd/9Qw3Tr+Om2dcz6z6GSPen3QhDGmVVD6fZ2Pr2zy35yU2H95KnjzV5dXc\nPmsFN07/CDu3l5HJZABG7FhyZXkFS5oWsaRpEZ9e9Al+um4DO0+8xb6+rTyz+wWe2f0C8ybM4a45\nt7M8d5V71yopQ1olkc/n2dS6mcd3PMW77XsAWDhxPrfMvJHrpl5NZXklALsyxR85rjGbY3n2Dv7w\n6t9iY+tm1u59lU2tm3lk0/9lcvUkPjrnNm6ecb1vOKokDGmNqnw+z4HuXfzP9T9m19HdZMhw3dSr\nuXf+XSU/xJAty7I8dxXLc1dxsLOFZ3a/yMv7XuVHW/+Fx3esZuXsW7hzzm0lrVGXHkNaoyKfz7P5\n8FaeOfpzDvfuB+Da3DI+vmAVM+unl7i6D5tam+O3w4Pcv2AVzzev5fk9L/FvO3/Js3t+xWUVy1lU\nvZyKTGWpy9QlwJBWUeXzeWLbNh7f8RTb39sJwKyKy/j8tZ8s+Z5zIRoq67l/wSo+NvcOntvzK365\n6zk2Hl/Llq5fs7T6elb05qgqN6xVPIa0imZL2zs8vmM1247sAGDZlCuYdvIamrJTx0RAn66qvJK7\n593JbbNW8P1Xn2BL12u8cfxF/vvaDdw9705unXkzleUVpS5T45AhrRG3tW07j+9YzdYj2wG4avLl\n3L9gFXMnzB7zXyFVk63mipobWVR1DVu6XmNH9+s8tvVn/HLXc9w7/y5+Y+YNZMv8sdLI8dWkEfPO\nkZ08vmM1sW0bAFdMDty/YBXzJ8wtcWUjr7KsiqtqV/Dwlffx9LvPs2b3i/zjlp/wy3ef4+MLPsYN\n0671o3saEYa0Llprzz6+teEJ3j68BYDLJy3h/gWrzjiBZLyqr6jjU5fdx51zbmX1zmd5oXktf/f2\nP7F617Pcv2AV1069mrKM45jpwhnSumCHe/az6fjL7O/eBcDSpsXcv3AVCyfOL21hJTChsoHPLPkk\nd829nSd2Ps3afa/yyKZHmbXrWT6x4G7y+YmnTsqRhsOQ1rDteG8XT+58mo1HNwOQy87mc1c/wKLG\nBSWurPSaqhv57NL/yKq5K3l8x1OsO/BrvvPmD5lUPo2raleQz880rDUshrQKks/n2XpkO0/ufPrU\nMecp2VlcWXMzUytms6hxVokrTEuudjIPX/nb3DP/Tn6+fTUbWt7k+fafsnv9r7ln/p1cNflyw1oF\nMaR1Xn35Pt5qjaze9SzvDHzOeWnTYu6dfxfNuzxNeigz6qbx+8se4ifrfs2m4y+z4+gO/vqNHzCz\nbjp3z7uT66Ze7RuMOi9DWmd1ovckr+xbx7N7XuRg5yEAlk25nHvm3cWCif2f1mjeNbY/TjeamrJT\nubXhkyxeVMZTu9aw7sAGfvDWP/Cz7b9g5ezf4OYZN1BbUVPqMpUgQ1pnaD1+mBeaX+bFva9wvOc4\n2Uw5N03/CB+dcxuzG2aWurwxb1b9DB6+8nf4xMK7eerd53h53zoe2/Zzfrb9F9w4/TrumH1LkqfJ\nq3QMaXGyt5sXdv47v9jyAlsGjjfXV9Rx3/yPcdusFUysaihxhePPlJrJ/E74NA8svIe1e1/l+ea1\nvLj3FV7c+wqLGhdw0/TruXbqMsD/+0udIX2J6sv38c6RHaw7+DrrD2zgeE8XAFOyM1lQdSW/e/1K\nKjzNuejqK+pYNW8ld829nY2HBsbVbtvKtiM7+IfNP2Z+7RLuXbyCpU2LPXZ9iTKkLyE9fT1saXuH\nDS1v8nrLJjq6jwEwsXIC91x+B117p9FQ3gRgQI+yskwZV+eu5OrclbQeP8w/bXiOnSfeZnvn23z7\n9bepq6jlqsmXc/WUK1g6aYljW19CDOlxLJ/Pc6DzIJsPbyO2bWNL2zt09fbvMTdU1HPrzJtYnlvG\nkqbLmD6tkR8d2FziigUwuWYSl9fcyNLqG+iqbONodhuvt2zklf3reWX/erJlWULTIi6ftITFjQuZ\nWT/dsxrHMUN6HDnZ282ejr3sOrqbnUffZWvb9lPfFQj9x0FXTL6ea3JXcVnjfH+wE5fJZJhaNZP7\nFi3jN5d8it3tzbxx6C3ePPQWm1o3s6m1/5dqbbaGRY0LWdy4gHkT5jKrfoZ72uOIIT0G9eX7aD3e\nxv7OA+w/dpD9xw7S3LGX5mP76cv3nZqvvqKOj0y9hqWTFhOaFjG5ZlIJq9bFKMuUMW/CHOZNmMMD\nC++h9XgbW4+8w9a27Ww9sp03Dm3ijUObAMiQYWptjjkNM5ldP5NptTmm1uaYUjPJEfrGoCGfsRBC\nGfBt4BrgBPCfYozbil3Ypepkbzcd3R10dB+j4+Qx2k920HbiCIe72jjcNXjdRndfzxnLVZRlmdcw\nh/kT5jB3wmzmT5hDrmaKZ7WNU5Nrmphccz03z7gegMNdbWw7soPd7c3sbm9mT8de1h04yLoDG04t\nkyHD5JpJ5Gom01Q1kcaqiTRWT6SxqpEJlfXUVdRSV1FHZVmFr5uEFPJr9T8A1THGFSGEm4G/AD41\n0oX05fvo7D5Onvyp+wZv5/P9U6ff13//mfO+P5n/8L/505c9bS35s23xw+v+4Db76ONIWTWHjrTT\n29dLb37g0tdLz8B1b76P3nwPvX19dPd1c6L3JCd6T3zg+iRdPV39odx9jJO9J8/7/1RXUcuMumlM\nq53K9LppTK+byozaqUypmey7/5ewSdVN3Di9iRunXwf0v05buw6zp2MfBztbONh56NT14GiF55It\ny1KXraGuoo66ilpqsjVUlldQWVZJVXkllQOXqvJKKssqKCsrpzxTNnApp7ysnLJM+RnT5ZkyjmUb\neK+j/z2RTCZD/6+BgeszpjP0/454/76ygV8ag788+h/pn29wros1nPVUncjQcfLYGfdVllec+gLl\nkVRISN8KPAkQY3w5hHD9iFcBfH/To7x28I1irDp5FWUV1FfUMa02R31FXf+lso76inoaKuporG5k\nUnUjTVWNwzrWODjA/srljqsxXp3+JQqnP8+ZTIYpNZOZUjP5Q8uc6D3JkRPv0dZ1ZOD6PTq6OzjW\n3fn+paeTthPvsffY/lHpYzzIlmX5bzf+MVNrcyO63szpe4xnE0L4LvBYjPGJgel3gYUxxp7zLihJ\numiFvL1/lDNPeyozoCVpdBQS0r8CPg4wcEz6zaJWJEk6pZBj0j8BVoUQXgIywBeKW5IkadCQx6Ql\nSaXjKWeSlDBDWpISZkhLUsJG9UT+EEId8CjQBJwEPh9jHJPfwRRCmAj8PTABqAT+JMa4trRVXZwQ\nwoPAb8YYP1vqWoZrPA5fEEK4CfgfMcaVpa7lQoUQKoBHgPlAFfCnMcZ/LWlRFyiEUA78DRDoP5X5\nSzHGjcXe7mjvSf8+sD7GeDv9AfeVUd7+SPoT4OkY4x3Aw8BflbacixNC+Evgzxm7f12dGr4A+K/0\nD18wZoUQvgJ8F6gudS0X6XNAa4zxNuBe4FslrudiPAAQY7wF+AbwZ6Ox0VH9gYwx/h/eb2wucGQ0\ntz/C/jfwnYHbWaCrhLWMhJeA/1zqIi7CGcMXAEUZvmAUvQN8utRFjIAfAd8cuJ0BxuyJcDHGnwJ/\nMDA5j1HKr6Id7ggh/B7wxx+4+wsxxldDCM8Ay4BVxdr+SBqil+n0/1Xw5dGvbPjO08s/hhBWlqCk\nkTIBeO+06d4QQnasnh0bY3wshDC/1HVcrBhjB0AIoQH4Z/r3QMesGGNPCOGHwIPAZ0Zjm0UL6Rjj\n94DvneOxj4YQlgKPA5cVq4aRcq5eQgjLgP8H/JcY43OjXtgFON/zMsY5fEGiQghz6D8p7tsxxkdL\nXc/FijF+PoTwVeCVEMIVMcZjQy50EUb1cEcI4WshhIcGJjuA3tHc/kgKIVxB/59ynx0cfEol5fAF\nCQohTANWA1+NMT5S6nouRgjhoRDC1wYmO4G+gUtRjfbXNDwC/HDgT+5yxvYp5n9O/5s6fxlCAHgv\nxjji42yrYA5fkKav0/9prm+GEAaPTd8XYzxewpou1I+B74cQngcqgC+PRh+eFi5JCRurH7eSpEuC\nIS1JCTOkJSlhhrQkJcyQlqSEGdKSlDBDWpIS9v8BIwFvIGbethoAAAAASUVORK5CYII=\n",
      "text/plain": [
       "<matplotlib.figure.Figure at 0x10886bf98>"
>>>>>>> upstream/master
      ]
     },
     "metadata": {},
     "output_type": "display_data"
    }
   ],
   "source": [
    "# import module with Markov approximation methods\n",
    "import sys\n",
    "sys.path.append('../Code')\n",
    "import ar1_approx as ar1\n",
    "\n",
    "# Use Rouwenhorst (1995) method\n",
    "N = 11\n",
    "num_sigma = 4\n",
    "step = (num_sigma * sigma_z) / (N / 2)\n",
    "pi_R, z_grid_R = ar1.rouwen(rho, mu, step, N)\n",
    "z_discrete_R = sim_markov(z_grid_R, pi_R, num_draws)\n",
    "\n",
    "# Plot AR(1) and Markov approximation\n",
    "sns.distplot(z_discrete_R, hist=True, kde=False, norm_hist=True)\n",
    "sns.kdeplot(np.array(z), bw=0.5)"
   ]
  },
  {
   "cell_type": "code",
<<<<<<< HEAD
   "execution_count": 48,
=======
   "execution_count": 9,
>>>>>>> upstream/master
   "metadata": {
    "collapsed": false
   },
   "outputs": [
    {
<<<<<<< HEAD
     "name": "stderr",
     "output_type": "stream",
     "text": [
      "/Users/Jan/anaconda/lib/python3.6/site-packages/statsmodels/nonparametric/kdetools.py:20: VisibleDeprecationWarning: using a non-integer number instead of an integer will result in an error in the future\n",
      "  y = X[:m/2+1] + np.r_[0,X[m/2+1:],0]*1j\n"
     ]
    },
    {
     "data": {
      "text/plain": [
       "<matplotlib.axes._subplots.AxesSubplot at 0x119169710>"
      ]
     },
     "execution_count": 48,
=======
     "data": {
      "text/plain": [
       "<matplotlib.axes._subplots.AxesSubplot at 0x108885748>"
      ]
     },
     "execution_count": 9,
>>>>>>> upstream/master
     "metadata": {},
     "output_type": "execute_result"
    },
    {
     "data": {
<<<<<<< HEAD
      "image/png": "iVBORw0KGgoAAAANSUhEUgAAAWkAAAD3CAYAAADfYKXJAAAABHNCSVQICAgIfAhkiAAAAAlwSFlz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\nAAAAAElFTkSuQmCC\n",
      "text/plain": [
       "<matplotlib.figure.Figure at 0x118cef5f8>"
=======
      "image/png": "iVBORw0KGgoAAAANSUhEUgAAAWkAAAD3CAYAAADfYKXJAAAABHNCSVQICAgIfAhkiAAAAAlwSFlz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\nSUqYIS1JCfv/xOa9iMWNNGAAAAAASUVORK5CYII=\n",
      "text/plain": [
       "<matplotlib.figure.Figure at 0x11661f908>"
>>>>>>> upstream/master
      ]
     },
     "metadata": {},
     "output_type": "display_data"
    }
   ],
   "source": [
    "# Use Tauchen and Hussey (1991) method\n",
    "wgt = 0.5 + rho / 4\n",
    "baseSigma = wgt * sigma_eps + (1 - wgt) * sigma_z \n",
    "N_TH = 8\n",
    "z_grid_TH, pi_TH = ar1.tauchenhussey(N_TH, mu, rho, sigma_eps, baseSigma)\n",
    "z_discrete_TH = sim_markov(z_grid_TH[0], np.transpose(pi_TH), num_draws)\n",
    "\n",
    "# Plot AR(1) and Markov approximation\n",
    "sns.distplot(z_discrete_TH, hist=True, kde=False, norm_hist=True)\n",
    "sns.kdeplot(np.array(z), bw=0.5)"
   ]
  },
  {
   "cell_type": "markdown",
   "metadata": {},
   "source": [
    "One caution here, if `N>8`, the results get a bit weird with represted values for in the $z$ grid and an asymetric distribution when simulated.  I'm not sure why grid points are repeated in thh $z$ grid, but I will look into this."
   ]
  },
  {
   "cell_type": "code",
<<<<<<< HEAD
   "execution_count": 49,
=======
   "execution_count": 10,
>>>>>>> upstream/master
   "metadata": {
    "collapsed": false
   },
   "outputs": [
    {
<<<<<<< HEAD
     "name": "stderr",
     "output_type": "stream",
     "text": [
      "/Users/Jan/anaconda/lib/python3.6/site-packages/statsmodels/nonparametric/kdetools.py:20: VisibleDeprecationWarning: using a non-integer number instead of an integer will result in an error in the future\n",
      "  y = X[:m/2+1] + np.r_[0,X[m/2+1:],0]*1j\n"
     ]
    },
    {
     "data": {
      "text/plain": [
       "<matplotlib.axes._subplots.AxesSubplot at 0x1193426d8>"
      ]
     },
     "execution_count": 49,
=======
     "data": {
      "text/plain": [
       "<matplotlib.axes._subplots.AxesSubplot at 0x11703bcc0>"
      ]
     },
     "execution_count": 10,
>>>>>>> upstream/master
     "metadata": {},
     "output_type": "execute_result"
    },
    {
     "data": {
<<<<<<< HEAD
      "image/png": "iVBORw0KGgoAAAANSUhEUgAAAXIAAAD4CAYAAADxeG0DAAAABHNCSVQICAgIfAhkiAAAAAlwSFlz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\nrkJggg==\n",
      "text/plain": [
       "<matplotlib.figure.Figure at 0x118a49da0>"
=======
      "image/png": "iVBORw0KGgoAAAANSUhEUgAAAXIAAAD4CAYAAADxeG0DAAAABHNCSVQICAgIfAhkiAAAAAlwSFlz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\n",
      "text/plain": [
       "<matplotlib.figure.Figure at 0x11703b390>"
>>>>>>> upstream/master
      ]
     },
     "metadata": {},
     "output_type": "display_data"
    }
   ],
   "source": [
    "# Use Adda and Cooper (2003) method\n",
    "z_grid_AC, pi_AC = ar1.addacooper(N, mu, rho, sigma_eps)\n",
    "z_discrete_AC = sim_markov(z_grid_AC, np.transpose(pi_AC), num_draws)\n",
    "\n",
    "# Plot AR(1) and Markov approximation\n",
    "sns.distplot(z_discrete_AC, hist=True, kde=False, norm_hist=True)\n",
    "sns.kdeplot(np.array(z), bw=0.5)"
   ]
  },
  {
   "cell_type": "markdown",
   "metadata": {},
   "source": [
    "Three 3 plots are highly illustrative of the approaches these different methods take.  Rouwenhorst (1995) chooses and evenly spaced grid over $z$ and then fits the transition matrix over these points to produced the normal distribution found in the stationary distribution of $z$. Adda and Cooper (2003) break the the real line up into intervals with equal probability density and we see this in the density that results from the Markov process.  Tauchen and Hussey (1991) is somewhat between the other two methods in this repsect.  The grid for $z$ is not evenly spaced, but the probability density of any particular grid point varies in the stationary distribution.\n",
    "\n",
    "Also notice how the range of values in the $z$ grid changes across methods.  The Rouwenhorst (1995) and Tauchen and Hussey (1991) methods allow you to set this range with `step` and `baseSigma`, respectively.\n",
    "\n",
    "You can play around with `N`, $\\rho$, $\\sigma_{\\varepsilon}$, and see how these approximations perform.  For a rigorous comparison of these approaches, please see Kopecky and Suen (2010).  They find that the Rouwenhorst (1995) method outperforms the others when $\\rho$ is close to one.  You might consider the peristence and variability in the shocks to your autoregressive process when choosing the most appropriate method for your problem."
   ]
  },
  {
   "cell_type": "code",
<<<<<<< HEAD
   "execution_count": 50,
=======
   "execution_count": 11,
>>>>>>> upstream/master
   "metadata": {
    "collapsed": false
   },
   "outputs": [
    {
<<<<<<< HEAD
     "name": "stderr",
     "output_type": "stream",
     "text": [
      "/Users/Jan/anaconda/lib/python3.6/site-packages/statsmodels/nonparametric/kdetools.py:20: VisibleDeprecationWarning: using a non-integer number instead of an integer will result in an error in the future\n",
      "  y = X[:m/2+1] + np.r_[0,X[m/2+1:],0]*1j\n"
     ]
    },
    {
     "data": {
      "text/plain": [
       "<matplotlib.axes._subplots.AxesSubplot at 0x11952e080>"
      ]
     },
     "execution_count": 50,
=======
     "data": {
      "text/plain": [
       "<matplotlib.axes._subplots.AxesSubplot at 0x11aa6de10>"
      ]
     },
     "execution_count": 11,
>>>>>>> upstream/master
     "metadata": {},
     "output_type": "execute_result"
    },
    {
     "data": {
<<<<<<< HEAD
      "image/png": "iVBORw0KGgoAAAANSUhEUgAAAWkAAAD7CAYAAACoomWyAAAABHNCSVQICAgIfAhkiAAAAAlwSFlz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\nkhJmSEtSwgxpSUqYIS1JCfv/A9O8M6Se08AAAAAASUVORK5CYII=\n",
      "text/plain": [
       "<matplotlib.figure.Figure at 0x118776f28>"
=======
      "image/png": "iVBORw0KGgoAAAANSUhEUgAAAWkAAAD4CAYAAAAuNhccAAAABHNCSVQICAgIfAhkiAAAAAlwSFlz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\nGdKSlDBDWpIS9v8BotqnTUoO18cAAAAASUVORK5CYII=\n",
      "text/plain": [
       "<matplotlib.figure.Figure at 0x1171af860>"
>>>>>>> upstream/master
      ]
     },
     "metadata": {},
     "output_type": "display_data"
    }
   ],
   "source": [
    "# Try the Tauchen method from QuantEcon\n",
    "from quantecon import tauchen\n",
    "\n",
    "qe_result = tauchen(rho, sigma_eps, 3, N)\n",
    "pi_QE = qe_result.P\n",
    "z_grid_QE = np.linspace(-3*sigma_z, 3*sigma_z, N) # why can't this be returned from call to function??\n",
    "z_discrete_QE = sim_markov(z_grid_QE, np.transpose(pi_QE), num_draws)\n",
    "\n",
    "# Plot AR(1) and Markov approximation\n",
    "sns.distplot(z_discrete_QE, hist=True, kde=False, norm_hist=True)\n",
    "sns.kdeplot(np.array(z), bw=0.5)"
   ]
  },
  {
   "cell_type": "markdown",
   "metadata": {},
   "source": [
    "This looks close to Rouwenhorst since it also uses an evenly spaced grid.  I'm not sure why the `quantecon.tauchen` method only returns the transition matrix... maybe becuase it's simply a linear spaced grid over the specied range of the distribution."
   ]
  },
  {
   "cell_type": "markdown",
   "metadata": {},
   "source": [
    "## 3. References\n",
    "* Adda, Jerome and Russell Cooper, *Dynamic Economics: Quantitative Methods and Applications*, MIT Press (2003).\n",
    "* Kopecky, Karen and Richard Suen, \"Finite State Markov-chain Approximations to Highly Persistent Processes\", *Review of Economic Dynamics*, 13:3, pp. 701-714 (July 2010)\n",
    "* Rouwenhorst, K Geert, \"Asset Pricing Implications of Equilibrium Business Cycle Models\", in *Frontiers of Business Cycle Research* (Thomas F. Cooley Ed.), Princeton University Press (1995).\n",
    "* Tauchen, George and Robert Hussey, \"Quadrature-Based Methods for Obtaining Approximate Solutions to Nonlinear Asset Pricing Models\", *Econometrica*, 59:2, pp. 371-396, (1991)."
   ]
  },
  {
   "cell_type": "code",
   "execution_count": null,
   "metadata": {
    "collapsed": true
   },
   "outputs": [],
   "source": []
  },
  {
   "cell_type": "code",
   "execution_count": null,
   "metadata": {
    "collapsed": true
   },
   "outputs": [],
   "source": []
  },
  {
   "cell_type": "code",
   "execution_count": null,
   "metadata": {
    "collapsed": true
   },
   "outputs": [],
   "source": []
  },
  {
   "cell_type": "code",
   "execution_count": null,
   "metadata": {
    "collapsed": true
   },
   "outputs": [],
   "source": []
  },
  {
   "cell_type": "code",
   "execution_count": null,
   "metadata": {
    "collapsed": true
   },
   "outputs": [],
   "source": []
  }
 ],
 "metadata": {
  "kernelspec": {
   "display_name": "Python 3",
   "language": "python",
   "name": "python3"
  },
  "language_info": {
   "codemirror_mode": {
    "name": "ipython",
    "version": 3
   },
   "file_extension": ".py",
   "mimetype": "text/x-python",
   "name": "python",
   "nbconvert_exporter": "python",
   "pygments_lexer": "ipython3",
   "version": "3.6.0"
  }
 },
 "nbformat": 4,
 "nbformat_minor": 2
}
